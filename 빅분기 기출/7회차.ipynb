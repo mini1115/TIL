{
  "nbformat": 4,
  "nbformat_minor": 0,
  "metadata": {
    "colab": {
      "provenance": [],
      "authorship_tag": "ABX9TyOwlKjxTz2MHGA1b3+Mnte/",
      "include_colab_link": true
    },
    "kernelspec": {
      "name": "python3",
      "display_name": "Python 3"
    },
    "language_info": {
      "name": "python"
    }
  },
  "cells": [
    {
      "cell_type": "markdown",
      "metadata": {
        "id": "view-in-github",
        "colab_type": "text"
      },
      "source": [
        "<a href=\"https://colab.research.google.com/github/mini1115/TIL/blob/master/%EB%B9%85%EB%B6%84%EA%B8%B0%20%EA%B8%B0%EC%B6%9C/7%ED%9A%8C%EC%B0%A8.ipynb\" target=\"_parent\"><img src=\"https://colab.research.google.com/assets/colab-badge.svg\" alt=\"Open In Colab\"/></a>"
      ]
    },
    {
      "cell_type": "code",
      "source": [
        "from google.colab import files\n",
        "uploaded = files.upload()"
      ],
      "metadata": {
        "id": "f9YDkarw19pk",
        "outputId": "5fb1b558-f673-4934-d78c-5820323125be",
        "colab": {
          "base_uri": "https://localhost:8080/",
          "height": 113
        }
      },
      "execution_count": 259,
      "outputs": [
        {
          "output_type": "display_data",
          "data": {
            "text/plain": [
              "<IPython.core.display.HTML object>"
            ],
            "text/html": [
              "\n",
              "     <input type=\"file\" id=\"files-bab82cf4-042f-447e-916c-6f12eb87b3fd\" name=\"files[]\" multiple disabled\n",
              "        style=\"border:none\" />\n",
              "     <output id=\"result-bab82cf4-042f-447e-916c-6f12eb87b3fd\">\n",
              "      Upload widget is only available when the cell has been executed in the\n",
              "      current browser session. Please rerun this cell to enable.\n",
              "      </output>\n",
              "      <script>// Copyright 2017 Google LLC\n",
              "//\n",
              "// Licensed under the Apache License, Version 2.0 (the \"License\");\n",
              "// you may not use this file except in compliance with the License.\n",
              "// You may obtain a copy of the License at\n",
              "//\n",
              "//      http://www.apache.org/licenses/LICENSE-2.0\n",
              "//\n",
              "// Unless required by applicable law or agreed to in writing, software\n",
              "// distributed under the License is distributed on an \"AS IS\" BASIS,\n",
              "// WITHOUT WARRANTIES OR CONDITIONS OF ANY KIND, either express or implied.\n",
              "// See the License for the specific language governing permissions and\n",
              "// limitations under the License.\n",
              "\n",
              "/**\n",
              " * @fileoverview Helpers for google.colab Python module.\n",
              " */\n",
              "(function(scope) {\n",
              "function span(text, styleAttributes = {}) {\n",
              "  const element = document.createElement('span');\n",
              "  element.textContent = text;\n",
              "  for (const key of Object.keys(styleAttributes)) {\n",
              "    element.style[key] = styleAttributes[key];\n",
              "  }\n",
              "  return element;\n",
              "}\n",
              "\n",
              "// Max number of bytes which will be uploaded at a time.\n",
              "const MAX_PAYLOAD_SIZE = 100 * 1024;\n",
              "\n",
              "function _uploadFiles(inputId, outputId) {\n",
              "  const steps = uploadFilesStep(inputId, outputId);\n",
              "  const outputElement = document.getElementById(outputId);\n",
              "  // Cache steps on the outputElement to make it available for the next call\n",
              "  // to uploadFilesContinue from Python.\n",
              "  outputElement.steps = steps;\n",
              "\n",
              "  return _uploadFilesContinue(outputId);\n",
              "}\n",
              "\n",
              "// This is roughly an async generator (not supported in the browser yet),\n",
              "// where there are multiple asynchronous steps and the Python side is going\n",
              "// to poll for completion of each step.\n",
              "// This uses a Promise to block the python side on completion of each step,\n",
              "// then passes the result of the previous step as the input to the next step.\n",
              "function _uploadFilesContinue(outputId) {\n",
              "  const outputElement = document.getElementById(outputId);\n",
              "  const steps = outputElement.steps;\n",
              "\n",
              "  const next = steps.next(outputElement.lastPromiseValue);\n",
              "  return Promise.resolve(next.value.promise).then((value) => {\n",
              "    // Cache the last promise value to make it available to the next\n",
              "    // step of the generator.\n",
              "    outputElement.lastPromiseValue = value;\n",
              "    return next.value.response;\n",
              "  });\n",
              "}\n",
              "\n",
              "/**\n",
              " * Generator function which is called between each async step of the upload\n",
              " * process.\n",
              " * @param {string} inputId Element ID of the input file picker element.\n",
              " * @param {string} outputId Element ID of the output display.\n",
              " * @return {!Iterable<!Object>} Iterable of next steps.\n",
              " */\n",
              "function* uploadFilesStep(inputId, outputId) {\n",
              "  const inputElement = document.getElementById(inputId);\n",
              "  inputElement.disabled = false;\n",
              "\n",
              "  const outputElement = document.getElementById(outputId);\n",
              "  outputElement.innerHTML = '';\n",
              "\n",
              "  const pickedPromise = new Promise((resolve) => {\n",
              "    inputElement.addEventListener('change', (e) => {\n",
              "      resolve(e.target.files);\n",
              "    });\n",
              "  });\n",
              "\n",
              "  const cancel = document.createElement('button');\n",
              "  inputElement.parentElement.appendChild(cancel);\n",
              "  cancel.textContent = 'Cancel upload';\n",
              "  const cancelPromise = new Promise((resolve) => {\n",
              "    cancel.onclick = () => {\n",
              "      resolve(null);\n",
              "    };\n",
              "  });\n",
              "\n",
              "  // Wait for the user to pick the files.\n",
              "  const files = yield {\n",
              "    promise: Promise.race([pickedPromise, cancelPromise]),\n",
              "    response: {\n",
              "      action: 'starting',\n",
              "    }\n",
              "  };\n",
              "\n",
              "  cancel.remove();\n",
              "\n",
              "  // Disable the input element since further picks are not allowed.\n",
              "  inputElement.disabled = true;\n",
              "\n",
              "  if (!files) {\n",
              "    return {\n",
              "      response: {\n",
              "        action: 'complete',\n",
              "      }\n",
              "    };\n",
              "  }\n",
              "\n",
              "  for (const file of files) {\n",
              "    const li = document.createElement('li');\n",
              "    li.append(span(file.name, {fontWeight: 'bold'}));\n",
              "    li.append(span(\n",
              "        `(${file.type || 'n/a'}) - ${file.size} bytes, ` +\n",
              "        `last modified: ${\n",
              "            file.lastModifiedDate ? file.lastModifiedDate.toLocaleDateString() :\n",
              "                                    'n/a'} - `));\n",
              "    const percent = span('0% done');\n",
              "    li.appendChild(percent);\n",
              "\n",
              "    outputElement.appendChild(li);\n",
              "\n",
              "    const fileDataPromise = new Promise((resolve) => {\n",
              "      const reader = new FileReader();\n",
              "      reader.onload = (e) => {\n",
              "        resolve(e.target.result);\n",
              "      };\n",
              "      reader.readAsArrayBuffer(file);\n",
              "    });\n",
              "    // Wait for the data to be ready.\n",
              "    let fileData = yield {\n",
              "      promise: fileDataPromise,\n",
              "      response: {\n",
              "        action: 'continue',\n",
              "      }\n",
              "    };\n",
              "\n",
              "    // Use a chunked sending to avoid message size limits. See b/62115660.\n",
              "    let position = 0;\n",
              "    do {\n",
              "      const length = Math.min(fileData.byteLength - position, MAX_PAYLOAD_SIZE);\n",
              "      const chunk = new Uint8Array(fileData, position, length);\n",
              "      position += length;\n",
              "\n",
              "      const base64 = btoa(String.fromCharCode.apply(null, chunk));\n",
              "      yield {\n",
              "        response: {\n",
              "          action: 'append',\n",
              "          file: file.name,\n",
              "          data: base64,\n",
              "        },\n",
              "      };\n",
              "\n",
              "      let percentDone = fileData.byteLength === 0 ?\n",
              "          100 :\n",
              "          Math.round((position / fileData.byteLength) * 100);\n",
              "      percent.textContent = `${percentDone}% done`;\n",
              "\n",
              "    } while (position < fileData.byteLength);\n",
              "  }\n",
              "\n",
              "  // All done.\n",
              "  yield {\n",
              "    response: {\n",
              "      action: 'complete',\n",
              "    }\n",
              "  };\n",
              "}\n",
              "\n",
              "scope.google = scope.google || {};\n",
              "scope.google.colab = scope.google.colab || {};\n",
              "scope.google.colab._files = {\n",
              "  _uploadFiles,\n",
              "  _uploadFilesContinue,\n",
              "};\n",
              "})(self);\n",
              "</script> "
            ]
          },
          "metadata": {}
        },
        {
          "output_type": "stream",
          "name": "stdout",
          "text": [
            "Saving system_cpu.csv to system_cpu.csv\n",
            "Saving clam.csv to clam.csv\n"
          ]
        }
      ]
    },
    {
      "cell_type": "markdown",
      "source": [
        "# **작업형1**"
      ],
      "metadata": {
        "id": "DhLkZq4I31gg"
      }
    },
    {
      "cell_type": "markdown",
      "source": [
        "Q1.\n",
        "- 결측치가 있는 행을 제거한 후\n",
        "- 학생이 가장 많이 수강한 과목을 찾고\n",
        "- 해당 과목 점수를 표준화(스탠다드 스케일)한 후 가장 큰 표준화 값을 구하시오."
      ],
      "metadata": {
        "id": "iimdrUYk34x6"
      }
    },
    {
      "cell_type": "code",
      "source": [
        "import pandas as pd\n",
        "df = pd.read_csv('student_assessment.csv')\n",
        "\n",
        "df =df.dropna()\n",
        "id = df['id_assessment'].value_counts().idxmax()\n",
        "cond = df['id_assessment']==id\n",
        "df =df[cond]\n",
        "\n",
        "from sklearn.preprocessing import StandardScaler\n",
        "scaler = StandardScaler()\n",
        "\n",
        "df['score'] = scaler.fit_transform(df[['score']])\n",
        "round(df['score'].max(),3)"
      ],
      "metadata": {
        "id": "-oHZK_4s29cQ",
        "outputId": "cab9d02c-233c-451c-db4e-837b7670606e",
        "colab": {
          "base_uri": "https://localhost:8080/"
        }
      },
      "execution_count": 195,
      "outputs": [
        {
          "output_type": "execute_result",
          "data": {
            "text/plain": [
              "2.183"
            ]
          },
          "metadata": {},
          "execution_count": 195
        }
      ]
    },
    {
      "cell_type": "markdown",
      "source": [
        "Q2. DE ~ DE77 컬럼중 주가지수의 종가'CLOSE' 와 가장 상관관계가 높은 변수를 찾아 해당 변수의 평균값을 구하시오.\n"
      ],
      "metadata": {
        "id": "0VyFsTUJ6BT7"
      }
    },
    {
      "cell_type": "code",
      "source": [
        "import pandas as pd\n",
        "df = pd.read_csv('stock_market.csv')\n",
        "df_corr = df.corr()['close'].abs()\n",
        "\n",
        "col = df_corr.loc['DE1':'DE77'].idxmax()\n",
        "\n",
        "round(df['DE14'].mean(),4)"
      ],
      "metadata": {
        "id": "FM6sxRcI4zUe",
        "outputId": "5a9478f2-ec31-446f-eea4-843b13320168",
        "colab": {
          "base_uri": "https://localhost:8080/",
          "height": 36
        }
      },
      "execution_count": 207,
      "outputs": [
        {
          "output_type": "execute_result",
          "data": {
            "text/plain": [
              "'DE14'"
            ],
            "application/vnd.google.colaboratory.intrinsic+json": {
              "type": "string"
            }
          },
          "metadata": {},
          "execution_count": 207
        }
      ]
    },
    {
      "cell_type": "markdown",
      "source": [
        "Q3. IQR을 이용해 이산화탄소(CO2)이상치 수를 찾으시오.\n",
        "- Q1 : 0.25\n",
        "- Q3 : 0.75\n",
        "- IQR : Q3-Q1\n",
        "- 하한선 : Q1 - 1.5 * IQR\n",
        "- 상한선 : Q3 + 1.5 * IQR"
      ],
      "metadata": {
        "id": "B9NBQ-HP708V"
      }
    },
    {
      "cell_type": "code",
      "source": [
        "import pandas as pd\n",
        "df = pd.read_csv('air_quality.csv')\n",
        "\n",
        "Q1 = df['CO2'].quantile(0.25)\n",
        "Q3 = df['CO2'].quantile(0.75)\n",
        "IQR = Q3 - Q1\n",
        "\n",
        "lower = Q1 - (1.5*IQR)\n",
        "upper = Q3 + (1.5*IQR)\n",
        "\n",
        "cond1 = df['CO2'] < lower\n",
        "cond2 = df['CO2'] > upper\n",
        "ans = df[cond1 | cond2]\n",
        "len(ans)"
      ],
      "metadata": {
        "id": "kXMrUFUs8Apg",
        "outputId": "c02dcbb4-ec3a-4a52-922d-b9a4cc2e986f",
        "colab": {
          "base_uri": "https://localhost:8080/"
        }
      },
      "execution_count": 218,
      "outputs": [
        {
          "output_type": "execute_result",
          "data": {
            "text/plain": [
              "304"
            ]
          },
          "metadata": {},
          "execution_count": 218
        }
      ]
    },
    {
      "cell_type": "markdown",
      "source": [
        "# **작업형2**\n",
        "\n",
        "Q. W-mart 매장의 판매 데이터를 기반으로 판매액을 예측하시오.\n",
        "  - 예측할 컬럼 total(총 판매액)\n",
        "  - pred : 예측된 총 판매액\n",
        "  - 제출 파일명 'result.csv'\n",
        "  - 평가지표 RMSE\n",
        "  "
      ],
      "metadata": {
        "id": "rk9TxSDG9OXQ"
      }
    },
    {
      "cell_type": "code",
      "source": [
        "train = pd.read_csv('mart_train.csv')\n",
        "test = pd.read_csv('mart_test.csv')\n",
        "\n",
        "# train.shape,test.shape\n",
        "# train.head()\n",
        "# train.isnull().sum()\n",
        "# test.isnull().sum()\n",
        "\n",
        "# train.describe(include='O')\n",
        "target = train.pop('total')\n",
        "\n",
        "# combined = pd.concat([train,test])\n",
        "# combined_oh = pd.get_dummies(combined)\n",
        "# train = combined_oh[:len(train)]\n",
        "# test = combined_oh[:len(train)]\n",
        "\n",
        "from sklearn.preprocessing import LabelEncoder\n",
        "cols = train.select_dtypes(include='O')\n",
        "for col in cols:\n",
        "  le = LabelEncoder()\n",
        "  train[col] = le.fit_transform(train[col])\n",
        "  test[col] = le.fit_transform(test[col])\n",
        "\n",
        "from sklearn.preprocessing import StandardScaler\n",
        "scaler = StandardScaler()\n",
        "cols = train.select_dtypes(include=['int64', 'float64']).columns\n",
        "train[cols] = scaler.fit_transform(train[cols])\n",
        "test[cols] = scaler.transform(test[cols])\n",
        "\n",
        "from sklearn.model_selection import train_test_split\n",
        "X_tr,X_val,y_tr,y_val = train_test_split(train,target,test_size=0.2,random_state=0)\n",
        "# X_tr.shape,X_val.shape,y_tr.shape,y_val.shape\n",
        "\n",
        "# from sklearn.ensemble import RandomForestRegressor\n",
        "# rf = RandomForestRegressor(random_state=0)\n",
        "# rf.fit(X_tr,y_tr)\n",
        "# pred = rf.predict(X_val)\n",
        "\n",
        "from sklearn.linear_model import LinearRegression\n",
        "lr = LinearRegression()\n",
        "lr.fit(X_tr,y_tr)\n",
        "pred = lr.predict(X_val)\n",
        "\n",
        "\n",
        "# import lightgbm as lgb\n",
        "# lg = lgb.LGBMRegressor(random_state=0,verbose=-1)\n",
        "# lg.fit(X_tr,y_tr)\n",
        "# pred = lg.predict(X_val)\n",
        "\n",
        "from sklearn.metrics import root_mean_squared_error\n",
        "score = root_mean_squared_error(y_val,pred)\n",
        "print(score)\n",
        "#371070.1344734549\n",
        "\n",
        "pred = lr.predict(test)\n",
        "sumbit = pd.DataFrame({'pred':pred})\n",
        "sumbit.to_csv('result.csv',index=False)\n"
      ],
      "metadata": {
        "id": "dm4lpuVn9d0k",
        "outputId": "b731fde9-a0bf-4bb5-d1a4-c6080f672cf8",
        "colab": {
          "base_uri": "https://localhost:8080/"
        }
      },
      "execution_count": 258,
      "outputs": [
        {
          "output_type": "stream",
          "name": "stdout",
          "text": [
            "371070.1344734549\n"
          ]
        }
      ]
    },
    {
      "cell_type": "markdown",
      "source": [
        "# **작업형3**"
      ],
      "metadata": {
        "id": "3z9MIP5YEQnI"
      }
    },
    {
      "cell_type": "markdown",
      "source": [
        "Q.1 로지스틱 회귀\n",
        "조개 정보를 나타낸 데이터다. 주어진 데이터에서 300개 중 앞에서부터 210개는 TRAIN 뒤에 90개는 TEST로 나눈다.<br/>\n",
        "모델을 학습할땐 TRAIN데이터를 사용하고 예측할떄는 TEST 데이터 사용한다.<br/>\n",
        "다중 로지스틱 회귀를 써서 성별을 예측하되 페널티는 부과하지 않는다.\n"
      ],
      "metadata": {
        "id": "Tpn39IntFLcp"
      }
    },
    {
      "cell_type": "code",
      "source": [
        "data = pd.read_csv('clam.csv')\n",
        "train = data[:210]\n",
        "test = data[210:]\n",
        "# train.shape,test.shape\n",
        "\n",
        "import numpy as np\n",
        "from statsmodels.formula.api import logit\n",
        "formula = \"gender ~ weight\"\n",
        "model = logit(formula,data=train).fit()\n",
        "odds_ratio = np.exp(model.params['weight'])\n",
        "round(odds_ratio,4)"
      ],
      "metadata": {
        "id": "cOeGS62ZFdbY",
        "outputId": "82dc47bd-b24a-4b7e-a92f-6395f5ae74b2",
        "colab": {
          "base_uri": "https://localhost:8080/"
        }
      },
      "execution_count": 283,
      "outputs": [
        {
          "output_type": "stream",
          "name": "stdout",
          "text": [
            "Optimization terminated successfully.\n",
            "         Current function value: 0.690045\n",
            "         Iterations 4\n"
          ]
        },
        {
          "output_type": "execute_result",
          "data": {
            "text/plain": [
              "1.0047"
            ]
          },
          "metadata": {},
          "execution_count": 283
        }
      ]
    },
    {
      "cell_type": "code",
      "source": [
        "data = pd.read_csv('clam.csv')\n",
        "train = data[:210]\n",
        "test = data[210:]\n",
        "\n",
        "train.columns\n",
        "from statsmodels.formula.api import logit\n",
        "\n",
        "formula = 'gender ~ age+length+diameter+height+weight'\n",
        "model = logit(formula,data=train).fit()\n",
        "model.summary()\n",
        "round(model.llf * -2,2)"
      ],
      "metadata": {
        "id": "VH3xhjb9Hp41",
        "outputId": "a861f91a-e1c3-4bae-d458-7c7fd2e23312",
        "colab": {
          "base_uri": "https://localhost:8080/"
        }
      },
      "execution_count": 287,
      "outputs": [
        {
          "output_type": "stream",
          "name": "stdout",
          "text": [
            "Optimization terminated successfully.\n",
            "         Current function value: 0.683173\n",
            "         Iterations 4\n"
          ]
        },
        {
          "output_type": "execute_result",
          "data": {
            "text/plain": [
              "286.93"
            ]
          },
          "metadata": {},
          "execution_count": 287
        }
      ]
    },
    {
      "cell_type": "code",
      "source": [
        "data = pd.read_csv('clam.csv')\n",
        "train = data[:210]\n",
        "test = data[210:]\n",
        "\n",
        "from statsmodels.formula.api import logit\n",
        "formula = \"gender ~ weight\"\n",
        "model = logit(formula,data=test).fit()\n",
        "target = test.pop('gender')\n",
        "\n",
        "from sklearn.metrics import accuracy_score\n",
        "pred = model.predict(test)\n",
        "# 각 관측치가 1에 속할 확률\n",
        "pred = (pred>0.5).astype(int)\n",
        "\n",
        "accuracy_score = accuracy_score(target,pred)\n",
        "ans = (1-accuracy_score)\n",
        "print(round(ans,3))"
      ],
      "metadata": {
        "id": "jMDZRFGuIKq7",
        "outputId": "7e024deb-80f2-4a3f-835f-2e3224154292",
        "colab": {
          "base_uri": "https://localhost:8080/"
        }
      },
      "execution_count": 297,
      "outputs": [
        {
          "output_type": "stream",
          "name": "stdout",
          "text": [
            "Optimization terminated successfully.\n",
            "         Current function value: 0.688801\n",
            "         Iterations 4\n",
            "0.422\n"
          ]
        }
      ]
    },
    {
      "cell_type": "markdown",
      "source": [
        "- Q1. ERP와 상관관계가 높은 값을 구하시오.<BR/>\n",
        "- Q2. CPU 컬럼이 100미만인 것만 찾아 ERP종속변수, 나머지 변수들은 독립변수로 설정해 <BR/>\n",
        "선형 회귀 모델을 만들고 적합한 결정계수를 구하시오.\n",
        "- Q3. Q2의 독립변수중 가장 높은 변수를 찾으시오"
      ],
      "metadata": {
        "id": "ru_H0oLcJlSg"
      }
    },
    {
      "cell_type": "code",
      "source": [
        "df = pd.read_csv('system_cpu.csv')\n",
        "data = df.corr()\n",
        "data['ERP'].sort_values(ascending =False)\n",
        "# Feature3\t0.882194\n",
        "df = df.loc[df['CPU']<100]\n",
        "\n",
        "from statsmodels.formula.api import ols\n",
        "formula = 'ERP ~\tFeature1 +\tFeature2\t+ Feature3 + CPU'\n",
        "model = ols(formula,data=df).fit()\n",
        "model.summary()\n",
        "model.pvalues"
      ],
      "metadata": {
        "id": "C2N_xne_KE5z",
        "outputId": "f90cdfe6-f3fc-435e-9b0c-fd25b7c03993",
        "colab": {
          "base_uri": "https://localhost:8080/",
          "height": 241
        }
      },
      "execution_count": 310,
      "outputs": [
        {
          "output_type": "execute_result",
          "data": {
            "text/plain": [
              "Intercept    9.630266e-03\n",
              "Feature1     6.841646e-01\n",
              "Feature2     5.717204e-01\n",
              "Feature3     4.300038e-17\n",
              "CPU          5.255548e-02\n",
              "dtype: float64"
            ],
            "text/html": [
              "<div>\n",
              "<style scoped>\n",
              "    .dataframe tbody tr th:only-of-type {\n",
              "        vertical-align: middle;\n",
              "    }\n",
              "\n",
              "    .dataframe tbody tr th {\n",
              "        vertical-align: top;\n",
              "    }\n",
              "\n",
              "    .dataframe thead th {\n",
              "        text-align: right;\n",
              "    }\n",
              "</style>\n",
              "<table border=\"1\" class=\"dataframe\">\n",
              "  <thead>\n",
              "    <tr style=\"text-align: right;\">\n",
              "      <th></th>\n",
              "      <th>0</th>\n",
              "    </tr>\n",
              "  </thead>\n",
              "  <tbody>\n",
              "    <tr>\n",
              "      <th>Intercept</th>\n",
              "      <td>9.630266e-03</td>\n",
              "    </tr>\n",
              "    <tr>\n",
              "      <th>Feature1</th>\n",
              "      <td>6.841646e-01</td>\n",
              "    </tr>\n",
              "    <tr>\n",
              "      <th>Feature2</th>\n",
              "      <td>5.717204e-01</td>\n",
              "    </tr>\n",
              "    <tr>\n",
              "      <th>Feature3</th>\n",
              "      <td>4.300038e-17</td>\n",
              "    </tr>\n",
              "    <tr>\n",
              "      <th>CPU</th>\n",
              "      <td>5.255548e-02</td>\n",
              "    </tr>\n",
              "  </tbody>\n",
              "</table>\n",
              "</div><br><label><b>dtype:</b> float64</label>"
            ]
          },
          "metadata": {},
          "execution_count": 310
        }
      ]
    }
  ]
}