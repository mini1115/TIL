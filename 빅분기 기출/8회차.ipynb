{
  "nbformat": 4,
  "nbformat_minor": 0,
  "metadata": {
    "colab": {
      "provenance": [],
      "authorship_tag": "ABX9TyNvFyUSc5FxsbbF/000+K1P",
      "include_colab_link": true
    },
    "kernelspec": {
      "name": "python3",
      "display_name": "Python 3"
    },
    "language_info": {
      "name": "python"
    }
  },
  "cells": [
    {
      "cell_type": "markdown",
      "metadata": {
        "id": "view-in-github",
        "colab_type": "text"
      },
      "source": [
        "<a href=\"https://colab.research.google.com/github/mini1115/TIL/blob/master/%EB%B9%85%EB%B6%84%EA%B8%B0%20%EA%B8%B0%EC%B6%9C/8%ED%9A%8C%EC%B0%A8.ipynb\" target=\"_parent\"><img src=\"https://colab.research.google.com/assets/colab-badge.svg\" alt=\"Open In Colab\"/></a>"
      ]
    },
    {
      "cell_type": "code",
      "source": [
        "from google.colab import files\n",
        "uploaded = files.upload()"
      ],
      "metadata": {
        "colab": {
          "base_uri": "https://localhost:8080/",
          "height": 293
        },
        "id": "f9YDkarw19pk",
        "outputId": "729c7186-d5c9-40bf-eb56-27fe3620c1b2"
      },
      "execution_count": 311,
      "outputs": [
        {
          "output_type": "display_data",
          "data": {
            "text/plain": [
              "<IPython.core.display.HTML object>"
            ],
            "text/html": [
              "\n",
              "     <input type=\"file\" id=\"files-01b1d04c-5060-4bac-837e-4cbe84ed50c7\" name=\"files[]\" multiple disabled\n",
              "        style=\"border:none\" />\n",
              "     <output id=\"result-01b1d04c-5060-4bac-837e-4cbe84ed50c7\">\n",
              "      Upload widget is only available when the cell has been executed in the\n",
              "      current browser session. Please rerun this cell to enable.\n",
              "      </output>\n",
              "      <script>// Copyright 2017 Google LLC\n",
              "//\n",
              "// Licensed under the Apache License, Version 2.0 (the \"License\");\n",
              "// you may not use this file except in compliance with the License.\n",
              "// You may obtain a copy of the License at\n",
              "//\n",
              "//      http://www.apache.org/licenses/LICENSE-2.0\n",
              "//\n",
              "// Unless required by applicable law or agreed to in writing, software\n",
              "// distributed under the License is distributed on an \"AS IS\" BASIS,\n",
              "// WITHOUT WARRANTIES OR CONDITIONS OF ANY KIND, either express or implied.\n",
              "// See the License for the specific language governing permissions and\n",
              "// limitations under the License.\n",
              "\n",
              "/**\n",
              " * @fileoverview Helpers for google.colab Python module.\n",
              " */\n",
              "(function(scope) {\n",
              "function span(text, styleAttributes = {}) {\n",
              "  const element = document.createElement('span');\n",
              "  element.textContent = text;\n",
              "  for (const key of Object.keys(styleAttributes)) {\n",
              "    element.style[key] = styleAttributes[key];\n",
              "  }\n",
              "  return element;\n",
              "}\n",
              "\n",
              "// Max number of bytes which will be uploaded at a time.\n",
              "const MAX_PAYLOAD_SIZE = 100 * 1024;\n",
              "\n",
              "function _uploadFiles(inputId, outputId) {\n",
              "  const steps = uploadFilesStep(inputId, outputId);\n",
              "  const outputElement = document.getElementById(outputId);\n",
              "  // Cache steps on the outputElement to make it available for the next call\n",
              "  // to uploadFilesContinue from Python.\n",
              "  outputElement.steps = steps;\n",
              "\n",
              "  return _uploadFilesContinue(outputId);\n",
              "}\n",
              "\n",
              "// This is roughly an async generator (not supported in the browser yet),\n",
              "// where there are multiple asynchronous steps and the Python side is going\n",
              "// to poll for completion of each step.\n",
              "// This uses a Promise to block the python side on completion of each step,\n",
              "// then passes the result of the previous step as the input to the next step.\n",
              "function _uploadFilesContinue(outputId) {\n",
              "  const outputElement = document.getElementById(outputId);\n",
              "  const steps = outputElement.steps;\n",
              "\n",
              "  const next = steps.next(outputElement.lastPromiseValue);\n",
              "  return Promise.resolve(next.value.promise).then((value) => {\n",
              "    // Cache the last promise value to make it available to the next\n",
              "    // step of the generator.\n",
              "    outputElement.lastPromiseValue = value;\n",
              "    return next.value.response;\n",
              "  });\n",
              "}\n",
              "\n",
              "/**\n",
              " * Generator function which is called between each async step of the upload\n",
              " * process.\n",
              " * @param {string} inputId Element ID of the input file picker element.\n",
              " * @param {string} outputId Element ID of the output display.\n",
              " * @return {!Iterable<!Object>} Iterable of next steps.\n",
              " */\n",
              "function* uploadFilesStep(inputId, outputId) {\n",
              "  const inputElement = document.getElementById(inputId);\n",
              "  inputElement.disabled = false;\n",
              "\n",
              "  const outputElement = document.getElementById(outputId);\n",
              "  outputElement.innerHTML = '';\n",
              "\n",
              "  const pickedPromise = new Promise((resolve) => {\n",
              "    inputElement.addEventListener('change', (e) => {\n",
              "      resolve(e.target.files);\n",
              "    });\n",
              "  });\n",
              "\n",
              "  const cancel = document.createElement('button');\n",
              "  inputElement.parentElement.appendChild(cancel);\n",
              "  cancel.textContent = 'Cancel upload';\n",
              "  const cancelPromise = new Promise((resolve) => {\n",
              "    cancel.onclick = () => {\n",
              "      resolve(null);\n",
              "    };\n",
              "  });\n",
              "\n",
              "  // Wait for the user to pick the files.\n",
              "  const files = yield {\n",
              "    promise: Promise.race([pickedPromise, cancelPromise]),\n",
              "    response: {\n",
              "      action: 'starting',\n",
              "    }\n",
              "  };\n",
              "\n",
              "  cancel.remove();\n",
              "\n",
              "  // Disable the input element since further picks are not allowed.\n",
              "  inputElement.disabled = true;\n",
              "\n",
              "  if (!files) {\n",
              "    return {\n",
              "      response: {\n",
              "        action: 'complete',\n",
              "      }\n",
              "    };\n",
              "  }\n",
              "\n",
              "  for (const file of files) {\n",
              "    const li = document.createElement('li');\n",
              "    li.append(span(file.name, {fontWeight: 'bold'}));\n",
              "    li.append(span(\n",
              "        `(${file.type || 'n/a'}) - ${file.size} bytes, ` +\n",
              "        `last modified: ${\n",
              "            file.lastModifiedDate ? file.lastModifiedDate.toLocaleDateString() :\n",
              "                                    'n/a'} - `));\n",
              "    const percent = span('0% done');\n",
              "    li.appendChild(percent);\n",
              "\n",
              "    outputElement.appendChild(li);\n",
              "\n",
              "    const fileDataPromise = new Promise((resolve) => {\n",
              "      const reader = new FileReader();\n",
              "      reader.onload = (e) => {\n",
              "        resolve(e.target.result);\n",
              "      };\n",
              "      reader.readAsArrayBuffer(file);\n",
              "    });\n",
              "    // Wait for the data to be ready.\n",
              "    let fileData = yield {\n",
              "      promise: fileDataPromise,\n",
              "      response: {\n",
              "        action: 'continue',\n",
              "      }\n",
              "    };\n",
              "\n",
              "    // Use a chunked sending to avoid message size limits. See b/62115660.\n",
              "    let position = 0;\n",
              "    do {\n",
              "      const length = Math.min(fileData.byteLength - position, MAX_PAYLOAD_SIZE);\n",
              "      const chunk = new Uint8Array(fileData, position, length);\n",
              "      position += length;\n",
              "\n",
              "      const base64 = btoa(String.fromCharCode.apply(null, chunk));\n",
              "      yield {\n",
              "        response: {\n",
              "          action: 'append',\n",
              "          file: file.name,\n",
              "          data: base64,\n",
              "        },\n",
              "      };\n",
              "\n",
              "      let percentDone = fileData.byteLength === 0 ?\n",
              "          100 :\n",
              "          Math.round((position / fileData.byteLength) * 100);\n",
              "      percent.textContent = `${percentDone}% done`;\n",
              "\n",
              "    } while (position < fileData.byteLength);\n",
              "  }\n",
              "\n",
              "  // All done.\n",
              "  yield {\n",
              "    response: {\n",
              "      action: 'complete',\n",
              "    }\n",
              "  };\n",
              "}\n",
              "\n",
              "scope.google = scope.google || {};\n",
              "scope.google.colab = scope.google.colab || {};\n",
              "scope.google.colab._files = {\n",
              "  _uploadFiles,\n",
              "  _uploadFilesContinue,\n",
              "};\n",
              "})(self);\n",
              "</script> "
            ]
          },
          "metadata": {}
        },
        {
          "output_type": "stream",
          "name": "stdout",
          "text": [
            "Saving tourist.csv to tourist.csv\n",
            "Saving piq.csv to piq.csv\n",
            "Saving chem.csv to chem.csv\n",
            "Saving churn.csv to churn.csv\n",
            "Saving churn_test.csv to churn_test.csv\n",
            "Saving churn_train.csv to churn_train.csv\n",
            "Saving drinks.csv to drinks.csv\n"
          ]
        }
      ]
    },
    {
      "cell_type": "markdown",
      "source": [
        "# **작업형1**"
      ],
      "metadata": {
        "id": "DhLkZq4I31gg"
      }
    },
    {
      "cell_type": "markdown",
      "source": [
        "Q1.\n",
        "- 대륙별 맥주 소비량의 평균을 계산하고\n",
        "- 평균이 가장 큰 대륙을 찾으시오.\n",
        "- 찾은 대륙에서 맥주 소비량이 6번째 많은 국가의 맥주 소비량을 구하시오."
      ],
      "metadata": {
        "id": "iimdrUYk34x6"
      }
    },
    {
      "cell_type": "code",
      "source": [
        "import pandas as pd\n",
        "df = pd.read_csv('drinks.csv')\n",
        "\n",
        "ans = df.groupby('continent')['beer_servings'].mean()\n",
        "ans.sort_values(ascending=False)\n",
        "best_continent = 'Europe'\n",
        "\n",
        "result = df.loc[df['continent']==best_continent]\n",
        "final = result.sort_values('beer_servings',ascending=False)\n",
        "final.head(5)\n",
        "\n",
        "# Ireland\n",
        "df.loc[df.country=='Ireland'].beer_servings\n",
        "# 313\n",
        "final.iloc[4,1]"
      ],
      "metadata": {
        "colab": {
          "base_uri": "https://localhost:8080/"
        },
        "id": "-oHZK_4s29cQ",
        "outputId": "a94ef030-946a-4330-f55a-064088335b1a"
      },
      "execution_count": 331,
      "outputs": [
        {
          "output_type": "execute_result",
          "data": {
            "text/plain": [
              "313"
            ]
          },
          "metadata": {},
          "execution_count": 331
        }
      ]
    },
    {
      "cell_type": "markdown",
      "source": [
        "Q2.\n",
        "- 관광객비율이 두번쨰로 높은 국가의 '사업' 방문객 수를 a라고 정의하시오.\n",
        "  - 관광객비율 : 관광 / 방문객 합계\n",
        "  - 방문객 합계 : 관광+공무+사업+기타\n",
        "- '관광'이 두 번째로 높은 국가의 '공무' 방문객 수를 b라고 정의하시오.\n",
        "- a와 b의 합을 구하시오."
      ],
      "metadata": {
        "id": "0VyFsTUJ6BT7"
      }
    },
    {
      "cell_type": "code",
      "source": [
        "import pandas as pd\n",
        "df = pd.read_csv('tourist.csv')\n",
        "df['방문객 합계'] = df['관광']+df['공무']+df['사업']+df['기타']\n",
        "df['관광객 비율'] = df['관광'] / df['방문객 합계']\n",
        "ans = df.sort_values('관광객 비율',ascending=False)\n",
        "a = ans.iloc[1]['사업']\n",
        "ans2 = df.sort_values('관광',ascending=False)\n",
        "b = ans2.iloc[1]['공무']\n",
        "\n",
        "print(a+b)"
      ],
      "metadata": {
        "colab": {
          "base_uri": "https://localhost:8080/"
        },
        "id": "FM6sxRcI4zUe",
        "outputId": "326557b9-1021-47c2-a8b8-1868db5ec7e7"
      },
      "execution_count": 338,
      "outputs": [
        {
          "output_type": "stream",
          "name": "stdout",
          "text": [
            "441\n"
          ]
        }
      ]
    },
    {
      "cell_type": "markdown",
      "source": [
        "Q3.\n",
        "- 주어진 데이터에서 'co' 와 'nmhc' 컬럼을 각각 min Max 스케일링 하시오\n",
        "- 스케일링된 'co' , 'nmhc' 컬럼의 표준편차를 각각 구하시오.\n",
        "- 'co' 컬럼의 표준편차에서 'nmhc' 컬럼의 표준편차를 뺀 값을 반올림하시오."
      ],
      "metadata": {
        "id": "B9NBQ-HP708V"
      }
    },
    {
      "cell_type": "code",
      "source": [
        "import pandas as pd\n",
        "df = pd.read_csv('chem.csv')\n",
        "\n",
        "from sklearn.preprocessing import MinMaxScaler\n",
        "scaler = MinMaxScaler()\n",
        "df['co'] = scaler.fit_transform(df[['co']])\n",
        "df['nmhc'] = scaler.fit_transform(df[['nmhc']])\n",
        "\n",
        "co = df['co'].std()\n",
        "# 0.2856516497116944\n",
        "nm = df['nmhc'].std()\n",
        "# 0.3030617020578397\n",
        "ans = (co-nm)\n",
        "print(round(ans,3))"
      ],
      "metadata": {
        "colab": {
          "base_uri": "https://localhost:8080/"
        },
        "id": "kXMrUFUs8Apg",
        "outputId": "103abe64-7f66-47ea-ef40-ce4025afe7a7"
      },
      "execution_count": 347,
      "outputs": [
        {
          "output_type": "stream",
          "name": "stdout",
          "text": [
            "-0.017\n"
          ]
        }
      ]
    },
    {
      "cell_type": "markdown",
      "source": [
        "# **작업형2**\n",
        "\n",
        "Q. 통신사에서 고객에게 청구될 총 금액을 예측하시오.\n",
        "  - 예측할 컬럼 TotalCharges(총 청구액)\n",
        "  - pred : 예측된 총 청구액\n",
        "  - 제출 파일명 'result.csv'\n",
        "  - 평가지표 MAE\n"
      ],
      "metadata": {
        "id": "rk9TxSDG9OXQ"
      }
    },
    {
      "cell_type": "code",
      "source": [
        "train = pd.read_csv('churn_train.csv')\n",
        "test = pd.read_csv('churn_test.csv')\n",
        "\n",
        "# train.shape,test.shape\n",
        "# train.info()\n",
        "# train.describe(include='O')\n",
        "train.pop('customerID')\n",
        "test.pop('customerID')\n",
        "target = train.pop('TotalCharges')\n",
        "\n",
        "combined = pd.concat([train,test])\n",
        "combined_oh = pd.get_dummies(combined)\n",
        "train = combined_oh[:len(train)]\n",
        "test = combined_oh[len(train):]\n",
        "\n",
        "# from sklearn.preprocessing import LabelEncoder\n",
        "# cols = train.select_dtypes(include='O').columns\n",
        "\n",
        "# for col in cols:\n",
        "#   le = LabelEncoder()\n",
        "#   train[col] = le.fit_transform(train[col])\n",
        "#   test[col] = le.transform(test[col])\n",
        "\n",
        "\n",
        "from sklearn.model_selection import train_test_split\n",
        "x_tr,x_val,y_tr,y_val = train_test_split(train,target,test_size=0.2,random_state=0)\n",
        "# x_tr.shape,x_val.shape,y_tr.shape,y_val.shape\n",
        "\n",
        "# from sklearn.ensemble import RandomForestRegressor\n",
        "# rf = RandomForestRegressor(random_state=0)\n",
        "# rf.fit(x_tr,y_tr)\n",
        "# pred = rf.predict(x_val)\n",
        "# # 937.29\n",
        "\n",
        "from sklearn.linear_model import LinearRegression\n",
        "lr = LinearRegression()\n",
        "lr.fit(x_tr,y_tr)\n",
        "pred = lr.predict(x_val)\n",
        "# 914.6725879047845\n",
        "\n",
        "# import lightgbm as lgb\n",
        "# lg = lgb.LGBMRegressor()\n",
        "# lg.fit(x_tr,y_tr)\n",
        "# pred = lg.predict(x_val)\n",
        "# # 946.70\n",
        "\n",
        "from sklearn.metrics import mean_absolute_error\n",
        "score = mean_absolute_error(y_val,pred)\n",
        "print(score)"
      ],
      "metadata": {
        "colab": {
          "base_uri": "https://localhost:8080/"
        },
        "id": "dm4lpuVn9d0k",
        "outputId": "819a72f9-61c3-4e51-a25c-c97173ff235e"
      },
      "execution_count": 368,
      "outputs": [
        {
          "output_type": "stream",
          "name": "stdout",
          "text": [
            "914.6725879047845\n"
          ]
        }
      ]
    },
    {
      "cell_type": "markdown",
      "source": [
        "# **작업형3**"
      ],
      "metadata": {
        "id": "3z9MIP5YEQnI"
      }
    },
    {
      "cell_type": "markdown",
      "source": [
        "Q.1 로지스틱 회귀\n",
        "- 주어진 데이터에서 로지스틱 회귀분석을 수행해 유의확률이 0.05 이상인 유의하지 않은 독립변수의 개수를 구하시오.\n",
        "\n",
        "- 유의확률이 0.05 미만인 유의한 변수만을 사용해 다시 로지스틱 회귀 분석을 수행하시오. 이 회귀식의 유의한 회귀계수(상수항 포함)의 합계를 구하시오.\n",
        "\n",
        "- 문제 1.2 에서 수행한 로지스틱 회귀식에서 'DataUsage' 변수가 5만큼 증가할때, 오즈비를 구하시오.\n"
      ],
      "metadata": {
        "id": "Tpn39IntFLcp"
      }
    },
    {
      "cell_type": "code",
      "source": [
        "data = pd.read_csv('churn.csv')\n",
        "\n",
        "from statsmodels.formula.api import logit\n",
        "\n",
        "formula = 'Churn ~AccountWeeks+ContractRenewal+DataPlan+DataUsage+CustServCalls+DayMins+DayCalls+MonthlyCharge+OverageFee+RoamMins'\n",
        "\n",
        "model = logit(formula,data=data).fit()\n",
        "# model.pvalues > 0.05\n",
        "\n",
        "new_formula = 'Churn ~ DataUsage+DayMins'\n",
        "\n",
        "new_model = logit(new_formula,data=data).fit()\n",
        "# new_model.summary()\n",
        "sum(new_model.params)\n",
        "\n",
        "import numpy as np\n",
        "\n",
        "coef = new_model.params['DataUsage']\n",
        "\n",
        "round(np.exp(coef*5),3)"
      ],
      "metadata": {
        "colab": {
          "base_uri": "https://localhost:8080/"
        },
        "id": "cOeGS62ZFdbY",
        "outputId": "acde9cde-3754-465b-b753-14cd6c0089af"
      },
      "execution_count": 386,
      "outputs": [
        {
          "output_type": "stream",
          "name": "stdout",
          "text": [
            "Optimization terminated successfully.\n",
            "         Current function value: 0.393603\n",
            "         Iterations 6\n",
            "Optimization terminated successfully.\n",
            "         Current function value: 0.397599\n",
            "         Iterations 6\n"
          ]
        },
        {
          "output_type": "execute_result",
          "data": {
            "text/plain": [
              "0.428"
            ]
          },
          "metadata": {},
          "execution_count": 386
        }
      ]
    },
    {
      "cell_type": "markdown",
      "source": [
        "Q2. 다중 선형 회귀\n",
        "\n",
        "- 주어진 데이터를 이용해 종속변수(PIQ)와 <BR/>\n",
        "독립변수(Brain,Height,Weight)로 다중 선형 회귀 분석을 수행하시오.\n",
        "이때 유의확률(p-value)이 가장 작은 변수의 회귀 계수 값을 구하시오.\n",
        "\n",
        "- 문제 2-1에 적합한 결정계수 값을 구하시오.\n",
        "\n",
        "- 뇌 크기 : 90 , 키 : 70, 몸무게 : 150 일때 PIQ를 예측하시오."
      ],
      "metadata": {
        "id": "ru_H0oLcJlSg"
      }
    },
    {
      "cell_type": "code",
      "source": [
        "df = pd.read_csv('piq.csv')\n",
        "\n",
        "from statsmodels.formula.api import ols\n",
        "formula = 'PIQ ~Brain\t+Height+\tWeight'\n",
        "\n",
        "model = ols(formula,data=df).fit()\n",
        "# model.pvalues\n",
        "# Brain 0.000005\n",
        "model.params['Brain']\n",
        "# 2.343130100951171"
      ],
      "metadata": {
        "colab": {
          "base_uri": "https://localhost:8080/"
        },
        "id": "C2N_xne_KE5z",
        "outputId": "09e80d95-e4aa-45de-e2ac-6b520c0e2c24"
      },
      "execution_count": 394,
      "outputs": [
        {
          "output_type": "execute_result",
          "data": {
            "text/plain": [
              "2.343130100951171"
            ]
          },
          "metadata": {},
          "execution_count": 394
        }
      ]
    },
    {
      "cell_type": "code",
      "source": [
        "round(model.rsquared,2)"
      ],
      "metadata": {
        "id": "UZfiKOqnb0vz",
        "outputId": "858b64f9-620a-4d92-cfdf-4e465663ed5e",
        "colab": {
          "base_uri": "https://localhost:8080/"
        }
      },
      "execution_count": 398,
      "outputs": [
        {
          "output_type": "execute_result",
          "data": {
            "text/plain": [
              "0.37"
            ]
          },
          "metadata": {},
          "execution_count": 398
        }
      ]
    },
    {
      "cell_type": "code",
      "source": [
        "# - 뇌 크기 : 90 , 키 : 70, 몸무게 : 150 일때\n",
        "new_data = pd.DataFrame({'Brain':[90],'Height':[70],'Weight':[150]})\n",
        "\n",
        "result = model.predict(new_data)\n",
        "round(result[0])"
      ],
      "metadata": {
        "id": "GbzKTacvcMKE",
        "outputId": "7b24692c-e1ce-4c9a-a623-031b15512acd",
        "colab": {
          "base_uri": "https://localhost:8080/"
        }
      },
      "execution_count": 402,
      "outputs": [
        {
          "output_type": "execute_result",
          "data": {
            "text/plain": [
              "106"
            ]
          },
          "metadata": {},
          "execution_count": 402
        }
      ]
    }
  ]
}