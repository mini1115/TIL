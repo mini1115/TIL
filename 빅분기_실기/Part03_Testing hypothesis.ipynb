{
  "cells": [
    {
      "cell_type": "markdown",
      "source": [
        "## 적합도 검정(Goodness of fit test)\n",
        "----------------------------------------------\n",
        "    1개의 범주형 변수가 특정 분포를 잘 따르고 있는지를 검정\n",
        "\n",
        "    - 귀무가설 : 특정 분포를 따른다.(특정 분포 확률을 따른다).\n",
        "    - 대립가설 : 특정 분포를 따르지 않는다.(특정 분포 확률을 따르지 않는다)\n",
        "\n",
        "### 01. 카이제곱 적합도 검정\n",
        "```python\n",
        "scipy.stats.chisquare(observed,expected,ddof,axis)\n",
        "```\n",
        "- observed : 관측된 빈도 리스트(배열)\n",
        "- expected : 기대 빈도 리스트(배열), 주어지지 않으면 모든 카테고리 관측 빈도가  균일하고 관측 빈도의 평균이 주어진다고 가정함.\n",
        "- ddof : 자유도 조정, 기본값 0\n",
        "- axis : 축, 기본값 0\n",
        "\n",
        "-----------------------------\n",
        "Q. 어떤 도시에서 300명을 대상으로 아이스크림 맛 선호도를 조사했다. 이 도시에서 조사된 아이스크림 맛 선호도는 바닐라 : 150명, 초코 : 120명, 딸기 : 30명이었다.\n",
        "전국적인 아이스크림 맛 선호도 조사 결과를 통해 알려진 비율은 바닐라 50%, 초코 35%, 딸기 15%로 알려져 있다. (유의수준 : 0.05) 이 도시의 맛 선호도와 전국적인 맛 선호도의 차이가 있는가?"
      ],
      "metadata": {
        "id": "sBBR1YQrcf90"
      }
    },
    {
      "cell_type": "code",
      "source": [
        "from scipy import stats\n",
        "\n",
        "observed = [150,120,30]\n",
        "expected = [300*0.5,300*0.35,300*0.15]\n",
        "\n",
        "print(stats.chisquare(observed,expected))"
      ],
      "metadata": {
        "id": "aY54XcYFdMKL",
        "outputId": "9380d1db-4151-4859-9e2c-d97bcabc82f4",
        "colab": {
          "base_uri": "https://localhost:8080/"
        }
      },
      "execution_count": 2,
      "outputs": [
        {
          "output_type": "stream",
          "name": "stdout",
          "text": [
            "Power_divergenceResult(statistic=7.142857142857142, pvalue=0.028115659748972056)\n"
          ]
        }
      ]
    },
    {
      "cell_type": "markdown",
      "source": [
        "# 독립성 검정\n",
        "-------------\n",
        "    2개의 변수가 서로 독립적인지, 연관이 있는지 검정하는데 사용한다.\n",
        "    - 귀무가설 : 두 범주형 변수가 독립적이다.(서로 연관성이 없다.)\n",
        "    - 대립가설 : 두 범주형 변수가 독립적이 아니다.(서로 연관성이 있다.)\n",
        "### 01. 교차표 기반 카이제곱 검정\n",
        "```python\n",
        "scipy.stats.chi2_contingency(table,correction=True)\n",
        "```\n",
        "- table : 교차표(contingency Table) 데이터 (2차원 형태)\n",
        "- correction : 연속성 보정 여부, 기본값은 True, 연속성 수정을 적용한 것과 적용하지 않았을 때의 통계량은 다르다. 문제에서 연속성 수정에 대한 언급이 없다면, 기본값(True)으로 두고, \"연속성 수정을 하지 않는다\" 라는 조건이 있다면 False로 설정한다.\n",
        "\n",
        "------------------------\n",
        "Q. 성별에 따라 운동을 좋아하는지 조사한 결과다.\n",
        "성별과 운동 선호도가 독립적인지 가설검정을 실시하시오. (유의수준 0.05)\n",
        "- 귀무가설 : 성별과 운동 선호도는 독립적이다.\n",
        "- 대립가설 : 성별과 운동 선호도는 독립적이지 않다.\n",
        "\n",
        "#### 교차표 데이터\n",
        "\n",
        "|  | 좋아함 | 좋아하지 않음 |\n",
        "|----------|----------|----------|\n",
        "|   남자 |   80 |   30 |\n",
        "|   여자 |   90 |   10 |\n",
        "\n"
      ],
      "metadata": {
        "id": "SInq7C2se3Pu"
      }
    },
    {
      "cell_type": "code",
      "source": [
        "import pandas as pd\n",
        "df = pd.DataFrame({'좋아함':[80,90],\n",
        "                   '좋아하지 않음':[30,10]},index=['여자','남자'])\n",
        "\n",
        "print(df)"
      ],
      "metadata": {
        "id": "F7OyLUIPeevt",
        "outputId": "22ade443-ff04-41c8-8ed1-ca0fd3521cdc",
        "colab": {
          "base_uri": "https://localhost:8080/"
        }
      },
      "execution_count": 3,
      "outputs": [
        {
          "output_type": "stream",
          "name": "stdout",
          "text": [
            "    좋아함  좋아하지 않음\n",
            "여자   80       30\n",
            "남자   90       10\n"
          ]
        }
      ]
    },
    {
      "cell_type": "code",
      "source": [
        "import pandas as pd\n",
        "df = pd.DataFrame([[80,30],[90,10]],columns=['좋아함','좋아하지 않음'],index=['남자','여자'])\n",
        "\n",
        "print(df)"
      ],
      "metadata": {
        "id": "QwMzfTeEiHQt",
        "outputId": "b62a59f8-9457-4f9b-848d-6a13f8fcffb9",
        "colab": {
          "base_uri": "https://localhost:8080/"
        }
      },
      "execution_count": 12,
      "outputs": [
        {
          "output_type": "stream",
          "name": "stdout",
          "text": [
            "    좋아함  좋아하지 않음\n",
            "남자   80       30\n",
            "여자   90       10\n"
          ]
        }
      ]
    },
    {
      "cell_type": "code",
      "source": [
        "from scipy.stats import chi2_contingency\n",
        "print(chi2_contingency(df))"
      ],
      "metadata": {
        "id": "Fme8ld1PiY4R",
        "outputId": "42df063a-4fac-470d-cd4e-f56d6ecf0149",
        "colab": {
          "base_uri": "https://localhost:8080/"
        }
      },
      "execution_count": 13,
      "outputs": [
        {
          "output_type": "stream",
          "name": "stdout",
          "text": [
            "Chi2ContingencyResult(statistic=9.045792112299468, pvalue=0.0026330012530379632, dof=1, expected_freq=array([[89.04761905, 20.95238095],\n",
            "       [80.95238095, 19.04761905]]))\n"
          ]
        }
      ]
    },
    {
      "cell_type": "markdown",
      "source": [
        "#### 기대 빈도 해석(expected_feq)\n",
        "- 89.04761905 : 남자가 좋아함을 선택할 것으로 기대되는 수\n",
        "- 80.95238095 : 여자가 좋아함을 선택할 것으로 기대되는 수\n",
        "- 20.95238095 : 남자가 좋아하지 않음을 선택할 것으로 기대되는 수\n",
        "- 19.04761905 : 여자가 좋아하지 않음을 선택할 것으로 기대되는 수"
      ],
      "metadata": {
        "id": "H92YOHE0ikwS"
      }
    },
    {
      "cell_type": "code",
      "source": [
        "# raw 데이터 주어질 경우\n",
        "import pandas as pd\n",
        "data = {\n",
        "    '성별':['남자']*110 + ['여자']*100,\n",
        "    '운동':['좋아함']*80 +['좋아하지 않음']*30 + ['좋아함']*90 +['좋아하지 않음']*10\n",
        "}\n",
        "df = pd.DataFrame(data)\n",
        "print(df.head(3))"
      ],
      "metadata": {
        "id": "ryAh1cQCjHWd",
        "outputId": "9122b104-f67c-4172-e59e-366c44f7bb62",
        "colab": {
          "base_uri": "https://localhost:8080/"
        }
      },
      "execution_count": 24,
      "outputs": [
        {
          "output_type": "stream",
          "name": "stdout",
          "text": [
            "   성별   운동\n",
            "0  남자  좋아함\n",
            "1  남자  좋아함\n",
            "2  남자  좋아함\n"
          ]
        }
      ]
    },
    {
      "cell_type": "code",
      "source": [],
      "metadata": {
        "id": "FzJg4z9BkReX"
      },
      "execution_count": null,
      "outputs": []
    },
    {
      "cell_type": "code",
      "source": [
        "df = pd.crosstab(df['성별'],df['운동'])\n",
        "print(df)"
      ],
      "metadata": {
        "id": "9HBvtvA0j_2H",
        "outputId": "9d0c4237-9e26-41dd-df26-4c5bc43fb606",
        "colab": {
          "base_uri": "https://localhost:8080/"
        }
      },
      "execution_count": 25,
      "outputs": [
        {
          "output_type": "stream",
          "name": "stdout",
          "text": [
            "운동  좋아하지 않음  좋아함\n",
            "성별              \n",
            "남자       30   80\n",
            "여자       10   90\n"
          ]
        }
      ]
    },
    {
      "cell_type": "code",
      "source": [
        "from scipy.stats import chi2_contingency\n",
        "print(chi2_contingency(df))"
      ],
      "metadata": {
        "id": "qjfGY9AEkR3-",
        "outputId": "01bf21f7-7997-42de-e6b1-6d1c9d2252e6",
        "colab": {
          "base_uri": "https://localhost:8080/"
        }
      },
      "execution_count": 26,
      "outputs": [
        {
          "output_type": "stream",
          "name": "stdout",
          "text": [
            "Chi2ContingencyResult(statistic=9.045792112299468, pvalue=0.0026330012530379632, dof=1, expected_freq=array([[20.95238095, 89.04761905],\n",
            "       [19.04761905, 80.95238095]]))\n"
          ]
        }
      ]
    },
    {
      "cell_type": "markdown",
      "source": [
        "# 동질성 검정\n",
        "-------------\n",
        "    2개 이상의 집단에서 분산의 동질성을 가졌는지 검정하는데 사용한다. 동질성 검정은 목적과 적용 상황은 다르지만, 계산 방식이 동일해 사용하는 함수가 같다. 해석만 다를 뿐이다. 범주형 데이터 분석에서 p-value, 통계량, 귀무가설 채택 및 기각 등이 문제로 출제된다고 가정했을 때 답을 작성할 때는 독립성과 동질성 문제를 하나로 생각해도 된다.\n",
        "### 01. 교차표 기반 카이제곱 검정\n",
        "------------------------\n",
        "```python\n",
        "scipy.stats.chi2_contingency(table,correction=True)\n",
        "```\n",
        "- table : 교차표(contingency Table) 데이터 (2차원 형태)\n",
        "- correction : 연속성 보정 여부, 기본값은 True, 연속성 수정을 적용한 것과 적용하지 않았을 때의 통계량은 다르다. 문제에서 연속성 수정에 대한 언급이 없다면, 기본값(True)으로 두고, \"연속성 수정을 하지 않는다\" 라는 조건이 있다면 False로 설정한다.\n",
        "\n",
        "### 02. 독립성 검정과 동질성 검정\n",
        "------------------------\n",
        "- 독립성 검정 : 두 범주형 변수 간에 연관성이 있는지를 확인한다. 예시 : 성별이 운동 선호도에 영향을 주는가?\n",
        "- 동질성 검정 : 서로 다른 그룹 또는 모집단이 동일한 범주 분포를 가졌는지 확인한다. 예시 : 2개의 다른 학교에서 학생들의 운동 선호도가 동일한가?\n",
        "------------------------\n",
        "Q. 학과에 따라 학교 공식 동아리에 가입한 학생 수와 가입하지 않은 학생의 수를 비교하는 동질성 검사를 실시하고, 유의수준에 따른 검정 결과를 작성하시오.(유의수준 0.05)\n",
        "- 귀무가설 : 두 학과의 동아리 가입 비율은 동일하다.\n",
        "- 대립가설 : 두 학과의 동아리 가입 비율은 동일하지 않다.\n",
        "\n",
        "#### 교차표 데이터\n",
        "\n",
        "| 학과 | 가입 | 미가입 |\n",
        "|----------|----------|----------|\n",
        "| 통계확과 |  50 |   50 |\n",
        "|  컴퓨터공학과 |   30 |  70 |\n",
        "\n"
      ],
      "metadata": {
        "id": "J97EqxKNklr3"
      }
    },
    {
      "cell_type": "code",
      "source": [
        "import pandas as pd\n",
        "df = pd.DataFrame([[50,50],[30,70]])\n",
        "from scipy.stats import chi2_contingency\n",
        "print(chi2_contingency(df))"
      ],
      "metadata": {
        "id": "-S7v6hMRkQf_",
        "outputId": "3c2db1c9-2db9-4882-fd5d-0febd432981d",
        "colab": {
          "base_uri": "https://localhost:8080/"
        }
      },
      "execution_count": 28,
      "outputs": [
        {
          "output_type": "stream",
          "name": "stdout",
          "text": [
            "Chi2ContingencyResult(statistic=7.520833333333334, pvalue=0.006098945931214352, dof=1, expected_freq=array([[40., 60.],\n",
            "       [40., 60.]]))\n"
          ]
        }
      ]
    },
    {
      "cell_type": "code",
      "source": [
        "# 로우 데이터가 주어질 경우\n",
        "import pandas as pd\n",
        "data = {\n",
        "    '학과' : ['통계확과']*100 + ['컴퓨터공학과']*100,\n",
        "    '동아리가입여부' :['가입']*50 + ['미가입']*50 +['가입']*30 +['미가입']*70\n",
        "}\n",
        "df = pd.DataFrame(data)\n",
        "df.sample(5)"
      ],
      "metadata": {
        "id": "jkgmX61mkOYH",
        "outputId": "0dfacee4-0c51-4b2b-af6c-5d53d54206b1",
        "colab": {
          "base_uri": "https://localhost:8080/",
          "height": 206
        }
      },
      "execution_count": 38,
      "outputs": [
        {
          "output_type": "execute_result",
          "data": {
            "text/plain": [
              "      학과 동아리가입여부\n",
              "38  통계확과      가입\n",
              "67  통계확과     미가입\n",
              "99  통계확과     미가입\n",
              "7   통계확과      가입\n",
              "34  통계확과      가입"
            ],
            "text/html": [
              "\n",
              "  <div id=\"df-4ce1c95d-4a0a-4d37-a43a-a2b8f5f07588\" class=\"colab-df-container\">\n",
              "    <div>\n",
              "<style scoped>\n",
              "    .dataframe tbody tr th:only-of-type {\n",
              "        vertical-align: middle;\n",
              "    }\n",
              "\n",
              "    .dataframe tbody tr th {\n",
              "        vertical-align: top;\n",
              "    }\n",
              "\n",
              "    .dataframe thead th {\n",
              "        text-align: right;\n",
              "    }\n",
              "</style>\n",
              "<table border=\"1\" class=\"dataframe\">\n",
              "  <thead>\n",
              "    <tr style=\"text-align: right;\">\n",
              "      <th></th>\n",
              "      <th>학과</th>\n",
              "      <th>동아리가입여부</th>\n",
              "    </tr>\n",
              "  </thead>\n",
              "  <tbody>\n",
              "    <tr>\n",
              "      <th>38</th>\n",
              "      <td>통계확과</td>\n",
              "      <td>가입</td>\n",
              "    </tr>\n",
              "    <tr>\n",
              "      <th>67</th>\n",
              "      <td>통계확과</td>\n",
              "      <td>미가입</td>\n",
              "    </tr>\n",
              "    <tr>\n",
              "      <th>99</th>\n",
              "      <td>통계확과</td>\n",
              "      <td>미가입</td>\n",
              "    </tr>\n",
              "    <tr>\n",
              "      <th>7</th>\n",
              "      <td>통계확과</td>\n",
              "      <td>가입</td>\n",
              "    </tr>\n",
              "    <tr>\n",
              "      <th>34</th>\n",
              "      <td>통계확과</td>\n",
              "      <td>가입</td>\n",
              "    </tr>\n",
              "  </tbody>\n",
              "</table>\n",
              "</div>\n",
              "    <div class=\"colab-df-buttons\">\n",
              "\n",
              "  <div class=\"colab-df-container\">\n",
              "    <button class=\"colab-df-convert\" onclick=\"convertToInteractive('df-4ce1c95d-4a0a-4d37-a43a-a2b8f5f07588')\"\n",
              "            title=\"Convert this dataframe to an interactive table.\"\n",
              "            style=\"display:none;\">\n",
              "\n",
              "  <svg xmlns=\"http://www.w3.org/2000/svg\" height=\"24px\" viewBox=\"0 -960 960 960\">\n",
              "    <path d=\"M120-120v-720h720v720H120Zm60-500h600v-160H180v160Zm220 220h160v-160H400v160Zm0 220h160v-160H400v160ZM180-400h160v-160H180v160Zm440 0h160v-160H620v160ZM180-180h160v-160H180v160Zm440 0h160v-160H620v160Z\"/>\n",
              "  </svg>\n",
              "    </button>\n",
              "\n",
              "  <style>\n",
              "    .colab-df-container {\n",
              "      display:flex;\n",
              "      gap: 12px;\n",
              "    }\n",
              "\n",
              "    .colab-df-convert {\n",
              "      background-color: #E8F0FE;\n",
              "      border: none;\n",
              "      border-radius: 50%;\n",
              "      cursor: pointer;\n",
              "      display: none;\n",
              "      fill: #1967D2;\n",
              "      height: 32px;\n",
              "      padding: 0 0 0 0;\n",
              "      width: 32px;\n",
              "    }\n",
              "\n",
              "    .colab-df-convert:hover {\n",
              "      background-color: #E2EBFA;\n",
              "      box-shadow: 0px 1px 2px rgba(60, 64, 67, 0.3), 0px 1px 3px 1px rgba(60, 64, 67, 0.15);\n",
              "      fill: #174EA6;\n",
              "    }\n",
              "\n",
              "    .colab-df-buttons div {\n",
              "      margin-bottom: 4px;\n",
              "    }\n",
              "\n",
              "    [theme=dark] .colab-df-convert {\n",
              "      background-color: #3B4455;\n",
              "      fill: #D2E3FC;\n",
              "    }\n",
              "\n",
              "    [theme=dark] .colab-df-convert:hover {\n",
              "      background-color: #434B5C;\n",
              "      box-shadow: 0px 1px 3px 1px rgba(0, 0, 0, 0.15);\n",
              "      filter: drop-shadow(0px 1px 2px rgba(0, 0, 0, 0.3));\n",
              "      fill: #FFFFFF;\n",
              "    }\n",
              "  </style>\n",
              "\n",
              "    <script>\n",
              "      const buttonEl =\n",
              "        document.querySelector('#df-4ce1c95d-4a0a-4d37-a43a-a2b8f5f07588 button.colab-df-convert');\n",
              "      buttonEl.style.display =\n",
              "        google.colab.kernel.accessAllowed ? 'block' : 'none';\n",
              "\n",
              "      async function convertToInteractive(key) {\n",
              "        const element = document.querySelector('#df-4ce1c95d-4a0a-4d37-a43a-a2b8f5f07588');\n",
              "        const dataTable =\n",
              "          await google.colab.kernel.invokeFunction('convertToInteractive',\n",
              "                                                    [key], {});\n",
              "        if (!dataTable) return;\n",
              "\n",
              "        const docLinkHtml = 'Like what you see? Visit the ' +\n",
              "          '<a target=\"_blank\" href=https://colab.research.google.com/notebooks/data_table.ipynb>data table notebook</a>'\n",
              "          + ' to learn more about interactive tables.';\n",
              "        element.innerHTML = '';\n",
              "        dataTable['output_type'] = 'display_data';\n",
              "        await google.colab.output.renderOutput(dataTable, element);\n",
              "        const docLink = document.createElement('div');\n",
              "        docLink.innerHTML = docLinkHtml;\n",
              "        element.appendChild(docLink);\n",
              "      }\n",
              "    </script>\n",
              "  </div>\n",
              "\n",
              "\n",
              "<div id=\"df-99142465-f881-4c38-bb0a-77bbb6f1f71a\">\n",
              "  <button class=\"colab-df-quickchart\" onclick=\"quickchart('df-99142465-f881-4c38-bb0a-77bbb6f1f71a')\"\n",
              "            title=\"Suggest charts\"\n",
              "            style=\"display:none;\">\n",
              "\n",
              "<svg xmlns=\"http://www.w3.org/2000/svg\" height=\"24px\"viewBox=\"0 0 24 24\"\n",
              "     width=\"24px\">\n",
              "    <g>\n",
              "        <path d=\"M19 3H5c-1.1 0-2 .9-2 2v14c0 1.1.9 2 2 2h14c1.1 0 2-.9 2-2V5c0-1.1-.9-2-2-2zM9 17H7v-7h2v7zm4 0h-2V7h2v10zm4 0h-2v-4h2v4z\"/>\n",
              "    </g>\n",
              "</svg>\n",
              "  </button>\n",
              "\n",
              "<style>\n",
              "  .colab-df-quickchart {\n",
              "      --bg-color: #E8F0FE;\n",
              "      --fill-color: #1967D2;\n",
              "      --hover-bg-color: #E2EBFA;\n",
              "      --hover-fill-color: #174EA6;\n",
              "      --disabled-fill-color: #AAA;\n",
              "      --disabled-bg-color: #DDD;\n",
              "  }\n",
              "\n",
              "  [theme=dark] .colab-df-quickchart {\n",
              "      --bg-color: #3B4455;\n",
              "      --fill-color: #D2E3FC;\n",
              "      --hover-bg-color: #434B5C;\n",
              "      --hover-fill-color: #FFFFFF;\n",
              "      --disabled-bg-color: #3B4455;\n",
              "      --disabled-fill-color: #666;\n",
              "  }\n",
              "\n",
              "  .colab-df-quickchart {\n",
              "    background-color: var(--bg-color);\n",
              "    border: none;\n",
              "    border-radius: 50%;\n",
              "    cursor: pointer;\n",
              "    display: none;\n",
              "    fill: var(--fill-color);\n",
              "    height: 32px;\n",
              "    padding: 0;\n",
              "    width: 32px;\n",
              "  }\n",
              "\n",
              "  .colab-df-quickchart:hover {\n",
              "    background-color: var(--hover-bg-color);\n",
              "    box-shadow: 0 1px 2px rgba(60, 64, 67, 0.3), 0 1px 3px 1px rgba(60, 64, 67, 0.15);\n",
              "    fill: var(--button-hover-fill-color);\n",
              "  }\n",
              "\n",
              "  .colab-df-quickchart-complete:disabled,\n",
              "  .colab-df-quickchart-complete:disabled:hover {\n",
              "    background-color: var(--disabled-bg-color);\n",
              "    fill: var(--disabled-fill-color);\n",
              "    box-shadow: none;\n",
              "  }\n",
              "\n",
              "  .colab-df-spinner {\n",
              "    border: 2px solid var(--fill-color);\n",
              "    border-color: transparent;\n",
              "    border-bottom-color: var(--fill-color);\n",
              "    animation:\n",
              "      spin 1s steps(1) infinite;\n",
              "  }\n",
              "\n",
              "  @keyframes spin {\n",
              "    0% {\n",
              "      border-color: transparent;\n",
              "      border-bottom-color: var(--fill-color);\n",
              "      border-left-color: var(--fill-color);\n",
              "    }\n",
              "    20% {\n",
              "      border-color: transparent;\n",
              "      border-left-color: var(--fill-color);\n",
              "      border-top-color: var(--fill-color);\n",
              "    }\n",
              "    30% {\n",
              "      border-color: transparent;\n",
              "      border-left-color: var(--fill-color);\n",
              "      border-top-color: var(--fill-color);\n",
              "      border-right-color: var(--fill-color);\n",
              "    }\n",
              "    40% {\n",
              "      border-color: transparent;\n",
              "      border-right-color: var(--fill-color);\n",
              "      border-top-color: var(--fill-color);\n",
              "    }\n",
              "    60% {\n",
              "      border-color: transparent;\n",
              "      border-right-color: var(--fill-color);\n",
              "    }\n",
              "    80% {\n",
              "      border-color: transparent;\n",
              "      border-right-color: var(--fill-color);\n",
              "      border-bottom-color: var(--fill-color);\n",
              "    }\n",
              "    90% {\n",
              "      border-color: transparent;\n",
              "      border-bottom-color: var(--fill-color);\n",
              "    }\n",
              "  }\n",
              "</style>\n",
              "\n",
              "  <script>\n",
              "    async function quickchart(key) {\n",
              "      const quickchartButtonEl =\n",
              "        document.querySelector('#' + key + ' button');\n",
              "      quickchartButtonEl.disabled = true;  // To prevent multiple clicks.\n",
              "      quickchartButtonEl.classList.add('colab-df-spinner');\n",
              "      try {\n",
              "        const charts = await google.colab.kernel.invokeFunction(\n",
              "            'suggestCharts', [key], {});\n",
              "      } catch (error) {\n",
              "        console.error('Error during call to suggestCharts:', error);\n",
              "      }\n",
              "      quickchartButtonEl.classList.remove('colab-df-spinner');\n",
              "      quickchartButtonEl.classList.add('colab-df-quickchart-complete');\n",
              "    }\n",
              "    (() => {\n",
              "      let quickchartButtonEl =\n",
              "        document.querySelector('#df-99142465-f881-4c38-bb0a-77bbb6f1f71a button');\n",
              "      quickchartButtonEl.style.display =\n",
              "        google.colab.kernel.accessAllowed ? 'block' : 'none';\n",
              "    })();\n",
              "  </script>\n",
              "</div>\n",
              "\n",
              "    </div>\n",
              "  </div>\n"
            ],
            "application/vnd.google.colaboratory.intrinsic+json": {
              "type": "dataframe",
              "summary": "{\n  \"name\": \"df\",\n  \"rows\": 5,\n  \"fields\": [\n    {\n      \"column\": \"\\ud559\\uacfc\",\n      \"properties\": {\n        \"dtype\": \"category\",\n        \"num_unique_values\": 1,\n        \"samples\": [\n          \"\\ud1b5\\uacc4\\ud655\\uacfc\"\n        ],\n        \"semantic_type\": \"\",\n        \"description\": \"\"\n      }\n    },\n    {\n      \"column\": \"\\ub3d9\\uc544\\ub9ac\\uac00\\uc785\\uc5ec\\ubd80\",\n      \"properties\": {\n        \"dtype\": \"category\",\n        \"num_unique_values\": 2,\n        \"samples\": [\n          \"\\ubbf8\\uac00\\uc785\"\n        ],\n        \"semantic_type\": \"\",\n        \"description\": \"\"\n      }\n    }\n  ]\n}"
            }
          },
          "metadata": {},
          "execution_count": 38
        }
      ]
    },
    {
      "cell_type": "code",
      "source": [
        "df = pd.crosstab(df['학과'],df['동아리가입여부'])\n",
        "df"
      ],
      "metadata": {
        "id": "eBCu_7xpnXWN",
        "outputId": "ed6822eb-dd6c-4fac-fa43-e63203ba6286",
        "colab": {
          "base_uri": "https://localhost:8080/",
          "height": 143
        }
      },
      "execution_count": 39,
      "outputs": [
        {
          "output_type": "execute_result",
          "data": {
            "text/plain": [
              "동아리가입여부  가입  미가입\n",
              "학과              \n",
              "컴퓨터공학과   30   70\n",
              "통계확과     50   50"
            ],
            "text/html": [
              "\n",
              "  <div id=\"df-e14af9a0-c68d-4f97-81d5-21d26d69e77d\" class=\"colab-df-container\">\n",
              "    <div>\n",
              "<style scoped>\n",
              "    .dataframe tbody tr th:only-of-type {\n",
              "        vertical-align: middle;\n",
              "    }\n",
              "\n",
              "    .dataframe tbody tr th {\n",
              "        vertical-align: top;\n",
              "    }\n",
              "\n",
              "    .dataframe thead th {\n",
              "        text-align: right;\n",
              "    }\n",
              "</style>\n",
              "<table border=\"1\" class=\"dataframe\">\n",
              "  <thead>\n",
              "    <tr style=\"text-align: right;\">\n",
              "      <th>동아리가입여부</th>\n",
              "      <th>가입</th>\n",
              "      <th>미가입</th>\n",
              "    </tr>\n",
              "    <tr>\n",
              "      <th>학과</th>\n",
              "      <th></th>\n",
              "      <th></th>\n",
              "    </tr>\n",
              "  </thead>\n",
              "  <tbody>\n",
              "    <tr>\n",
              "      <th>컴퓨터공학과</th>\n",
              "      <td>30</td>\n",
              "      <td>70</td>\n",
              "    </tr>\n",
              "    <tr>\n",
              "      <th>통계확과</th>\n",
              "      <td>50</td>\n",
              "      <td>50</td>\n",
              "    </tr>\n",
              "  </tbody>\n",
              "</table>\n",
              "</div>\n",
              "    <div class=\"colab-df-buttons\">\n",
              "\n",
              "  <div class=\"colab-df-container\">\n",
              "    <button class=\"colab-df-convert\" onclick=\"convertToInteractive('df-e14af9a0-c68d-4f97-81d5-21d26d69e77d')\"\n",
              "            title=\"Convert this dataframe to an interactive table.\"\n",
              "            style=\"display:none;\">\n",
              "\n",
              "  <svg xmlns=\"http://www.w3.org/2000/svg\" height=\"24px\" viewBox=\"0 -960 960 960\">\n",
              "    <path d=\"M120-120v-720h720v720H120Zm60-500h600v-160H180v160Zm220 220h160v-160H400v160Zm0 220h160v-160H400v160ZM180-400h160v-160H180v160Zm440 0h160v-160H620v160ZM180-180h160v-160H180v160Zm440 0h160v-160H620v160Z\"/>\n",
              "  </svg>\n",
              "    </button>\n",
              "\n",
              "  <style>\n",
              "    .colab-df-container {\n",
              "      display:flex;\n",
              "      gap: 12px;\n",
              "    }\n",
              "\n",
              "    .colab-df-convert {\n",
              "      background-color: #E8F0FE;\n",
              "      border: none;\n",
              "      border-radius: 50%;\n",
              "      cursor: pointer;\n",
              "      display: none;\n",
              "      fill: #1967D2;\n",
              "      height: 32px;\n",
              "      padding: 0 0 0 0;\n",
              "      width: 32px;\n",
              "    }\n",
              "\n",
              "    .colab-df-convert:hover {\n",
              "      background-color: #E2EBFA;\n",
              "      box-shadow: 0px 1px 2px rgba(60, 64, 67, 0.3), 0px 1px 3px 1px rgba(60, 64, 67, 0.15);\n",
              "      fill: #174EA6;\n",
              "    }\n",
              "\n",
              "    .colab-df-buttons div {\n",
              "      margin-bottom: 4px;\n",
              "    }\n",
              "\n",
              "    [theme=dark] .colab-df-convert {\n",
              "      background-color: #3B4455;\n",
              "      fill: #D2E3FC;\n",
              "    }\n",
              "\n",
              "    [theme=dark] .colab-df-convert:hover {\n",
              "      background-color: #434B5C;\n",
              "      box-shadow: 0px 1px 3px 1px rgba(0, 0, 0, 0.15);\n",
              "      filter: drop-shadow(0px 1px 2px rgba(0, 0, 0, 0.3));\n",
              "      fill: #FFFFFF;\n",
              "    }\n",
              "  </style>\n",
              "\n",
              "    <script>\n",
              "      const buttonEl =\n",
              "        document.querySelector('#df-e14af9a0-c68d-4f97-81d5-21d26d69e77d button.colab-df-convert');\n",
              "      buttonEl.style.display =\n",
              "        google.colab.kernel.accessAllowed ? 'block' : 'none';\n",
              "\n",
              "      async function convertToInteractive(key) {\n",
              "        const element = document.querySelector('#df-e14af9a0-c68d-4f97-81d5-21d26d69e77d');\n",
              "        const dataTable =\n",
              "          await google.colab.kernel.invokeFunction('convertToInteractive',\n",
              "                                                    [key], {});\n",
              "        if (!dataTable) return;\n",
              "\n",
              "        const docLinkHtml = 'Like what you see? Visit the ' +\n",
              "          '<a target=\"_blank\" href=https://colab.research.google.com/notebooks/data_table.ipynb>data table notebook</a>'\n",
              "          + ' to learn more about interactive tables.';\n",
              "        element.innerHTML = '';\n",
              "        dataTable['output_type'] = 'display_data';\n",
              "        await google.colab.output.renderOutput(dataTable, element);\n",
              "        const docLink = document.createElement('div');\n",
              "        docLink.innerHTML = docLinkHtml;\n",
              "        element.appendChild(docLink);\n",
              "      }\n",
              "    </script>\n",
              "  </div>\n",
              "\n",
              "\n",
              "<div id=\"df-7f648fba-4289-43f8-87cd-3517d667e882\">\n",
              "  <button class=\"colab-df-quickchart\" onclick=\"quickchart('df-7f648fba-4289-43f8-87cd-3517d667e882')\"\n",
              "            title=\"Suggest charts\"\n",
              "            style=\"display:none;\">\n",
              "\n",
              "<svg xmlns=\"http://www.w3.org/2000/svg\" height=\"24px\"viewBox=\"0 0 24 24\"\n",
              "     width=\"24px\">\n",
              "    <g>\n",
              "        <path d=\"M19 3H5c-1.1 0-2 .9-2 2v14c0 1.1.9 2 2 2h14c1.1 0 2-.9 2-2V5c0-1.1-.9-2-2-2zM9 17H7v-7h2v7zm4 0h-2V7h2v10zm4 0h-2v-4h2v4z\"/>\n",
              "    </g>\n",
              "</svg>\n",
              "  </button>\n",
              "\n",
              "<style>\n",
              "  .colab-df-quickchart {\n",
              "      --bg-color: #E8F0FE;\n",
              "      --fill-color: #1967D2;\n",
              "      --hover-bg-color: #E2EBFA;\n",
              "      --hover-fill-color: #174EA6;\n",
              "      --disabled-fill-color: #AAA;\n",
              "      --disabled-bg-color: #DDD;\n",
              "  }\n",
              "\n",
              "  [theme=dark] .colab-df-quickchart {\n",
              "      --bg-color: #3B4455;\n",
              "      --fill-color: #D2E3FC;\n",
              "      --hover-bg-color: #434B5C;\n",
              "      --hover-fill-color: #FFFFFF;\n",
              "      --disabled-bg-color: #3B4455;\n",
              "      --disabled-fill-color: #666;\n",
              "  }\n",
              "\n",
              "  .colab-df-quickchart {\n",
              "    background-color: var(--bg-color);\n",
              "    border: none;\n",
              "    border-radius: 50%;\n",
              "    cursor: pointer;\n",
              "    display: none;\n",
              "    fill: var(--fill-color);\n",
              "    height: 32px;\n",
              "    padding: 0;\n",
              "    width: 32px;\n",
              "  }\n",
              "\n",
              "  .colab-df-quickchart:hover {\n",
              "    background-color: var(--hover-bg-color);\n",
              "    box-shadow: 0 1px 2px rgba(60, 64, 67, 0.3), 0 1px 3px 1px rgba(60, 64, 67, 0.15);\n",
              "    fill: var(--button-hover-fill-color);\n",
              "  }\n",
              "\n",
              "  .colab-df-quickchart-complete:disabled,\n",
              "  .colab-df-quickchart-complete:disabled:hover {\n",
              "    background-color: var(--disabled-bg-color);\n",
              "    fill: var(--disabled-fill-color);\n",
              "    box-shadow: none;\n",
              "  }\n",
              "\n",
              "  .colab-df-spinner {\n",
              "    border: 2px solid var(--fill-color);\n",
              "    border-color: transparent;\n",
              "    border-bottom-color: var(--fill-color);\n",
              "    animation:\n",
              "      spin 1s steps(1) infinite;\n",
              "  }\n",
              "\n",
              "  @keyframes spin {\n",
              "    0% {\n",
              "      border-color: transparent;\n",
              "      border-bottom-color: var(--fill-color);\n",
              "      border-left-color: var(--fill-color);\n",
              "    }\n",
              "    20% {\n",
              "      border-color: transparent;\n",
              "      border-left-color: var(--fill-color);\n",
              "      border-top-color: var(--fill-color);\n",
              "    }\n",
              "    30% {\n",
              "      border-color: transparent;\n",
              "      border-left-color: var(--fill-color);\n",
              "      border-top-color: var(--fill-color);\n",
              "      border-right-color: var(--fill-color);\n",
              "    }\n",
              "    40% {\n",
              "      border-color: transparent;\n",
              "      border-right-color: var(--fill-color);\n",
              "      border-top-color: var(--fill-color);\n",
              "    }\n",
              "    60% {\n",
              "      border-color: transparent;\n",
              "      border-right-color: var(--fill-color);\n",
              "    }\n",
              "    80% {\n",
              "      border-color: transparent;\n",
              "      border-right-color: var(--fill-color);\n",
              "      border-bottom-color: var(--fill-color);\n",
              "    }\n",
              "    90% {\n",
              "      border-color: transparent;\n",
              "      border-bottom-color: var(--fill-color);\n",
              "    }\n",
              "  }\n",
              "</style>\n",
              "\n",
              "  <script>\n",
              "    async function quickchart(key) {\n",
              "      const quickchartButtonEl =\n",
              "        document.querySelector('#' + key + ' button');\n",
              "      quickchartButtonEl.disabled = true;  // To prevent multiple clicks.\n",
              "      quickchartButtonEl.classList.add('colab-df-spinner');\n",
              "      try {\n",
              "        const charts = await google.colab.kernel.invokeFunction(\n",
              "            'suggestCharts', [key], {});\n",
              "      } catch (error) {\n",
              "        console.error('Error during call to suggestCharts:', error);\n",
              "      }\n",
              "      quickchartButtonEl.classList.remove('colab-df-spinner');\n",
              "      quickchartButtonEl.classList.add('colab-df-quickchart-complete');\n",
              "    }\n",
              "    (() => {\n",
              "      let quickchartButtonEl =\n",
              "        document.querySelector('#df-7f648fba-4289-43f8-87cd-3517d667e882 button');\n",
              "      quickchartButtonEl.style.display =\n",
              "        google.colab.kernel.accessAllowed ? 'block' : 'none';\n",
              "    })();\n",
              "  </script>\n",
              "</div>\n",
              "\n",
              "  <div id=\"id_839f5b7f-6b39-4cf0-9dce-bf2acb4a0345\">\n",
              "    <style>\n",
              "      .colab-df-generate {\n",
              "        background-color: #E8F0FE;\n",
              "        border: none;\n",
              "        border-radius: 50%;\n",
              "        cursor: pointer;\n",
              "        display: none;\n",
              "        fill: #1967D2;\n",
              "        height: 32px;\n",
              "        padding: 0 0 0 0;\n",
              "        width: 32px;\n",
              "      }\n",
              "\n",
              "      .colab-df-generate:hover {\n",
              "        background-color: #E2EBFA;\n",
              "        box-shadow: 0px 1px 2px rgba(60, 64, 67, 0.3), 0px 1px 3px 1px rgba(60, 64, 67, 0.15);\n",
              "        fill: #174EA6;\n",
              "      }\n",
              "\n",
              "      [theme=dark] .colab-df-generate {\n",
              "        background-color: #3B4455;\n",
              "        fill: #D2E3FC;\n",
              "      }\n",
              "\n",
              "      [theme=dark] .colab-df-generate:hover {\n",
              "        background-color: #434B5C;\n",
              "        box-shadow: 0px 1px 3px 1px rgba(0, 0, 0, 0.15);\n",
              "        filter: drop-shadow(0px 1px 2px rgba(0, 0, 0, 0.3));\n",
              "        fill: #FFFFFF;\n",
              "      }\n",
              "    </style>\n",
              "    <button class=\"colab-df-generate\" onclick=\"generateWithVariable('df')\"\n",
              "            title=\"Generate code using this dataframe.\"\n",
              "            style=\"display:none;\">\n",
              "\n",
              "  <svg xmlns=\"http://www.w3.org/2000/svg\" height=\"24px\"viewBox=\"0 0 24 24\"\n",
              "       width=\"24px\">\n",
              "    <path d=\"M7,19H8.4L18.45,9,17,7.55,7,17.6ZM5,21V16.75L18.45,3.32a2,2,0,0,1,2.83,0l1.4,1.43a1.91,1.91,0,0,1,.58,1.4,1.91,1.91,0,0,1-.58,1.4L9.25,21ZM18.45,9,17,7.55Zm-12,3A5.31,5.31,0,0,0,4.9,8.1,5.31,5.31,0,0,0,1,6.5,5.31,5.31,0,0,0,4.9,4.9,5.31,5.31,0,0,0,6.5,1,5.31,5.31,0,0,0,8.1,4.9,5.31,5.31,0,0,0,12,6.5,5.46,5.46,0,0,0,6.5,12Z\"/>\n",
              "  </svg>\n",
              "    </button>\n",
              "    <script>\n",
              "      (() => {\n",
              "      const buttonEl =\n",
              "        document.querySelector('#id_839f5b7f-6b39-4cf0-9dce-bf2acb4a0345 button.colab-df-generate');\n",
              "      buttonEl.style.display =\n",
              "        google.colab.kernel.accessAllowed ? 'block' : 'none';\n",
              "\n",
              "      buttonEl.onclick = () => {\n",
              "        google.colab.notebook.generateWithVariable('df');\n",
              "      }\n",
              "      })();\n",
              "    </script>\n",
              "  </div>\n",
              "\n",
              "    </div>\n",
              "  </div>\n"
            ],
            "application/vnd.google.colaboratory.intrinsic+json": {
              "type": "dataframe",
              "variable_name": "df",
              "summary": "{\n  \"name\": \"df\",\n  \"rows\": 2,\n  \"fields\": [\n    {\n      \"column\": \"\\ud559\\uacfc\",\n      \"properties\": {\n        \"dtype\": \"string\",\n        \"num_unique_values\": 2,\n        \"samples\": [\n          \"\\ud1b5\\uacc4\\ud655\\uacfc\",\n          \"\\ucef4\\ud4e8\\ud130\\uacf5\\ud559\\uacfc\"\n        ],\n        \"semantic_type\": \"\",\n        \"description\": \"\"\n      }\n    },\n    {\n      \"column\": \"\\uac00\\uc785\",\n      \"properties\": {\n        \"dtype\": \"number\",\n        \"std\": 14,\n        \"min\": 30,\n        \"max\": 50,\n        \"num_unique_values\": 2,\n        \"samples\": [\n          50,\n          30\n        ],\n        \"semantic_type\": \"\",\n        \"description\": \"\"\n      }\n    },\n    {\n      \"column\": \"\\ubbf8\\uac00\\uc785\",\n      \"properties\": {\n        \"dtype\": \"number\",\n        \"std\": 14,\n        \"min\": 50,\n        \"max\": 70,\n        \"num_unique_values\": 2,\n        \"samples\": [\n          50,\n          70\n        ],\n        \"semantic_type\": \"\",\n        \"description\": \"\"\n      }\n    }\n  ]\n}"
            }
          },
          "metadata": {},
          "execution_count": 39
        }
      ]
    },
    {
      "cell_type": "code",
      "source": [
        "print(chi2_contingency(df))"
      ],
      "metadata": {
        "id": "o1y1VceYoJbl",
        "outputId": "139e6192-0894-46c2-aa4a-eb99340757bc",
        "colab": {
          "base_uri": "https://localhost:8080/"
        }
      },
      "execution_count": 40,
      "outputs": [
        {
          "output_type": "stream",
          "name": "stdout",
          "text": [
            "Chi2ContingencyResult(statistic=7.520833333333334, pvalue=0.006098945931214352, dof=1, expected_freq=array([[40., 60.],\n",
            "       [40., 60.]]))\n"
          ]
        }
      ]
    },
    {
      "cell_type": "markdown",
      "source": [
        "### 기대 빈도 해석\n",
        "- 40.0 : 컴퓨터공학과 학생이 동아리 가입할 것으로 기대되는 수\n",
        "- 60.0 : 컴퓨터 공학과 학생이 동아리 미가입할 것으로 기대되는 수\n",
        "- 40.0 : 통계학과 학생이 동아리에 가입할 것으로 기대되는 수\n",
        "- 60.0 : 통계학과 학생이 동아리에 미가입할 것으로 기대되는 수"
      ],
      "metadata": {
        "id": "z97f9OgmoSPH"
      }
    }
  ],
  "metadata": {
    "celltoolbar": "Edit Metadata",
    "kernelspec": {
      "display_name": "Python 3 (ipykernel)",
      "language": "python",
      "name": "python3"
    },
    "language_info": {
      "codemirror_mode": {
        "name": "ipython",
        "version": 3
      },
      "file_extension": ".py",
      "mimetype": "text/x-python",
      "name": "python",
      "nbconvert_exporter": "python",
      "pygments_lexer": "ipython3",
      "version": "3.8.18"
    },
    "colab": {
      "provenance": [],
      "name": "Part02_Mulit_Classification.ipynb"
    }
  },
  "nbformat": 4,
  "nbformat_minor": 0
}