{
  "cells": [
    {
      "cell_type": "markdown",
      "source": [
        "# SECTION 01. 단일 표본검정"
      ],
      "metadata": {
        "id": "uwAyPQY0Pfsi"
      }
    },
    {
      "cell_type": "markdown",
      "source": [
        "Q. 한 커피 제조회사에서는 새로 출시한 커피의 카페인 함량이 평균 95mg 미만이라고 주장했다.<br/>\n",
        " 그 주장이 사실인지를 알아보기 위해 25개의 커피 샘플을 무작위(랜덤) 추출했다. 커피회사의 주장이 타당한지를 유의수준 5%에서 검정하시오.\n",
        "- 귀무가설(H0) : >= 95mg\n",
        "- 대립가설(H1) : < 95mg\n"
      ],
      "metadata": {
        "id": "lJovZj-I0ckq"
      }
    },
    {
      "cell_type": "code",
      "source": [
        "# 데이터\n",
        "import pandas as pd\n",
        "df = pd.DataFrame({\n",
        "    'Caffeine(mg)': [\n",
        "        94.2, 93.7, 95.5, 93.9, 94.0, 95.2, 94.7, 93.5, 92.8, 94.4,\n",
        "        93.8, 94.6, 93.3, 95.1, 94.3, 94.9, 93.9, 94.8, 95.0, 94.2,\n",
        "        93.7, 94.4, 95.1, 94.0, 93.6\n",
        "    ]\n",
        "})"
      ],
      "metadata": {
        "id": "hryQgoL_02xT"
      },
      "execution_count": 51,
      "outputs": []
    },
    {
      "cell_type": "code",
      "source": [
        "# 표본 데이터의 평균\n",
        "df.mean()"
      ],
      "metadata": {
        "id": "Utdg1l3x05p8",
        "outputId": "690bcbaa-298a-4e31-bdac-f8964b9fb21a",
        "colab": {
          "base_uri": "https://localhost:8080/",
          "height": 115
        }
      },
      "execution_count": 52,
      "outputs": [
        {
          "output_type": "execute_result",
          "data": {
            "text/plain": [
              "Caffeine(mg)    94.264\n",
              "dtype: float64"
            ],
            "text/html": [
              "<div>\n",
              "<style scoped>\n",
              "    .dataframe tbody tr th:only-of-type {\n",
              "        vertical-align: middle;\n",
              "    }\n",
              "\n",
              "    .dataframe tbody tr th {\n",
              "        vertical-align: top;\n",
              "    }\n",
              "\n",
              "    .dataframe thead th {\n",
              "        text-align: right;\n",
              "    }\n",
              "</style>\n",
              "<table border=\"1\" class=\"dataframe\">\n",
              "  <thead>\n",
              "    <tr style=\"text-align: right;\">\n",
              "      <th></th>\n",
              "      <th>0</th>\n",
              "    </tr>\n",
              "  </thead>\n",
              "  <tbody>\n",
              "    <tr>\n",
              "      <th>Caffeine(mg)</th>\n",
              "      <td>94.264</td>\n",
              "    </tr>\n",
              "  </tbody>\n",
              "</table>\n",
              "</div><br><label><b>dtype:</b> float64</label>"
            ]
          },
          "metadata": {},
          "execution_count": 52
        }
      ]
    },
    {
      "cell_type": "code",
      "source": [
        "# Shapiro-Wilk 검정의 p-value\n",
        "from scipy import stats\n",
        "print(stats.shapiro(df['Caffeine(mg)']))"
      ],
      "metadata": {
        "id": "tkR0phpt0_UN",
        "outputId": "a4a547a8-5aee-4c7d-cb76-2fa1b8d3d8b6",
        "colab": {
          "base_uri": "https://localhost:8080/"
        }
      },
      "execution_count": 53,
      "outputs": [
        {
          "output_type": "stream",
          "name": "stdout",
          "text": [
            "ShapiroResult(statistic=0.9826578166170536, pvalue=0.9322031137746971)\n"
          ]
        }
      ]
    },
    {
      "cell_type": "code",
      "source": [
        "# 단일 표본 t- 검정의 검정통계량,p-value, 유의수준 0.05하에서 귀무가설을 기준으로 검정 결과 채택 기각을 선택해서 입력하시오.\n",
        "print(stats.ttest_1samp(df['Caffeine(mg)'],95,alternative='less'))"
      ],
      "metadata": {
        "id": "eljNeN-g1N4m",
        "outputId": "bea54236-9f00-4b83-ba3b-8019571e643a",
        "colab": {
          "base_uri": "https://localhost:8080/"
        }
      },
      "execution_count": 55,
      "outputs": [
        {
          "output_type": "stream",
          "name": "stdout",
          "text": [
            "TtestResult(statistic=-5.501737036221897, pvalue=5.8686553916715e-06, df=24)\n"
          ]
        }
      ]
    },
    {
      "cell_type": "markdown",
      "source": [
        "# SECTION 02. 독립 표본검정"
      ],
      "metadata": {
        "id": "Zs5GqNVMPm1L"
      }
    },
    {
      "cell_type": "markdown",
      "source": [
        "Q. 스마트폰 배터리의 충전 시간을 줄이기 위한 새로운 충전기를 개발했다. 개발된 충전기의 효과를 검정하기 위해 스마트폰 사용자 집단을 두 그룹으로 나눠 한 그룹에는 새로운 충전기를 제공하고, 다른 구룹에는 기존의 충전기를 제공했다. 그 후 두 그룹의 평균 충전 완료 시간을 비교했다. 두 그룹 모두 충전 시간은 정규 분포를 따르며 분산은 같다고 가정한다. 새로운 충전기가 더 빠르다고 할 수 있는지를 유의수  5%하에서 검정하시오. 여기서 두 집단은 모두 정규 분포를 따르고 분산은 같다고 가정한다. <br>\n",
        "(새로운 충전기 모평균 :μ1 , 기존의 충전기 집단 모평균 : μ2)\n",
        "- 귀무가설(H0) : μ1 >= μ2\n",
        "- 대립가설(H1) : μ1 < μ2"
      ],
      "metadata": {
        "id": "KmCtY9tD2F1w"
      }
    },
    {
      "cell_type": "code",
      "source": [
        "# 데이터\n",
        "import pandas as pd\n",
        "df = pd.DataFrame({\n",
        "    '충전기': ['New'] * 10 + ['Old'] * 10,\n",
        "    '충전시간': [\n",
        "        1.5, 1.6, 1.4, 1.7, 1.5, 1.6, 1.7, 1.4, 1.6, 1.5,\n",
        "        1.7, 1.8, 1.7, 1.9, 1.8, 1.7, 1.8, 1.9, 1.7, 1.6\n",
        "    ]\n",
        "})\n",
        "print(df.head(2))"
      ],
      "metadata": {
        "id": "xCa14ikQ3JZ-",
        "outputId": "255df79c-cc1a-4cec-e3b7-e6a50265cb32",
        "colab": {
          "base_uri": "https://localhost:8080/"
        }
      },
      "execution_count": 56,
      "outputs": [
        {
          "output_type": "stream",
          "name": "stdout",
          "text": [
            "   충전기  충전시간\n",
            "0  New   1.5\n",
            "1  New   1.6\n"
          ]
        }
      ]
    },
    {
      "cell_type": "code",
      "source": [
        "# 가설\n",
        "new_cond = df['충전기']=='New'\n",
        "old_cond = df['충전기']=='Old'\n",
        "print(stats.ttest_ind(df[new_cond]['충전시간'],df[old_cond]['충전시간'],alternative='less',equal_var=True))"
      ],
      "metadata": {
        "id": "VmqyD2tt3brP",
        "outputId": "a9784139-b8d1-4be9-d0dd-21ea2f233689",
        "colab": {
          "base_uri": "https://localhost:8080/"
        }
      },
      "execution_count": 59,
      "outputs": [
        {
          "output_type": "stream",
          "name": "stdout",
          "text": [
            "TtestResult(statistic=-4.582575694955849, pvalue=0.00011546547787696304, df=18.0)\n"
          ]
        }
      ]
    },
    {
      "cell_type": "markdown",
      "source": [
        "# SECTION 03. 대응 표본검정"
      ],
      "metadata": {
        "id": "uOFIWdPHPqxC"
      }
    },
    {
      "cell_type": "markdown",
      "source": [
        "### Q. 길벗 연구소에서는 새로 개발한 교육과정에 참여하면 학습 시간이 단축된다고 주장한다. 10명의 학생들을 대상으로 기존의 교육방법과 새로운 교육 방법을 적용한 결과에 대해 유의수준 5%에서 새로운 교육 방법이 교육 시간을 단축시켰는지 검정하시오(단, 모집단은 정규분포를 가정한다.)\n",
        "-------------------\n",
        "- μ = (새로운 교수 방법 - 기존 교수 방법)의 평균\n",
        "- 귀무가설 : μ = 0\n",
        "- 대립가설 : μ < 0"
      ],
      "metadata": {
        "id": "wdCYZZrE45ky"
      }
    },
    {
      "cell_type": "code",
      "source": [
        "# 데이터\n",
        "import pandas as pd\n",
        "df = pd.DataFrame({\n",
        "    'User': list(range(1, 11)),\n",
        "    '기존방법': [60.4, 60.7, 60.5, 60.3, 60.8, 60.6, 60.2, 60.5, 60.7, 60.4],\n",
        "    '새로운방법': [59.8, 60.2, 60.1, 59.9, 59.7, 58.4, 57.0, 60.3, 59.6, 59.8]\n",
        "})\n",
        "print(df.head(2))\n",
        "from scipy import stats\n",
        "df['diff']  = df['새로운방법']-df['기존방법']\n",
        "print(df['diff'].mean())\n",
        "\n",
        "stats.ttest_rel(df['새로운방법'],df['기존방법'],alternative='less')\n"
      ],
      "metadata": {
        "id": "uBojelOa44F2",
        "outputId": "356ee4e4-b3d9-4874-f2c4-b488e46df511",
        "colab": {
          "base_uri": "https://localhost:8080/"
        }
      },
      "execution_count": 68,
      "outputs": [
        {
          "output_type": "stream",
          "name": "stdout",
          "text": [
            "   User  기존방법  새로운방법\n",
            "0     1  60.4   59.8\n",
            "1     2  60.7   60.2\n",
            "-1.0300000000000005\n"
          ]
        },
        {
          "output_type": "execute_result",
          "data": {
            "text/plain": [
              "TtestResult(statistic=-3.407973078114844, pvalue=0.0038872633380070652, df=9)"
            ]
          },
          "metadata": {},
          "execution_count": 68
        }
      ]
    },
    {
      "cell_type": "markdown",
      "source": [
        "# SECTION 04. 일원 분산 분석"
      ],
      "metadata": {
        "id": "-jEP7ivwPvHK"
      }
    },
    {
      "cell_type": "markdown",
      "source": [
        "### Q. 4개의 중학교에서 다른 교육 방법을 사용해 학생들에게 수학을 가르쳤다. 각 중학교 학생들이 받은 교육 후의 수학 성적은 다음과 같다. 이 4개의 교육 방법에 따른 성적 차이가 통계적으로 유의한지 5%의 유의수준에서 검정하시오.\n",
        "---------------------------\n",
        "- 귀무가설(H0) : 모든 중학교의 학생들의 수학 성적 평균은 동일하다.\n",
        "- 대립가설(H1) : 적어도 2개 중학교의 학생들의 수학 성적 평균은 다르다.\n",
        "(4개 교육 방법 중 최소한 하나의 방법이 다른 방법들과 성적에서 차이가 있다.)"
      ],
      "metadata": {
        "id": "ZX37fmr39Nse"
      }
    },
    {
      "cell_type": "code",
      "source": [
        "from google.colab import files\n",
        "uploaded = files.upload()"
      ],
      "metadata": {
        "id": "KteUuzFt8Uax",
        "outputId": "b9fe4191-c62f-4785-9eb4-9319418db96a",
        "colab": {
          "base_uri": "https://localhost:8080/",
          "height": 77
        }
      },
      "execution_count": 97,
      "outputs": [
        {
          "output_type": "display_data",
          "data": {
            "text/plain": [
              "<IPython.core.display.HTML object>"
            ],
            "text/html": [
              "\n",
              "     <input type=\"file\" id=\"files-2bff3697-aedf-4174-9521-b960c2aed464\" name=\"files[]\" multiple disabled\n",
              "        style=\"border:none\" />\n",
              "     <output id=\"result-2bff3697-aedf-4174-9521-b960c2aed464\">\n",
              "      Upload widget is only available when the cell has been executed in the\n",
              "      current browser session. Please rerun this cell to enable.\n",
              "      </output>\n",
              "      <script>// Copyright 2017 Google LLC\n",
              "//\n",
              "// Licensed under the Apache License, Version 2.0 (the \"License\");\n",
              "// you may not use this file except in compliance with the License.\n",
              "// You may obtain a copy of the License at\n",
              "//\n",
              "//      http://www.apache.org/licenses/LICENSE-2.0\n",
              "//\n",
              "// Unless required by applicable law or agreed to in writing, software\n",
              "// distributed under the License is distributed on an \"AS IS\" BASIS,\n",
              "// WITHOUT WARRANTIES OR CONDITIONS OF ANY KIND, either express or implied.\n",
              "// See the License for the specific language governing permissions and\n",
              "// limitations under the License.\n",
              "\n",
              "/**\n",
              " * @fileoverview Helpers for google.colab Python module.\n",
              " */\n",
              "(function(scope) {\n",
              "function span(text, styleAttributes = {}) {\n",
              "  const element = document.createElement('span');\n",
              "  element.textContent = text;\n",
              "  for (const key of Object.keys(styleAttributes)) {\n",
              "    element.style[key] = styleAttributes[key];\n",
              "  }\n",
              "  return element;\n",
              "}\n",
              "\n",
              "// Max number of bytes which will be uploaded at a time.\n",
              "const MAX_PAYLOAD_SIZE = 100 * 1024;\n",
              "\n",
              "function _uploadFiles(inputId, outputId) {\n",
              "  const steps = uploadFilesStep(inputId, outputId);\n",
              "  const outputElement = document.getElementById(outputId);\n",
              "  // Cache steps on the outputElement to make it available for the next call\n",
              "  // to uploadFilesContinue from Python.\n",
              "  outputElement.steps = steps;\n",
              "\n",
              "  return _uploadFilesContinue(outputId);\n",
              "}\n",
              "\n",
              "// This is roughly an async generator (not supported in the browser yet),\n",
              "// where there are multiple asynchronous steps and the Python side is going\n",
              "// to poll for completion of each step.\n",
              "// This uses a Promise to block the python side on completion of each step,\n",
              "// then passes the result of the previous step as the input to the next step.\n",
              "function _uploadFilesContinue(outputId) {\n",
              "  const outputElement = document.getElementById(outputId);\n",
              "  const steps = outputElement.steps;\n",
              "\n",
              "  const next = steps.next(outputElement.lastPromiseValue);\n",
              "  return Promise.resolve(next.value.promise).then((value) => {\n",
              "    // Cache the last promise value to make it available to the next\n",
              "    // step of the generator.\n",
              "    outputElement.lastPromiseValue = value;\n",
              "    return next.value.response;\n",
              "  });\n",
              "}\n",
              "\n",
              "/**\n",
              " * Generator function which is called between each async step of the upload\n",
              " * process.\n",
              " * @param {string} inputId Element ID of the input file picker element.\n",
              " * @param {string} outputId Element ID of the output display.\n",
              " * @return {!Iterable<!Object>} Iterable of next steps.\n",
              " */\n",
              "function* uploadFilesStep(inputId, outputId) {\n",
              "  const inputElement = document.getElementById(inputId);\n",
              "  inputElement.disabled = false;\n",
              "\n",
              "  const outputElement = document.getElementById(outputId);\n",
              "  outputElement.innerHTML = '';\n",
              "\n",
              "  const pickedPromise = new Promise((resolve) => {\n",
              "    inputElement.addEventListener('change', (e) => {\n",
              "      resolve(e.target.files);\n",
              "    });\n",
              "  });\n",
              "\n",
              "  const cancel = document.createElement('button');\n",
              "  inputElement.parentElement.appendChild(cancel);\n",
              "  cancel.textContent = 'Cancel upload';\n",
              "  const cancelPromise = new Promise((resolve) => {\n",
              "    cancel.onclick = () => {\n",
              "      resolve(null);\n",
              "    };\n",
              "  });\n",
              "\n",
              "  // Wait for the user to pick the files.\n",
              "  const files = yield {\n",
              "    promise: Promise.race([pickedPromise, cancelPromise]),\n",
              "    response: {\n",
              "      action: 'starting',\n",
              "    }\n",
              "  };\n",
              "\n",
              "  cancel.remove();\n",
              "\n",
              "  // Disable the input element since further picks are not allowed.\n",
              "  inputElement.disabled = true;\n",
              "\n",
              "  if (!files) {\n",
              "    return {\n",
              "      response: {\n",
              "        action: 'complete',\n",
              "      }\n",
              "    };\n",
              "  }\n",
              "\n",
              "  for (const file of files) {\n",
              "    const li = document.createElement('li');\n",
              "    li.append(span(file.name, {fontWeight: 'bold'}));\n",
              "    li.append(span(\n",
              "        `(${file.type || 'n/a'}) - ${file.size} bytes, ` +\n",
              "        `last modified: ${\n",
              "            file.lastModifiedDate ? file.lastModifiedDate.toLocaleDateString() :\n",
              "                                    'n/a'} - `));\n",
              "    const percent = span('0% done');\n",
              "    li.appendChild(percent);\n",
              "\n",
              "    outputElement.appendChild(li);\n",
              "\n",
              "    const fileDataPromise = new Promise((resolve) => {\n",
              "      const reader = new FileReader();\n",
              "      reader.onload = (e) => {\n",
              "        resolve(e.target.result);\n",
              "      };\n",
              "      reader.readAsArrayBuffer(file);\n",
              "    });\n",
              "    // Wait for the data to be ready.\n",
              "    let fileData = yield {\n",
              "      promise: fileDataPromise,\n",
              "      response: {\n",
              "        action: 'continue',\n",
              "      }\n",
              "    };\n",
              "\n",
              "    // Use a chunked sending to avoid message size limits. See b/62115660.\n",
              "    let position = 0;\n",
              "    do {\n",
              "      const length = Math.min(fileData.byteLength - position, MAX_PAYLOAD_SIZE);\n",
              "      const chunk = new Uint8Array(fileData, position, length);\n",
              "      position += length;\n",
              "\n",
              "      const base64 = btoa(String.fromCharCode.apply(null, chunk));\n",
              "      yield {\n",
              "        response: {\n",
              "          action: 'append',\n",
              "          file: file.name,\n",
              "          data: base64,\n",
              "        },\n",
              "      };\n",
              "\n",
              "      let percentDone = fileData.byteLength === 0 ?\n",
              "          100 :\n",
              "          Math.round((position / fileData.byteLength) * 100);\n",
              "      percent.textContent = `${percentDone}% done`;\n",
              "\n",
              "    } while (position < fileData.byteLength);\n",
              "  }\n",
              "\n",
              "  // All done.\n",
              "  yield {\n",
              "    response: {\n",
              "      action: 'complete',\n",
              "    }\n",
              "  };\n",
              "}\n",
              "\n",
              "scope.google = scope.google || {};\n",
              "scope.google.colab = scope.google.colab || {};\n",
              "scope.google.colab._files = {\n",
              "  _uploadFiles,\n",
              "  _uploadFilesContinue,\n",
              "};\n",
              "})(self);\n",
              "</script> "
            ]
          },
          "metadata": {}
        },
        {
          "output_type": "stream",
          "name": "stdout",
          "text": [
            "Saving tomato2.csv to tomato2.csv\n"
          ]
        }
      ]
    },
    {
      "cell_type": "code",
      "source": [
        "import pandas as pd\n",
        "df = pd.read_csv('math.csv')\n",
        "print(df.head())"
      ],
      "metadata": {
        "id": "_UDjk8IP-8dv",
        "outputId": "0893e474-902c-4bf2-e782-15fc63b242a9",
        "colab": {
          "base_uri": "https://localhost:8080/"
        }
      },
      "execution_count": 90,
      "outputs": [
        {
          "output_type": "stream",
          "name": "stdout",
          "text": [
            "    groups  scores\n",
            "0  group_A      85\n",
            "1  group_A      88\n",
            "2  group_A      90\n",
            "3  group_A      82\n",
            "4  group_A      87\n"
          ]
        }
      ]
    },
    {
      "cell_type": "markdown",
      "source": [
        "- 각 그룹의 수학 성적에 대해 shapiro-wilk 검정을 통한 정규성 확인 그 결과의 p-value를 구하시오"
      ],
      "metadata": {
        "id": "vUIO9qly_H68"
      }
    },
    {
      "cell_type": "code",
      "source": [
        "from scipy import stats\n",
        "condA = df['groups']=='group_A'\n",
        "print(stats.shapiro(df[condA]['scores']))\n",
        "\n",
        "condB = df['groups']=='group_B'\n",
        "print(stats.shapiro(df[condB]['scores']))\n",
        "\n",
        "condC = df['groups']=='group_C'\n",
        "print(stats.shapiro(df[condC]['scores']))\n",
        "\n",
        "condD = df['groups']=='group_D'\n",
        "print(stats.shapiro(df[condD]['scores']))\n",
        "\n",
        "# Levine 검정을 실시하고 p-value를 구하시오. -> 등분산성\n",
        "stats.levene(df[condA]['scores'],df[condB]['scores'],df[condC]['scores'],df[condD]['scores'])\n",
        "\n",
        "from statsmodels.formula.api import ols\n",
        "model = ols('scores~groups',df).fit()\n",
        "\n",
        "from statsmodels.stats.anova import anova_lm\n",
        "result = anova_lm(model)\n",
        "print(result)"
      ],
      "metadata": {
        "id": "dzrlWdYv_NyT",
        "outputId": "d2733ed2-65e4-489e-c7c8-17b6b6644fa0",
        "colab": {
          "base_uri": "https://localhost:8080/"
        }
      },
      "execution_count": 96,
      "outputs": [
        {
          "output_type": "stream",
          "name": "stdout",
          "text": [
            "ShapiroResult(statistic=0.9715896670696531, pvalue=0.9051800443853569)\n",
            "ShapiroResult(statistic=0.9499422438060351, pvalue=0.6678172590861611)\n",
            "ShapiroResult(statistic=0.9299424104842702, pvalue=0.44732595113862045)\n",
            "ShapiroResult(statistic=0.9065684572704982, pvalue=0.25824165549017347)\n",
            "            df  sum_sq     mean_sq          F        PR(>F)\n",
            "groups     3.0   411.8  137.266667  34.174274  1.240642e-10\n",
            "Residual  36.0   144.6    4.016667        NaN           NaN\n"
          ]
        }
      ]
    },
    {
      "cell_type": "markdown",
      "source": [
        "SECTION 05. 이원 분산 분석"
      ],
      "metadata": {
        "id": "g2oR1SdoP2sC"
      }
    },
    {
      "cell_type": "markdown",
      "source": [
        "Q. H 토마토 연구소에서는 토마토의 수확량을 늘리기 위해 세 가지 다른 비료 유형과 네가지 다른 물 주기를 실험하고자 한다.\n",
        "연구소에서는 12개의 토마토 식물을 무작위로 선택해 각 조합에 대해 반복적으로 실험을 수행했다.\n",
        "-----------------------\n",
        "- ** 비료 유형에 따른 효과 **\n",
        "  - 귀무가설(H0) : 모든 비료 유형의 토마토 수확량 평균은 동일하다.\n",
        "  - 대립가설(H1) : 적어도 2개 이상의 비료 유형에서의 토마토 수확량 평균은 다르다.\n",
        "- ** 물 주기에 따른 효과 **\n",
        "  - 귀무가설(H0) : 모든 물 주기의 토마토 수확량 평균은 동일하다.\n",
        "  - 대립가설(H1) : 적어도 2개 이상의 물 주기에서의 토마토 수확량 평균은 다르다.\n",
        "- ** 비료 유형과 물 주기 간의 상호작용 효과 **\n",
        "  - 귀무가설(H0) : 비료 유형과 물 주기 간의 상호작용은 토마토 수확량에 영향을 미치지 않는다.\n",
        "  - 대립가설(H1) : 비료 유형과 물 주기 간의 상호작용은 토마토 수확량에 영향을 미친다."
      ],
      "metadata": {
        "id": "XHrqYej5DbMt"
      }
    },
    {
      "cell_type": "code",
      "source": [
        "import pandas as pd\n",
        "df = pd.read_csv('tomato2.csv')\n",
        "df.head(5)"
      ],
      "metadata": {
        "id": "PA36uEfAEOfg",
        "outputId": "c03cc1b0-960a-40f0-d88b-96e40ef1e000",
        "colab": {
          "base_uri": "https://localhost:8080/",
          "height": 206
        }
      },
      "execution_count": 99,
      "outputs": [
        {
          "output_type": "execute_result",
          "data": {
            "text/plain": [
              "  비료유형  물주기  수확량\n",
              "0    A    1  514\n",
              "1    A    1  480\n",
              "2    A    1  507\n",
              "3    A    2  452\n",
              "4    A    2  526"
            ],
            "text/html": [
              "\n",
              "  <div id=\"df-93071638-94aa-4d94-b453-f9f9f90022af\" class=\"colab-df-container\">\n",
              "    <div>\n",
              "<style scoped>\n",
              "    .dataframe tbody tr th:only-of-type {\n",
              "        vertical-align: middle;\n",
              "    }\n",
              "\n",
              "    .dataframe tbody tr th {\n",
              "        vertical-align: top;\n",
              "    }\n",
              "\n",
              "    .dataframe thead th {\n",
              "        text-align: right;\n",
              "    }\n",
              "</style>\n",
              "<table border=\"1\" class=\"dataframe\">\n",
              "  <thead>\n",
              "    <tr style=\"text-align: right;\">\n",
              "      <th></th>\n",
              "      <th>비료유형</th>\n",
              "      <th>물주기</th>\n",
              "      <th>수확량</th>\n",
              "    </tr>\n",
              "  </thead>\n",
              "  <tbody>\n",
              "    <tr>\n",
              "      <th>0</th>\n",
              "      <td>A</td>\n",
              "      <td>1</td>\n",
              "      <td>514</td>\n",
              "    </tr>\n",
              "    <tr>\n",
              "      <th>1</th>\n",
              "      <td>A</td>\n",
              "      <td>1</td>\n",
              "      <td>480</td>\n",
              "    </tr>\n",
              "    <tr>\n",
              "      <th>2</th>\n",
              "      <td>A</td>\n",
              "      <td>1</td>\n",
              "      <td>507</td>\n",
              "    </tr>\n",
              "    <tr>\n",
              "      <th>3</th>\n",
              "      <td>A</td>\n",
              "      <td>2</td>\n",
              "      <td>452</td>\n",
              "    </tr>\n",
              "    <tr>\n",
              "      <th>4</th>\n",
              "      <td>A</td>\n",
              "      <td>2</td>\n",
              "      <td>526</td>\n",
              "    </tr>\n",
              "  </tbody>\n",
              "</table>\n",
              "</div>\n",
              "    <div class=\"colab-df-buttons\">\n",
              "\n",
              "  <div class=\"colab-df-container\">\n",
              "    <button class=\"colab-df-convert\" onclick=\"convertToInteractive('df-93071638-94aa-4d94-b453-f9f9f90022af')\"\n",
              "            title=\"Convert this dataframe to an interactive table.\"\n",
              "            style=\"display:none;\">\n",
              "\n",
              "  <svg xmlns=\"http://www.w3.org/2000/svg\" height=\"24px\" viewBox=\"0 -960 960 960\">\n",
              "    <path d=\"M120-120v-720h720v720H120Zm60-500h600v-160H180v160Zm220 220h160v-160H400v160Zm0 220h160v-160H400v160ZM180-400h160v-160H180v160Zm440 0h160v-160H620v160ZM180-180h160v-160H180v160Zm440 0h160v-160H620v160Z\"/>\n",
              "  </svg>\n",
              "    </button>\n",
              "\n",
              "  <style>\n",
              "    .colab-df-container {\n",
              "      display:flex;\n",
              "      gap: 12px;\n",
              "    }\n",
              "\n",
              "    .colab-df-convert {\n",
              "      background-color: #E8F0FE;\n",
              "      border: none;\n",
              "      border-radius: 50%;\n",
              "      cursor: pointer;\n",
              "      display: none;\n",
              "      fill: #1967D2;\n",
              "      height: 32px;\n",
              "      padding: 0 0 0 0;\n",
              "      width: 32px;\n",
              "    }\n",
              "\n",
              "    .colab-df-convert:hover {\n",
              "      background-color: #E2EBFA;\n",
              "      box-shadow: 0px 1px 2px rgba(60, 64, 67, 0.3), 0px 1px 3px 1px rgba(60, 64, 67, 0.15);\n",
              "      fill: #174EA6;\n",
              "    }\n",
              "\n",
              "    .colab-df-buttons div {\n",
              "      margin-bottom: 4px;\n",
              "    }\n",
              "\n",
              "    [theme=dark] .colab-df-convert {\n",
              "      background-color: #3B4455;\n",
              "      fill: #D2E3FC;\n",
              "    }\n",
              "\n",
              "    [theme=dark] .colab-df-convert:hover {\n",
              "      background-color: #434B5C;\n",
              "      box-shadow: 0px 1px 3px 1px rgba(0, 0, 0, 0.15);\n",
              "      filter: drop-shadow(0px 1px 2px rgba(0, 0, 0, 0.3));\n",
              "      fill: #FFFFFF;\n",
              "    }\n",
              "  </style>\n",
              "\n",
              "    <script>\n",
              "      const buttonEl =\n",
              "        document.querySelector('#df-93071638-94aa-4d94-b453-f9f9f90022af button.colab-df-convert');\n",
              "      buttonEl.style.display =\n",
              "        google.colab.kernel.accessAllowed ? 'block' : 'none';\n",
              "\n",
              "      async function convertToInteractive(key) {\n",
              "        const element = document.querySelector('#df-93071638-94aa-4d94-b453-f9f9f90022af');\n",
              "        const dataTable =\n",
              "          await google.colab.kernel.invokeFunction('convertToInteractive',\n",
              "                                                    [key], {});\n",
              "        if (!dataTable) return;\n",
              "\n",
              "        const docLinkHtml = 'Like what you see? Visit the ' +\n",
              "          '<a target=\"_blank\" href=https://colab.research.google.com/notebooks/data_table.ipynb>data table notebook</a>'\n",
              "          + ' to learn more about interactive tables.';\n",
              "        element.innerHTML = '';\n",
              "        dataTable['output_type'] = 'display_data';\n",
              "        await google.colab.output.renderOutput(dataTable, element);\n",
              "        const docLink = document.createElement('div');\n",
              "        docLink.innerHTML = docLinkHtml;\n",
              "        element.appendChild(docLink);\n",
              "      }\n",
              "    </script>\n",
              "  </div>\n",
              "\n",
              "\n",
              "<div id=\"df-d1006e3a-0f9f-47c8-96e1-4318cbb3cb18\">\n",
              "  <button class=\"colab-df-quickchart\" onclick=\"quickchart('df-d1006e3a-0f9f-47c8-96e1-4318cbb3cb18')\"\n",
              "            title=\"Suggest charts\"\n",
              "            style=\"display:none;\">\n",
              "\n",
              "<svg xmlns=\"http://www.w3.org/2000/svg\" height=\"24px\"viewBox=\"0 0 24 24\"\n",
              "     width=\"24px\">\n",
              "    <g>\n",
              "        <path d=\"M19 3H5c-1.1 0-2 .9-2 2v14c0 1.1.9 2 2 2h14c1.1 0 2-.9 2-2V5c0-1.1-.9-2-2-2zM9 17H7v-7h2v7zm4 0h-2V7h2v10zm4 0h-2v-4h2v4z\"/>\n",
              "    </g>\n",
              "</svg>\n",
              "  </button>\n",
              "\n",
              "<style>\n",
              "  .colab-df-quickchart {\n",
              "      --bg-color: #E8F0FE;\n",
              "      --fill-color: #1967D2;\n",
              "      --hover-bg-color: #E2EBFA;\n",
              "      --hover-fill-color: #174EA6;\n",
              "      --disabled-fill-color: #AAA;\n",
              "      --disabled-bg-color: #DDD;\n",
              "  }\n",
              "\n",
              "  [theme=dark] .colab-df-quickchart {\n",
              "      --bg-color: #3B4455;\n",
              "      --fill-color: #D2E3FC;\n",
              "      --hover-bg-color: #434B5C;\n",
              "      --hover-fill-color: #FFFFFF;\n",
              "      --disabled-bg-color: #3B4455;\n",
              "      --disabled-fill-color: #666;\n",
              "  }\n",
              "\n",
              "  .colab-df-quickchart {\n",
              "    background-color: var(--bg-color);\n",
              "    border: none;\n",
              "    border-radius: 50%;\n",
              "    cursor: pointer;\n",
              "    display: none;\n",
              "    fill: var(--fill-color);\n",
              "    height: 32px;\n",
              "    padding: 0;\n",
              "    width: 32px;\n",
              "  }\n",
              "\n",
              "  .colab-df-quickchart:hover {\n",
              "    background-color: var(--hover-bg-color);\n",
              "    box-shadow: 0 1px 2px rgba(60, 64, 67, 0.3), 0 1px 3px 1px rgba(60, 64, 67, 0.15);\n",
              "    fill: var(--button-hover-fill-color);\n",
              "  }\n",
              "\n",
              "  .colab-df-quickchart-complete:disabled,\n",
              "  .colab-df-quickchart-complete:disabled:hover {\n",
              "    background-color: var(--disabled-bg-color);\n",
              "    fill: var(--disabled-fill-color);\n",
              "    box-shadow: none;\n",
              "  }\n",
              "\n",
              "  .colab-df-spinner {\n",
              "    border: 2px solid var(--fill-color);\n",
              "    border-color: transparent;\n",
              "    border-bottom-color: var(--fill-color);\n",
              "    animation:\n",
              "      spin 1s steps(1) infinite;\n",
              "  }\n",
              "\n",
              "  @keyframes spin {\n",
              "    0% {\n",
              "      border-color: transparent;\n",
              "      border-bottom-color: var(--fill-color);\n",
              "      border-left-color: var(--fill-color);\n",
              "    }\n",
              "    20% {\n",
              "      border-color: transparent;\n",
              "      border-left-color: var(--fill-color);\n",
              "      border-top-color: var(--fill-color);\n",
              "    }\n",
              "    30% {\n",
              "      border-color: transparent;\n",
              "      border-left-color: var(--fill-color);\n",
              "      border-top-color: var(--fill-color);\n",
              "      border-right-color: var(--fill-color);\n",
              "    }\n",
              "    40% {\n",
              "      border-color: transparent;\n",
              "      border-right-color: var(--fill-color);\n",
              "      border-top-color: var(--fill-color);\n",
              "    }\n",
              "    60% {\n",
              "      border-color: transparent;\n",
              "      border-right-color: var(--fill-color);\n",
              "    }\n",
              "    80% {\n",
              "      border-color: transparent;\n",
              "      border-right-color: var(--fill-color);\n",
              "      border-bottom-color: var(--fill-color);\n",
              "    }\n",
              "    90% {\n",
              "      border-color: transparent;\n",
              "      border-bottom-color: var(--fill-color);\n",
              "    }\n",
              "  }\n",
              "</style>\n",
              "\n",
              "  <script>\n",
              "    async function quickchart(key) {\n",
              "      const quickchartButtonEl =\n",
              "        document.querySelector('#' + key + ' button');\n",
              "      quickchartButtonEl.disabled = true;  // To prevent multiple clicks.\n",
              "      quickchartButtonEl.classList.add('colab-df-spinner');\n",
              "      try {\n",
              "        const charts = await google.colab.kernel.invokeFunction(\n",
              "            'suggestCharts', [key], {});\n",
              "      } catch (error) {\n",
              "        console.error('Error during call to suggestCharts:', error);\n",
              "      }\n",
              "      quickchartButtonEl.classList.remove('colab-df-spinner');\n",
              "      quickchartButtonEl.classList.add('colab-df-quickchart-complete');\n",
              "    }\n",
              "    (() => {\n",
              "      let quickchartButtonEl =\n",
              "        document.querySelector('#df-d1006e3a-0f9f-47c8-96e1-4318cbb3cb18 button');\n",
              "      quickchartButtonEl.style.display =\n",
              "        google.colab.kernel.accessAllowed ? 'block' : 'none';\n",
              "    })();\n",
              "  </script>\n",
              "</div>\n",
              "\n",
              "    </div>\n",
              "  </div>\n"
            ],
            "application/vnd.google.colaboratory.intrinsic+json": {
              "type": "dataframe",
              "variable_name": "df",
              "summary": "{\n  \"name\": \"df\",\n  \"rows\": 36,\n  \"fields\": [\n    {\n      \"column\": \"\\ube44\\ub8cc\\uc720\\ud615\",\n      \"properties\": {\n        \"dtype\": \"category\",\n        \"num_unique_values\": 3,\n        \"samples\": [\n          \"A\",\n          \"B\",\n          \"C\"\n        ],\n        \"semantic_type\": \"\",\n        \"description\": \"\"\n      }\n    },\n    {\n      \"column\": \"\\ubb3c\\uc8fc\\uae30\",\n      \"properties\": {\n        \"dtype\": \"number\",\n        \"std\": 1,\n        \"min\": 1,\n        \"max\": 4,\n        \"num_unique_values\": 4,\n        \"samples\": [\n          2,\n          4,\n          1\n        ],\n        \"semantic_type\": \"\",\n        \"description\": \"\"\n      }\n    },\n    {\n      \"column\": \"\\uc218\\ud655\\ub7c9\",\n      \"properties\": {\n        \"dtype\": \"number\",\n        \"std\": 33,\n        \"min\": 444,\n        \"max\": 595,\n        \"num_unique_values\": 32,\n        \"samples\": [\n          522,\n          504,\n          459\n        ],\n        \"semantic_type\": \"\",\n        \"description\": \"\"\n      }\n    }\n  ]\n}"
            }
          },
          "metadata": {},
          "execution_count": 99
        }
      ]
    },
    {
      "cell_type": "code",
      "source": [
        "# 비료 유형에 따른 토마토 수확량의 평균에 차이가 있는지를 검정하기 위한 검정 통계량을 구하시오.\n",
        "import statsmodels.api as sm\n",
        "from statsmodels.formula.api import ols\n",
        "\n",
        "model = ols('수확량 ~ C(비료유형)* C(물주기)',data=df).fit()\n",
        "\n",
        "anova_table = sm.stats.anova_lm(model)\n",
        "print(anova_table)"
      ],
      "metadata": {
        "id": "FLX2hyQAFA4m",
        "outputId": "815417a6-4d22-48dd-8de4-05f9b3992bdb",
        "colab": {
          "base_uri": "https://localhost:8080/"
        }
      },
      "execution_count": 105,
      "outputs": [
        {
          "output_type": "stream",
          "name": "stdout",
          "text": [
            "                  df        sum_sq      mean_sq         F    PR(>F)\n",
            "C(비료유형)          2.0   5251.722222  2625.861111  3.184685  0.059334\n",
            "C(물주기)           3.0   9057.000000  3019.000000  3.661490  0.026460\n",
            "C(비료유형):C(물주기)   6.0   4271.833333   711.972222  0.863491  0.535426\n",
            "Residual        24.0  19788.666667   824.527778       NaN       NaN\n"
          ]
        }
      ]
    },
    {
      "cell_type": "markdown",
      "source": [
        "# SECTION 06. 적합도 검정"
      ],
      "metadata": {
        "id": "Vwq1spBOP583"
      }
    },
    {
      "cell_type": "markdown",
      "source": [
        "Q. 한 도시의 운전자 1,000명의 대상으로 교통사고 경험 수를 조사했다.\n",
        "1회 550명 2회 250명 3회 100명 4회 70명 5회 30명이다.\n",
        "전국적으로 조사된 데이터에 따르면 운전자들의 교통사고 경험 수 분포는 다음과 같다. 1회 60% 2회 25% 3회 8% 4회 % 5회 이상 2%다.\n",
        "이 도시 운전자들의 교통사고 경험 수 분포가 전국적인 경향을 따르는지 검정하시오(유의수준 0.05)\n",
        "--------------------\n"
      ],
      "metadata": {
        "id": "E9gQUNGXGGKC"
      }
    },
    {
      "cell_type": "code",
      "source": [
        "observed = [550,250,100,70,30]\n",
        "\n",
        "from scipy.stats import chisquare\n",
        "expected = [1000*0.6,1000*0.25,1000*0.08,1000*0.05,1000*0.02]\n",
        "print(chisquare(observed,expected))"
      ],
      "metadata": {
        "id": "IpdhfTkAMQfW",
        "outputId": "35de0ee7-357f-44ed-ccbd-0ff1965b03f4",
        "colab": {
          "base_uri": "https://localhost:8080/"
        }
      },
      "execution_count": 107,
      "outputs": [
        {
          "output_type": "stream",
          "name": "stdout",
          "text": [
            "Power_divergenceResult(statistic=22.166666666666668, pvalue=0.00018567620386641427)\n"
          ]
        }
      ]
    },
    {
      "cell_type": "markdown",
      "source": [
        "# SECTION 07. 독립성 검정"
      ],
      "metadata": {
        "id": "XROK1NZLP9eK"
      }
    },
    {
      "cell_type": "markdown",
      "source": [
        "Q. 길벗 대학에서 빅데이터 분석기사 캠프와 정보처리기사 캠프가 있다. 최근 두 캠프 학생들 사이에서 주최한 세미나에 참여하려면 등록을 해야 한다. 각 캠프의 세미나 등록 여부를 조사한 결과는 아래와 같다. 캠프와 세미나 등록 여부가 서로 독립적인지 검증하시오. (유의수준 0.05)\n",
        "\n",
        "- 귀무가설 : 캠프와 세미나 등록 여부는 서로 독립적이다.\n",
        "- 대립가설 : 캠프와 세미나 등록 여부는 서로 독립적이 아니다.\n",
        "\n",
        "\n",
        "| 구분 | 등록함 | 등록 안함 |\n",
        "|--------|--------|--------|\n",
        "| 빅데이터 분석기사 캠프   | 50  | 30   |\n",
        "| 정보처리기사 캠프   | 60   | 40   |"
      ],
      "metadata": {
        "id": "zg1C5p1NM8Ec"
      }
    },
    {
      "cell_type": "code",
      "source": [
        "import pandas as pd\n",
        "df = pd.DataFrame({\n",
        "    '캠프':['빅분기']*80 +['정처기']*100,\n",
        "    '등록여부':['등록']*50 + ['등록안함']*30 + ['등록']*60 + ['등록안함']*40\n",
        "})"
      ],
      "metadata": {
        "id": "i0HslJ3KNYc-"
      },
      "execution_count": 118,
      "outputs": []
    },
    {
      "cell_type": "code",
      "source": [
        "import pandas as pd\n",
        "from scipy.stats import chi2_contingency\n",
        "\n",
        "observed = pd.DataFrame([[50,30],[60,40]])\n",
        "print(chi2_contingency(observed))"
      ],
      "metadata": {
        "id": "qcwF67N9OQsJ",
        "outputId": "a438740f-cb29-48ba-8834-5c8e8de9c854",
        "colab": {
          "base_uri": "https://localhost:8080/"
        }
      },
      "execution_count": 117,
      "outputs": [
        {
          "output_type": "stream",
          "name": "stdout",
          "text": [
            "Chi2ContingencyResult(statistic=0.03535714285714309, pvalue=0.8508492527705047, dof=1, expected_freq=array([[48.88888889, 31.11111111],\n",
            "       [61.11111111, 38.88888889]]))\n"
          ]
        }
      ]
    },
    {
      "cell_type": "code",
      "source": [
        "df = pd.crosstab(df['캠프'],df['등록여부'])\n",
        "print(chi2_contingency(df))"
      ],
      "metadata": {
        "id": "sgCOUmlwOP3Z",
        "outputId": "fb9f6ac2-b161-4173-b581-125b35039785",
        "colab": {
          "base_uri": "https://localhost:8080/"
        }
      },
      "execution_count": 120,
      "outputs": [
        {
          "output_type": "stream",
          "name": "stdout",
          "text": [
            "Chi2ContingencyResult(statistic=0.03535714285714309, pvalue=0.8508492527705047, dof=1, expected_freq=array([[48.88888889, 31.11111111],\n",
            "       [61.11111111, 38.88888889]]))\n"
          ]
        }
      ]
    },
    {
      "cell_type": "markdown",
      "source": [
        "# SECTION 08. 다중 선형 회귀"
      ],
      "metadata": {
        "id": "_ZTZaopAQEP8"
      }
    },
    {
      "cell_type": "markdown",
      "source": [
        "Q. 한 도시의 배달 서비스 회사에서 한 달 동안의 주문 데이터를 수집했다. 배달 주문량은 할인률, 온도, 광고비와 같은 다양한 요인들에 영향을 받을 수있다.\n",
        "배달 서비스 회사는 이런 요인들을 고려해 주문량을 예측하고자 한다. 할인율, 온도, 광고비를 독립변수로 사용해 다중 선형 회귀 모델을 구축하고 문제에 답하시오."
      ],
      "metadata": {
        "id": "lsWaHpPLPbFz"
      }
    },
    {
      "cell_type": "code",
      "source": [
        "# 데이터\n",
        "import pandas as pd\n",
        "df = pd.DataFrame({\n",
        "    '할인율': [28, 24, 13, 0, 27, 30, 10, 16, 6, 5, 7, 11, 11, 30, 25,\n",
        "            4, 7, 24, 19, 21, 6, 10, 26, 13, 15, 6, 12, 6, 20, 2],\n",
        "    '온도': [15, 34, 15, 22, 29, 30, 14, 17, 28, 29, 19, 19, 34, 10,\n",
        "           29, 28, 12, 25, 32, 28, 22, 16, 30, 11, 16, 18, 16, 33, 12, 22],\n",
        "    '광고비': [342, 666, 224, 764, 148, 499, 711, 596, 797, 484, 986, 347, 146, 362, 642,\n",
        "            591, 846, 260, 560, 941, 469, 309, 730, 305, 892, 147, 887, 526, 525, 884],\n",
        "    '주문량': [635, 958, 525, 25, 607, 872, 858, 732, 1082, 863, 904, 686, 699, 615, 893,\n",
        "            830, 856, 679, 918, 951, 789, 583, 988, 631, 866, 549, 910, 946, 647, 943]\n",
        "})\n",
        "print(df.head(3))"
      ],
      "metadata": {
        "id": "uNnk_W31Suio",
        "outputId": "86b88e6c-f741-4abc-920e-bc7b58932f9f",
        "colab": {
          "base_uri": "https://localhost:8080/"
        }
      },
      "execution_count": 121,
      "outputs": [
        {
          "output_type": "stream",
          "name": "stdout",
          "text": [
            "   할인율  온도  광고비  주문량\n",
            "0   28  15  342  635\n",
            "1   24  34  666  958\n",
            "2   13  15  224  525\n"
          ]
        }
      ]
    },
    {
      "cell_type": "code",
      "source": [
        "from statsmodels.formula.api import ols\n",
        "model = ols('주문량 ~할인율 + 온도 +광고비',data=df).fit()\n",
        "# 할인률과 온도의 상관 계수를 구하시오.\n",
        "print(\"1.상관계수:\",round(df['할인율'].corr(df['온도']),2))\n",
        "# 모델의 결정 계수를 구하시오\n",
        "print(\"2. 결정계수:\",round(model.rsquared,2))\n",
        "# 각 변수의 회귀 계수를 구하시오\n",
        "print(\"3. 회귀계수: \",round(model.params,4))\n",
        "# 모델의 절편(Intercept)를 구하시오.\n",
        "print(\"4.절편 : \",round(model.params['Intercept'],4))\n",
        "# 온도의 회귀 계수가 통계적으로 유의한지 검정하시오.\n",
        "print(\"5. p.value: \",round(model.pvalues['온도'],4))\n",
        "# 데이터가 할인율 10%, 온도가 20, 광고비가 500,000원일때 배달 주문량을 예측하시오\n",
        "new_data = pd.DataFrame({\"할인율\":[10],\"온도\":[20],\"광고비\":[500]})\n",
        "result = model.predict(new_data)\n",
        "print(\"6. 새로운 데이터 예측 : \",result)\n",
        "# 잔차 제곱합을 구하시오\n",
        "df['잔차'] = df['주문량'] - model.predict(df)\n",
        "print(\"7. 잔차의 제곱합 : \", round(sum(df['잔차']**2),2))\n",
        "# MSE를 구하시오.\n",
        "MSE = (df['잔차']**2).mean()\n",
        "print('MSE: ',MSE)\n",
        "# 온도의 회귀 계수에 대한 90% 신뢰 구간을 구하시오.\n",
        "print(\"9, 신뢰구간 : \",model.conf_int(alpha=0.1))\n",
        "# 데이터가 할인율이 15%, 온도가 25%, 광고비가 300,000원일 때, 90%의 신뢰구간과 예측 구간을 구하시오.\n",
        "new_data = pd.DataFrame({\"할인율\":[15],\"온도\":[25],\"광고비\":[300]})\n",
        "pred = model.get_prediction(new_data)\n",
        "result = pred.summary_frame(alpha=0.1)\n",
        "print(\"예측값의 신뢰구간, 예측구간 : \",result)\n",
        "# 독립변수 할인율과 온도를 고정한 상태에서 광고비가 배달 주문량에 영향을 주는지 가설을 검정하시오. 유의수준 0.05\n",
        "cond = model.pvalues['광고비']<0.05\n",
        "if cond:\n",
        "  result= '기각'\n",
        "else :\n",
        "  result = '채택'\n",
        "print('11.귀무가설',result)\n",
        "\n",
        "print(model.summary)"
      ],
      "metadata": {
        "colab": {
          "base_uri": "https://localhost:8080/"
        },
        "id": "k4GF3KmbTssz",
        "outputId": "cb2cac65-4f77-4338-8cee-ed2d7b2a0b01"
      },
      "execution_count": 138,
      "outputs": [
        {
          "output_type": "stream",
          "name": "stdout",
          "text": [
            "1.상관계수: 0.09\n",
            "2. 결정계수: 0.4\n",
            "3. 회귀계수:  Intercept    267.6609\n",
            "할인율            4.2068\n",
            "온도             9.4798\n",
            "광고비            0.4148\n",
            "dtype: float64\n",
            "4.절편 :  267.6609\n",
            "5. p.value:  0.0289\n",
            "6. 새로운 데이터 예측 :  0    706.739338\n",
            "dtype: float64\n",
            "7. 잔차의 제곱합 :  732197.9\n",
            "MSE:  24406.596627140243\n",
            "9, 신뢰구간 :                     0           1\n",
            "Intercept  45.955720  489.366084\n",
            "할인율        -1.847229   10.260887\n",
            "온도          2.490702   16.468984\n",
            "광고비         0.201064    0.628589\n",
            "예측값의 신뢰구간, 예측구간 :           mean    mean_se  mean_ci_lower  mean_ci_upper  obs_ci_lower  \\\n",
            "0  692.207386  45.555397     614.507283     769.907488    395.622293   \n",
            "\n",
            "   obs_ci_upper  \n",
            "0    988.792478  \n",
            "11.귀무가설 기각\n",
            "                            OLS Regression Results                            \n",
            "==============================================================================\n",
            "Dep. Variable:                    주문량   R-squared:                       0.400\n",
            "Model:                            OLS   Adj. R-squared:                  0.330\n",
            "Method:                 Least Squares   F-statistic:                     5.770\n",
            "Date:                Tue, 12 Nov 2024   Prob (F-statistic):            0.00366\n",
            "Time:                        07:55:41   Log-Likelihood:                -194.11\n",
            "No. Observations:                  30   AIC:                             396.2\n",
            "Df Residuals:                      26   BIC:                             401.8\n",
            "Df Model:                           3                                         \n",
            "Covariance Type:            nonrobust                                         \n",
            "==============================================================================\n",
            "                 coef    std err          t      P>|t|      [0.025      0.975]\n",
            "------------------------------------------------------------------------------\n",
            "Intercept    267.6609    129.985      2.059      0.050       0.472     534.849\n",
            "할인율            4.2068      3.549      1.185      0.247      -3.089      11.503\n",
            "온도             9.4798      4.098      2.313      0.029       1.057      17.903\n",
            "광고비            0.4148      0.125      3.310      0.003       0.157       0.672\n",
            "==============================================================================\n",
            "Omnibus:                       56.788   Durbin-Watson:                   1.647\n",
            "Prob(Omnibus):                  0.000   Jarque-Bera (JB):              419.005\n",
            "Skew:                          -3.845   Prob(JB):                     1.03e-91\n",
            "Kurtosis:                      19.616   Cond. No.                     2.58e+03\n",
            "==============================================================================\n",
            "\n",
            "Notes:\n",
            "[1] Standard Errors assume that the covariance matrix of the errors is correctly specified.\n",
            "[2] The condition number is large, 2.58e+03. This might indicate that there are\n",
            "strong multicollinearity or other numerical problems.\n"
          ]
        }
      ]
    },
    {
      "cell_type": "markdown",
      "source": [
        "# section 09. 로지스틱 회귀"
      ],
      "metadata": {
        "id": "r6AxIzHVYExd"
      }
    },
    {
      "cell_type": "markdown",
      "source": [
        "Q. 데이터의 앞 50%의 a와 나머지 50%의 b로 나누십시오.\n",
        "a 데이터에 로지스틱 회귀 모델을 적합하시오.\n"
      ],
      "metadata": {
        "id": "FDh4nNTqYHx0"
      }
    },
    {
      "cell_type": "code",
      "source": [
        "\n",
        "import pandas as pd\n",
        "# df = pd.read_csv(\"customer_travel.csv\")\n",
        "df = pd.read_csv(\"https://raw.githubusercontent.com/lovedlim/bigdata_analyst_cert/main/part4/ch8/customer_travel.csv\")\n",
        "\n",
        "df.head()"
      ],
      "metadata": {
        "id": "MsPRWmy8YnZi",
        "outputId": "7d4409fc-0bb9-4d10-a1ce-d61843790d75",
        "colab": {
          "base_uri": "https://localhost:8080/",
          "height": 206
        }
      },
      "execution_count": 139,
      "outputs": [
        {
          "output_type": "execute_result",
          "data": {
            "text/plain": [
              "   age  service  social  booked  target\n",
              "0   34        6       0       1       0\n",
              "1   34        5       1       0       1\n",
              "2   37        3       1       0       0\n",
              "3   30        2       0       0       0\n",
              "4   30        1       0       0       0"
            ],
            "text/html": [
              "\n",
              "  <div id=\"df-4851e4c7-c783-4bd1-b8ee-13475922dd18\" class=\"colab-df-container\">\n",
              "    <div>\n",
              "<style scoped>\n",
              "    .dataframe tbody tr th:only-of-type {\n",
              "        vertical-align: middle;\n",
              "    }\n",
              "\n",
              "    .dataframe tbody tr th {\n",
              "        vertical-align: top;\n",
              "    }\n",
              "\n",
              "    .dataframe thead th {\n",
              "        text-align: right;\n",
              "    }\n",
              "</style>\n",
              "<table border=\"1\" class=\"dataframe\">\n",
              "  <thead>\n",
              "    <tr style=\"text-align: right;\">\n",
              "      <th></th>\n",
              "      <th>age</th>\n",
              "      <th>service</th>\n",
              "      <th>social</th>\n",
              "      <th>booked</th>\n",
              "      <th>target</th>\n",
              "    </tr>\n",
              "  </thead>\n",
              "  <tbody>\n",
              "    <tr>\n",
              "      <th>0</th>\n",
              "      <td>34</td>\n",
              "      <td>6</td>\n",
              "      <td>0</td>\n",
              "      <td>1</td>\n",
              "      <td>0</td>\n",
              "    </tr>\n",
              "    <tr>\n",
              "      <th>1</th>\n",
              "      <td>34</td>\n",
              "      <td>5</td>\n",
              "      <td>1</td>\n",
              "      <td>0</td>\n",
              "      <td>1</td>\n",
              "    </tr>\n",
              "    <tr>\n",
              "      <th>2</th>\n",
              "      <td>37</td>\n",
              "      <td>3</td>\n",
              "      <td>1</td>\n",
              "      <td>0</td>\n",
              "      <td>0</td>\n",
              "    </tr>\n",
              "    <tr>\n",
              "      <th>3</th>\n",
              "      <td>30</td>\n",
              "      <td>2</td>\n",
              "      <td>0</td>\n",
              "      <td>0</td>\n",
              "      <td>0</td>\n",
              "    </tr>\n",
              "    <tr>\n",
              "      <th>4</th>\n",
              "      <td>30</td>\n",
              "      <td>1</td>\n",
              "      <td>0</td>\n",
              "      <td>0</td>\n",
              "      <td>0</td>\n",
              "    </tr>\n",
              "  </tbody>\n",
              "</table>\n",
              "</div>\n",
              "    <div class=\"colab-df-buttons\">\n",
              "\n",
              "  <div class=\"colab-df-container\">\n",
              "    <button class=\"colab-df-convert\" onclick=\"convertToInteractive('df-4851e4c7-c783-4bd1-b8ee-13475922dd18')\"\n",
              "            title=\"Convert this dataframe to an interactive table.\"\n",
              "            style=\"display:none;\">\n",
              "\n",
              "  <svg xmlns=\"http://www.w3.org/2000/svg\" height=\"24px\" viewBox=\"0 -960 960 960\">\n",
              "    <path d=\"M120-120v-720h720v720H120Zm60-500h600v-160H180v160Zm220 220h160v-160H400v160Zm0 220h160v-160H400v160ZM180-400h160v-160H180v160Zm440 0h160v-160H620v160ZM180-180h160v-160H180v160Zm440 0h160v-160H620v160Z\"/>\n",
              "  </svg>\n",
              "    </button>\n",
              "\n",
              "  <style>\n",
              "    .colab-df-container {\n",
              "      display:flex;\n",
              "      gap: 12px;\n",
              "    }\n",
              "\n",
              "    .colab-df-convert {\n",
              "      background-color: #E8F0FE;\n",
              "      border: none;\n",
              "      border-radius: 50%;\n",
              "      cursor: pointer;\n",
              "      display: none;\n",
              "      fill: #1967D2;\n",
              "      height: 32px;\n",
              "      padding: 0 0 0 0;\n",
              "      width: 32px;\n",
              "    }\n",
              "\n",
              "    .colab-df-convert:hover {\n",
              "      background-color: #E2EBFA;\n",
              "      box-shadow: 0px 1px 2px rgba(60, 64, 67, 0.3), 0px 1px 3px 1px rgba(60, 64, 67, 0.15);\n",
              "      fill: #174EA6;\n",
              "    }\n",
              "\n",
              "    .colab-df-buttons div {\n",
              "      margin-bottom: 4px;\n",
              "    }\n",
              "\n",
              "    [theme=dark] .colab-df-convert {\n",
              "      background-color: #3B4455;\n",
              "      fill: #D2E3FC;\n",
              "    }\n",
              "\n",
              "    [theme=dark] .colab-df-convert:hover {\n",
              "      background-color: #434B5C;\n",
              "      box-shadow: 0px 1px 3px 1px rgba(0, 0, 0, 0.15);\n",
              "      filter: drop-shadow(0px 1px 2px rgba(0, 0, 0, 0.3));\n",
              "      fill: #FFFFFF;\n",
              "    }\n",
              "  </style>\n",
              "\n",
              "    <script>\n",
              "      const buttonEl =\n",
              "        document.querySelector('#df-4851e4c7-c783-4bd1-b8ee-13475922dd18 button.colab-df-convert');\n",
              "      buttonEl.style.display =\n",
              "        google.colab.kernel.accessAllowed ? 'block' : 'none';\n",
              "\n",
              "      async function convertToInteractive(key) {\n",
              "        const element = document.querySelector('#df-4851e4c7-c783-4bd1-b8ee-13475922dd18');\n",
              "        const dataTable =\n",
              "          await google.colab.kernel.invokeFunction('convertToInteractive',\n",
              "                                                    [key], {});\n",
              "        if (!dataTable) return;\n",
              "\n",
              "        const docLinkHtml = 'Like what you see? Visit the ' +\n",
              "          '<a target=\"_blank\" href=https://colab.research.google.com/notebooks/data_table.ipynb>data table notebook</a>'\n",
              "          + ' to learn more about interactive tables.';\n",
              "        element.innerHTML = '';\n",
              "        dataTable['output_type'] = 'display_data';\n",
              "        await google.colab.output.renderOutput(dataTable, element);\n",
              "        const docLink = document.createElement('div');\n",
              "        docLink.innerHTML = docLinkHtml;\n",
              "        element.appendChild(docLink);\n",
              "      }\n",
              "    </script>\n",
              "  </div>\n",
              "\n",
              "\n",
              "<div id=\"df-350e61ab-6a82-44cb-8101-af7a42eca14f\">\n",
              "  <button class=\"colab-df-quickchart\" onclick=\"quickchart('df-350e61ab-6a82-44cb-8101-af7a42eca14f')\"\n",
              "            title=\"Suggest charts\"\n",
              "            style=\"display:none;\">\n",
              "\n",
              "<svg xmlns=\"http://www.w3.org/2000/svg\" height=\"24px\"viewBox=\"0 0 24 24\"\n",
              "     width=\"24px\">\n",
              "    <g>\n",
              "        <path d=\"M19 3H5c-1.1 0-2 .9-2 2v14c0 1.1.9 2 2 2h14c1.1 0 2-.9 2-2V5c0-1.1-.9-2-2-2zM9 17H7v-7h2v7zm4 0h-2V7h2v10zm4 0h-2v-4h2v4z\"/>\n",
              "    </g>\n",
              "</svg>\n",
              "  </button>\n",
              "\n",
              "<style>\n",
              "  .colab-df-quickchart {\n",
              "      --bg-color: #E8F0FE;\n",
              "      --fill-color: #1967D2;\n",
              "      --hover-bg-color: #E2EBFA;\n",
              "      --hover-fill-color: #174EA6;\n",
              "      --disabled-fill-color: #AAA;\n",
              "      --disabled-bg-color: #DDD;\n",
              "  }\n",
              "\n",
              "  [theme=dark] .colab-df-quickchart {\n",
              "      --bg-color: #3B4455;\n",
              "      --fill-color: #D2E3FC;\n",
              "      --hover-bg-color: #434B5C;\n",
              "      --hover-fill-color: #FFFFFF;\n",
              "      --disabled-bg-color: #3B4455;\n",
              "      --disabled-fill-color: #666;\n",
              "  }\n",
              "\n",
              "  .colab-df-quickchart {\n",
              "    background-color: var(--bg-color);\n",
              "    border: none;\n",
              "    border-radius: 50%;\n",
              "    cursor: pointer;\n",
              "    display: none;\n",
              "    fill: var(--fill-color);\n",
              "    height: 32px;\n",
              "    padding: 0;\n",
              "    width: 32px;\n",
              "  }\n",
              "\n",
              "  .colab-df-quickchart:hover {\n",
              "    background-color: var(--hover-bg-color);\n",
              "    box-shadow: 0 1px 2px rgba(60, 64, 67, 0.3), 0 1px 3px 1px rgba(60, 64, 67, 0.15);\n",
              "    fill: var(--button-hover-fill-color);\n",
              "  }\n",
              "\n",
              "  .colab-df-quickchart-complete:disabled,\n",
              "  .colab-df-quickchart-complete:disabled:hover {\n",
              "    background-color: var(--disabled-bg-color);\n",
              "    fill: var(--disabled-fill-color);\n",
              "    box-shadow: none;\n",
              "  }\n",
              "\n",
              "  .colab-df-spinner {\n",
              "    border: 2px solid var(--fill-color);\n",
              "    border-color: transparent;\n",
              "    border-bottom-color: var(--fill-color);\n",
              "    animation:\n",
              "      spin 1s steps(1) infinite;\n",
              "  }\n",
              "\n",
              "  @keyframes spin {\n",
              "    0% {\n",
              "      border-color: transparent;\n",
              "      border-bottom-color: var(--fill-color);\n",
              "      border-left-color: var(--fill-color);\n",
              "    }\n",
              "    20% {\n",
              "      border-color: transparent;\n",
              "      border-left-color: var(--fill-color);\n",
              "      border-top-color: var(--fill-color);\n",
              "    }\n",
              "    30% {\n",
              "      border-color: transparent;\n",
              "      border-left-color: var(--fill-color);\n",
              "      border-top-color: var(--fill-color);\n",
              "      border-right-color: var(--fill-color);\n",
              "    }\n",
              "    40% {\n",
              "      border-color: transparent;\n",
              "      border-right-color: var(--fill-color);\n",
              "      border-top-color: var(--fill-color);\n",
              "    }\n",
              "    60% {\n",
              "      border-color: transparent;\n",
              "      border-right-color: var(--fill-color);\n",
              "    }\n",
              "    80% {\n",
              "      border-color: transparent;\n",
              "      border-right-color: var(--fill-color);\n",
              "      border-bottom-color: var(--fill-color);\n",
              "    }\n",
              "    90% {\n",
              "      border-color: transparent;\n",
              "      border-bottom-color: var(--fill-color);\n",
              "    }\n",
              "  }\n",
              "</style>\n",
              "\n",
              "  <script>\n",
              "    async function quickchart(key) {\n",
              "      const quickchartButtonEl =\n",
              "        document.querySelector('#' + key + ' button');\n",
              "      quickchartButtonEl.disabled = true;  // To prevent multiple clicks.\n",
              "      quickchartButtonEl.classList.add('colab-df-spinner');\n",
              "      try {\n",
              "        const charts = await google.colab.kernel.invokeFunction(\n",
              "            'suggestCharts', [key], {});\n",
              "      } catch (error) {\n",
              "        console.error('Error during call to suggestCharts:', error);\n",
              "      }\n",
              "      quickchartButtonEl.classList.remove('colab-df-spinner');\n",
              "      quickchartButtonEl.classList.add('colab-df-quickchart-complete');\n",
              "    }\n",
              "    (() => {\n",
              "      let quickchartButtonEl =\n",
              "        document.querySelector('#df-350e61ab-6a82-44cb-8101-af7a42eca14f button');\n",
              "      quickchartButtonEl.style.display =\n",
              "        google.colab.kernel.accessAllowed ? 'block' : 'none';\n",
              "    })();\n",
              "  </script>\n",
              "</div>\n",
              "\n",
              "    </div>\n",
              "  </div>\n"
            ],
            "application/vnd.google.colaboratory.intrinsic+json": {
              "type": "dataframe",
              "variable_name": "df",
              "summary": "{\n  \"name\": \"df\",\n  \"rows\": 800,\n  \"fields\": [\n    {\n      \"column\": \"age\",\n      \"properties\": {\n        \"dtype\": \"number\",\n        \"std\": 3,\n        \"min\": 27,\n        \"max\": 38,\n        \"num_unique_values\": 11,\n        \"samples\": [\n          28,\n          34,\n          33\n        ],\n        \"semantic_type\": \"\",\n        \"description\": \"\"\n      }\n    },\n    {\n      \"column\": \"service\",\n      \"properties\": {\n        \"dtype\": \"number\",\n        \"std\": 1,\n        \"min\": 1,\n        \"max\": 6,\n        \"num_unique_values\": 6,\n        \"samples\": [\n          6,\n          5,\n          4\n        ],\n        \"semantic_type\": \"\",\n        \"description\": \"\"\n      }\n    },\n    {\n      \"column\": \"social\",\n      \"properties\": {\n        \"dtype\": \"number\",\n        \"std\": 0,\n        \"min\": 0,\n        \"max\": 1,\n        \"num_unique_values\": 2,\n        \"samples\": [\n          1,\n          0\n        ],\n        \"semantic_type\": \"\",\n        \"description\": \"\"\n      }\n    },\n    {\n      \"column\": \"booked\",\n      \"properties\": {\n        \"dtype\": \"number\",\n        \"std\": 0,\n        \"min\": 0,\n        \"max\": 1,\n        \"num_unique_values\": 2,\n        \"samples\": [\n          0,\n          1\n        ],\n        \"semantic_type\": \"\",\n        \"description\": \"\"\n      }\n    },\n    {\n      \"column\": \"target\",\n      \"properties\": {\n        \"dtype\": \"number\",\n        \"std\": 0,\n        \"min\": 0,\n        \"max\": 1,\n        \"num_unique_values\": 2,\n        \"samples\": [\n          1,\n          0\n        ],\n        \"semantic_type\": \"\",\n        \"description\": \"\"\n      }\n    }\n  ]\n}"
            }
          },
          "metadata": {},
          "execution_count": 139
        }
      ]
    },
    {
      "cell_type": "code",
      "source": [
        "midPoint = len(df)//2\n",
        "a = df.iloc[:midPoint]\n",
        "b = df.iloc[midPoint:]\n",
        "\n",
        "a.shape, b.shape"
      ],
      "metadata": {
        "id": "zMaeH8ZfYols",
        "outputId": "8407b313-1bcc-40bf-cc3b-1de7963e3b9d",
        "colab": {
          "base_uri": "https://localhost:8080/"
        }
      },
      "execution_count": 141,
      "outputs": [
        {
          "output_type": "execute_result",
          "data": {
            "text/plain": [
              "((400, 5), (400, 5))"
            ]
          },
          "metadata": {},
          "execution_count": 141
        }
      ]
    },
    {
      "cell_type": "code",
      "source": [
        "from statsmodels.formula.api import logit\n",
        "formula = \"target ~ age+service+social+booked \"\n",
        "model = logit(formula,data=a).fit()\n",
        "# 종속변수 target과 모든 독립변수를 사용하여 로지스틱 회귀 모델을 적합하고, 유의하지 않은 독립변수의 개수를 구하시오.\n",
        "print(\"1. \",sum(model.pvalues[1:]>=0.05))\n",
        "# p-value 가 0.05보다 작은 유의한 변수만 사용하여 수정된 모델을 만들고 적합하시오. 이 수정된 모델중에 p-value 가 가장 큰 변수 이름을 구하시오.\n",
        "formula = \"target ~ age+service+booked \"\n",
        "model = logit(formula,data=a).fit()\n",
        "print(\"2.\",model.pvalues[1:].idxmax())\n",
        "# 수정된 모델에서 독립변수 중 가장 큰 양의 회귀계수를 가진 변수의 이름을 구하시오.\n",
        "print(\"3.\",model.params[1:].idxmax())\n",
        "# 수정된 모델에서 로그 우도를 구하시오.\n",
        "print(model.llf)\n",
        "# 잔차 이탈도\n",
        "print(model.llf*-2)\n",
        "# booked 변수가 3 증가시 오즈비를 계산하시오.\n",
        "print(model.params['booked']*3)\n",
        "# p-value 가 0.05 보다 작은 회귀계수의 총합을 구하시오.\n",
        "print(model.params[model.pvalues<0.05].sum())\n",
        "# b데이터를 사용해 예측한 후, b데이터의 target과 비교해 정확도를 계산하시오\n",
        "pred = model.predict(b)\n",
        "pred = (pred > 0.5).astype(int)\n",
        "from sklearn.metrics import accuracy_score\n",
        "accuracy = accuracy_score(b['target'],pred)\n",
        "print(accuracy)\n",
        "\n",
        "# 오류율 계산\n",
        "\n",
        "error_rate = 1- accuracy\n",
        "print(error_rate)"
      ],
      "metadata": {
        "id": "eup7mHtNY7dY",
        "outputId": "2e01c4ee-905c-4eb0-960e-37de1502c092",
        "colab": {
          "base_uri": "https://localhost:8080/"
        }
      },
      "execution_count": 162,
      "outputs": [
        {
          "output_type": "stream",
          "name": "stdout",
          "text": [
            "Optimization terminated successfully.\n",
            "         Current function value: 0.527521\n",
            "         Iterations 6\n",
            "1.  2\n",
            "Optimization terminated successfully.\n",
            "         Current function value: 0.528275\n",
            "         Iterations 6\n",
            "2. service\n",
            "3. service\n",
            "-211.31019836322204\n",
            "422.6203967264441\n",
            "-2.904872756182284\n",
            "1.2926052287391938\n",
            "0.765\n",
            "0.235\n"
          ]
        }
      ]
    }
  ],
  "metadata": {
    "celltoolbar": "Edit Metadata",
    "kernelspec": {
      "display_name": "Python 3 (ipykernel)",
      "language": "python",
      "name": "python3"
    },
    "language_info": {
      "codemirror_mode": {
        "name": "ipython",
        "version": 3
      },
      "file_extension": ".py",
      "mimetype": "text/x-python",
      "name": "python",
      "nbconvert_exporter": "python",
      "pygments_lexer": "ipython3",
      "version": "3.8.18"
    },
    "colab": {
      "provenance": [],
      "name": "Part02_Mulit_Classification.ipynb"
    }
  },
  "nbformat": 4,
  "nbformat_minor": 0
}