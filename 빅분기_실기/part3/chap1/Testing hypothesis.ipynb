{
  "cells": [
    {
      "cell_type": "markdown",
      "source": [
        "- 귀무가설 : 팝콘 라지 사이즈의 평균 무게는 120g이다.\n",
        "- 대립가설 : 팝콘 라지 사이즈의 평균 무게는 120g이 아니다."
      ],
      "metadata": {
        "id": "skbzQF_4pkfd"
      }
    },
    {
      "cell_type": "code",
      "source": [
        "import pandas as pd\n",
        "df = pd.DataFrame({\n",
        "    'weights':[122, 121, 120, 119, 125, 115, 121, 118, 117, 127,\n",
        "           123, 129, 119, 124, 114, 126, 122, 124, 121, 116,\n",
        "           120, 123, 127, 118, 122, 117, 124, 125, 123, 121],\n",
        "})\n",
        "df['weights'].mean()"
      ],
      "metadata": {
        "id": "ghIPRqgZpGlD",
        "outputId": "0cc70b1a-f64a-4a7c-dbcb-8badd7fe59ee",
        "colab": {
          "base_uri": "https://localhost:8080/"
        }
      },
      "execution_count": 12,
      "outputs": [
        {
          "output_type": "execute_result",
          "data": {
            "text/plain": [
              "121.43333333333334"
            ]
          },
          "metadata": {},
          "execution_count": 12
        }
      ]
    },
    {
      "cell_type": "code",
      "source": [
        "from scipy import stats\n",
        "stats.ttest_1samp(df['weights'],120)"
      ],
      "metadata": {
        "id": "gyTkz2W-pjXj",
        "outputId": "ab4d0e49-92b6-4cdc-c923-a55a478a7305",
        "colab": {
          "base_uri": "https://localhost:8080/"
        }
      },
      "execution_count": 13,
      "outputs": [
        {
          "output_type": "execute_result",
          "data": {
            "text/plain": [
              "TtestResult(statistic=2.1155384372682344, pvalue=0.043092957066609296, df=29)"
            ]
          },
          "metadata": {},
          "execution_count": 13
        }
      ]
    },
    {
      "cell_type": "markdown",
      "source": [
        "- 양측 검정 : 귀무가설, 즉 기존에 알려진 사실보다 크거나 작음에 대해 모두 검정한다.\n",
        "\n",
        "- 단측 검정 : 기존에 알려진 사실보다 크거나 작음에 대해 검정한다.\n",
        "  1. 평균 무게는 120g보다 크다.\n",
        "  2. 평균 무게는 120g보다 작다.\n"
      ],
      "metadata": {
        "id": "H1hIaioZqLiy"
      }
    },
    {
      "cell_type": "code",
      "source": [
        "import pandas as pd\n",
        "df = pd.DataFrame({\n",
        "    'weights':[125, 126, 118, 124, 117, 127, 123, 122, 119, 142]\n",
        "})"
      ],
      "metadata": {
        "id": "RdPv3wOFswNv"
      },
      "execution_count": 14,
      "outputs": []
    },
    {
      "cell_type": "code",
      "source": [
        "from scipy import stats\n",
        "# alternative = 'greater'\n",
        "stats.ttest_1samp(df['weights'],120,alternative='less')"
      ],
      "metadata": {
        "id": "gE7WFxJwql1Y",
        "outputId": "a782516d-3c1b-47f8-a6da-4eb87f609f91",
        "colab": {
          "base_uri": "https://localhost:8080/"
        }
      },
      "execution_count": 15,
      "outputs": [
        {
          "output_type": "execute_result",
          "data": {
            "text/plain": [
              "TtestResult(statistic=1.9185470614004296, pvalue=0.9563703341865598, df=9)"
            ]
          },
          "metadata": {},
          "execution_count": 15
        }
      ]
    },
    {
      "cell_type": "markdown",
      "source": [
        "1개 모집단, 정규성을 만족하는가? Scipy.stats.shapiro(data)\n",
        "- YES : 단일 표본 t-검정 <br/>\n",
        "scipy.stats.ttest_1samp(data,**귀무가설 기대값** , alternative = {'two-sided','less','greater'})\n",
        "- NO : Wilcoxon의 부호 순위 검정(비 모수검정) <br/>\n",
        "scipy.stats.wilcoxon의(data,**귀무가설 기대값** , alternative = {'two-sided','less','greater'})\n"
      ],
      "metadata": {
        "id": "ixy3KxZirHmc"
      }
    },
    {
      "cell_type": "code",
      "source": [
        "from scipy import stats\n",
        "stats.shapiro(df['weights'])"
      ],
      "metadata": {
        "id": "1u3RxmpIr-qy",
        "outputId": "026e9252-47cb-409d-aacc-dd6dc58075eb",
        "colab": {
          "base_uri": "https://localhost:8080/"
        }
      },
      "execution_count": 16,
      "outputs": [
        {
          "output_type": "execute_result",
          "data": {
            "text/plain": [
              "ShapiroResult(statistic=0.8164570347000635, pvalue=0.022960129822451016)"
            ]
          },
          "metadata": {},
          "execution_count": 16
        }
      ]
    },
    {
      "cell_type": "code",
      "source": [
        "from scipy import stats\n",
        "stats.wilcoxon(df['weights']-120,alternative='less')"
      ],
      "metadata": {
        "id": "7_HC_viusQ37",
        "outputId": "9e3361cf-d97e-4000-eb53-f1e811bcb7a3",
        "colab": {
          "base_uri": "https://localhost:8080/"
        }
      },
      "execution_count": 17,
      "outputs": [
        {
          "output_type": "execute_result",
          "data": {
            "text/plain": [
              "WilcoxonResult(statistic=47.0, pvalue=0.9814453125)"
            ]
          },
          "metadata": {},
          "execution_count": 17
        }
      ]
    },
    {
      "cell_type": "markdown",
      "source": [
        "### 대응 표본 검정(Paired-Sample Test)\n",
        "    모집단 1개, (같은 집단) 두 번 측정, 같은 그룹의 두 시점(조건) 비교\n",
        "    예시) 체중 감량 프로그램(전후), 약물 효과(전후), 교육 프로그램(전후)"
      ],
      "metadata": {
        "id": "qcwY_GestD-E"
      }
    },
    {
      "cell_type": "markdown",
      "source": [
        "Q. 어떤 기업이 새로육 교육 프로그램을 도입해 직원의 성과를 개선하려고 한다.<br/>\n",
        "이때 동일한 직원 그룹에 대한 교육 전과 후의 비교했다. <br/>\n",
        "새로운 교육프로그램이 있는지 가설검정 하시오. (유의수준 0.05)"
      ],
      "metadata": {
        "id": "n8iD7VeKuGIy"
      }
    },
    {
      "cell_type": "code",
      "source": [
        "import pandas as pd\n",
        "df = pd.DataFrame({\n",
        "    'before':[85, 90, 92, 88, 86, 89, 83, 87],\n",
        "    'after':[85.5,89.9,92.6,89.5,85.8,88.8,84.6,87.8]\n",
        "})"
      ],
      "metadata": {
        "id": "VqSGx-jytflU"
      },
      "execution_count": 19,
      "outputs": []
    },
    {
      "cell_type": "code",
      "source": [
        "from scipy import stats\n",
        "# before의 평균이 after보다 작다를 검증\n",
        "stats.ttest_rel(df['before'],df['after'],alternative='less')"
      ],
      "metadata": {
        "id": "Jk38OnUztmLc",
        "outputId": "87ca937a-526f-4797-845a-8d8873824b05",
        "colab": {
          "base_uri": "https://localhost:8080/"
        }
      },
      "execution_count": 22,
      "outputs": [
        {
          "output_type": "execute_result",
          "data": {
            "text/plain": [
              "TtestResult(statistic=-2.2127749675452324, pvalue=0.03127028733756238, df=7)"
            ]
          },
          "metadata": {},
          "execution_count": 22
        }
      ]
    },
    {
      "cell_type": "code",
      "source": [
        "stats.ttest_rel(df['after'],df['before'],alternative='greater')"
      ],
      "metadata": {
        "id": "LMxP-SXcuzgq",
        "outputId": "5c062b58-d392-4abc-d548-eba81b0a2463",
        "colab": {
          "base_uri": "https://localhost:8080/"
        }
      },
      "execution_count": 23,
      "outputs": [
        {
          "output_type": "execute_result",
          "data": {
            "text/plain": [
              "TtestResult(statistic=2.2127749675452324, pvalue=0.03127028733756238, df=7)"
            ]
          },
          "metadata": {},
          "execution_count": 23
        }
      ]
    },
    {
      "cell_type": "code",
      "source": [
        "stats.ttest_rel(df['after'],df['before'],alternative='two-sided')"
      ],
      "metadata": {
        "id": "_jsC4hSiu-7X",
        "outputId": "c6ac7cd9-db89-43a4-cba0-221ca37dd574",
        "colab": {
          "base_uri": "https://localhost:8080/"
        }
      },
      "execution_count": 25,
      "outputs": [
        {
          "output_type": "execute_result",
          "data": {
            "text/plain": [
              "TtestResult(statistic=2.2127749675452324, pvalue=0.06254057467512476, df=7)"
            ]
          },
          "metadata": {},
          "execution_count": 25
        }
      ]
    },
    {
      "cell_type": "markdown",
      "source": [
        "### 데이터가 정규성을 만족하는지 정규성 검정을 먼저 실시해야한다."
      ],
      "metadata": {
        "id": "wklQfE91vP19"
      }
    },
    {
      "cell_type": "code",
      "source": [
        "from scipy import stats\n",
        "diff = df['after'] - df['before']\n",
        "stats.shapiro(diff)"
      ],
      "metadata": {
        "id": "Oj4sGNnivUgp",
        "outputId": "a55ea9b9-cf74-4bd3-fe21-867ace33500f",
        "colab": {
          "base_uri": "https://localhost:8080/"
        }
      },
      "execution_count": 26,
      "outputs": [
        {
          "output_type": "execute_result",
          "data": {
            "text/plain": [
              "ShapiroResult(statistic=0.885486928626845, pvalue=0.21232743678800203)"
            ]
          },
          "metadata": {},
          "execution_count": 26
        }
      ]
    },
    {
      "cell_type": "code",
      "source": [
        "import pandas as pd\n",
        "df = pd.DataFrame({\n",
        "    'before':[85, 90, 92, 88, 86, 89, 83, 87],\n",
        "    'after':[86, 92, 94, 89, 84, 90, 84, 88]\n",
        "})"
      ],
      "metadata": {
        "id": "5JC8zf5cvlcd"
      },
      "execution_count": 27,
      "outputs": []
    },
    {
      "cell_type": "code",
      "source": [
        "diff = df['after'] - df['before']\n",
        "\n",
        "from scipy import stats\n",
        "stats.shapiro(diff)"
      ],
      "metadata": {
        "id": "HI7afgP4vnhn",
        "outputId": "5aab9925-ef37-419c-a7a1-8f45235c1cad",
        "colab": {
          "base_uri": "https://localhost:8080/"
        }
      },
      "execution_count": 28,
      "outputs": [
        {
          "output_type": "execute_result",
          "data": {
            "text/plain": [
              "ShapiroResult(statistic=0.6886147375920879, pvalue=0.0016734051223900109)"
            ]
          },
          "metadata": {},
          "execution_count": 28
        }
      ]
    },
    {
      "cell_type": "markdown",
      "source": [
        "유의수준 0.05 > pvalue=0.0016 <br/>\n",
        "정규분포를 따르지 않는다."
      ],
      "metadata": {
        "id": "X0z1GlfRvx0v"
      }
    },
    {
      "cell_type": "code",
      "source": [
        "stats.wilcoxon(diff,alternative='greater')"
      ],
      "metadata": {
        "id": "DFYJkPoBv5dC",
        "outputId": "20f5544a-ac9a-44d2-fa2e-1e358fbbc231",
        "colab": {
          "base_uri": "https://localhost:8080/"
        }
      },
      "execution_count": 29,
      "outputs": [
        {
          "output_type": "execute_result",
          "data": {
            "text/plain": [
              "WilcoxonResult(statistic=29.0, pvalue=0.07421875)"
            ]
          },
          "metadata": {},
          "execution_count": 29
        }
      ]
    },
    {
      "cell_type": "code",
      "source": [
        "stats.wilcoxon(df['after'],df['before'],alternative='greater')"
      ],
      "metadata": {
        "id": "QsWSt88FwBHC",
        "outputId": "9d3acf7a-329d-4b36-fb00-bd65df17d64a",
        "colab": {
          "base_uri": "https://localhost:8080/"
        }
      },
      "execution_count": 30,
      "outputs": [
        {
          "output_type": "execute_result",
          "data": {
            "text/plain": [
              "WilcoxonResult(statistic=29.0, pvalue=0.07421875)"
            ]
          },
          "metadata": {},
          "execution_count": 30
        }
      ]
    },
    {
      "cell_type": "markdown",
      "source": [
        "### 독립 표본 검정(Independent T-test)\n",
        "    두 그룹(표본) 간의 평균이 서로 다름을 판단하는 통계 방법.\n",
        "    A와 B 그룹으로 나누고, 각 그룹을 대상으로 적절한 통계적 검정을 통해\n",
        "    두 그룹 사이에 통계적으로 유의미한 차이가 있는지 없는지 결론을 내리는 것"
      ],
      "metadata": {
        "id": "NWmGFy0cwI_-"
      }
    },
    {
      "cell_type": "markdown",
      "source": [
        "#### Q. 다음은 어느 학교의 반별 수학 시험 점수이다. 1반과 2반의 평균점수가 차이가 있는지 유의수준 0.05 하에서 가설검정하시오.\n",
        "------\n",
        "- 귀무가설 : 반별 수학 평균은 같다.\n",
        "- 대립가설 : 반별 수학 평균 점수는 다르다."
      ],
      "metadata": {
        "id": "UAbd1VUmw9Rh"
      }
    },
    {
      "cell_type": "code",
      "source": [
        "import pandas as pd\n",
        "class1 = [85, 90, 92, 88, 86, 89, 83, 87]\n",
        "class2 = [80, 82, 88, 85, 84]"
      ],
      "metadata": {
        "id": "Itf36bFOwrKU"
      },
      "execution_count": 31,
      "outputs": []
    },
    {
      "cell_type": "code",
      "source": [
        "from scipy import stats\n",
        "stats.ttest_ind(class1,class2,equal_var = False)"
      ],
      "metadata": {
        "id": "t3g7m_e9xQP6",
        "outputId": "a535f6d0-a227-459a-e2ee-6680022e838c",
        "colab": {
          "base_uri": "https://localhost:8080/"
        }
      },
      "execution_count": 42,
      "outputs": [
        {
          "output_type": "execute_result",
          "data": {
            "text/plain": [
              "TtestResult(statistic=2.1818699281825236, pvalue=0.059589330071355334, df=8.272682358753572)"
            ]
          },
          "metadata": {},
          "execution_count": 42
        }
      ]
    },
    {
      "cell_type": "markdown",
      "source": [
        "##### 단측검정 : alternative 값 설정(기본값 two-sided 양측검정)"
      ],
      "metadata": {
        "id": "BxH-DarIyyd2"
      }
    },
    {
      "cell_type": "code",
      "source": [
        "stats.ttest_ind(class1,class2,equal_var=True,alternative='less')"
      ],
      "metadata": {
        "id": "1CTuUHipy_bh",
        "outputId": "18e9ac5e-9694-4c5c-b44b-b09987b98e5d",
        "colab": {
          "base_uri": "https://localhost:8080/"
        }
      },
      "execution_count": 43,
      "outputs": [
        {
          "output_type": "execute_result",
          "data": {
            "text/plain": [
              "TtestResult(statistic=2.2108140580092237, pvalue=0.9754257110537391, df=11.0)"
            ]
          },
          "metadata": {},
          "execution_count": 43
        }
      ]
    },
    {
      "cell_type": "code",
      "source": [
        "# 대립가설 : 1반의 수학평균이 더 높다.\n",
        "stats.ttest_ind(class1,class2,equal_var=True,alternative='greater')"
      ],
      "metadata": {
        "id": "iinerv5izM7U",
        "outputId": "8093e4f0-20bd-4f00-f8d3-c94443942312",
        "colab": {
          "base_uri": "https://localhost:8080/"
        }
      },
      "execution_count": 45,
      "outputs": [
        {
          "output_type": "execute_result",
          "data": {
            "text/plain": [
              "TtestResult(statistic=2.2108140580092237, pvalue=0.02457428894626093, df=11.0)"
            ]
          },
          "metadata": {},
          "execution_count": 45
        }
      ]
    },
    {
      "cell_type": "markdown",
      "source": [
        "독립 표본 검정을 수행할 때는 두 집단의 데이터가 등분산성을 갖는지 확인하는 단계가 필요하다.<br/>\n",
        "이를 시행하기 전 정규성 검정을 시행하고 (shapiro 검정을 통해 데이터셋의 정규성 여부를 평가)<br/>\n",
        " 그런 다음 levene()으로 등분산성 검정을 수행한다.\n",
        "\n",
        "\n",
        "2개의 모집단 : 정규성을 만족하는가?(정규성 판단)\n",
        "- No : **Mann-Whitney U 검정** scipy.stats_mannwhitney(data1,data2),alternative\n",
        "- YES : 분산이 동일한가? (등분산성 판단)\n",
        "  - YES : **독립 표본 검정** scipy.stats.ttest_ind(data1,data2equal_var=True)\n",
        "  - NO : **Welch의 t-검정** scipy.stats.ttest_ind(data1,data2,equal_var=False)"
      ],
      "metadata": {
        "id": "hxyNHFo9zbTN"
      }
    },
    {
      "cell_type": "markdown",
      "source": [
        "Q. 어느 학교의 반별 수학 시험 점수다. 1반과 2반의 평균 점수 차이가 있는지 유의수준 0.05 하에서 가설검정하시오.\n",
        "- 대립가설 : 2반의 수학평균 점수가 더 높다.\n"
      ],
      "metadata": {
        "id": "9U06nKle0tIA"
      }
    },
    {
      "cell_type": "code",
      "source": [
        "import pandas as pd\n",
        "class1 = [85, 90, 92, 88, 86, 89, 83, 87]\n",
        "class2 = [80, 82, 88, 85, 84]"
      ],
      "metadata": {
        "id": "cCqemcRm2iQT"
      },
      "execution_count": 46,
      "outputs": []
    },
    {
      "cell_type": "code",
      "source": [
        "from scipy import stats\n",
        "stats.shapiro(class1)\n",
        "stats.shapiro(class2)"
      ],
      "metadata": {
        "id": "3-SU2EGV2n6X",
        "outputId": "62ea12bc-4a53-4fd0-b13a-713c056d9861",
        "colab": {
          "base_uri": "https://localhost:8080/"
        }
      },
      "execution_count": 48,
      "outputs": [
        {
          "output_type": "execute_result",
          "data": {
            "text/plain": [
              "ShapiroResult(statistic=0.9917398436295009, pvalue=0.9854182266624983)"
            ]
          },
          "metadata": {},
          "execution_count": 48
        }
      ]
    },
    {
      "cell_type": "markdown",
      "source": [
        "정규성을 만족하므로 등분산성을 체크한다."
      ],
      "metadata": {
        "id": "h18KJkvv2wRn"
      }
    },
    {
      "cell_type": "code",
      "source": [
        "from scipy import stats\n",
        "stats.levene(class1,class2)"
      ],
      "metadata": {
        "id": "FmVIT9NV206Q",
        "outputId": "4df2378a-c755-4c1b-a972-5cb40990a72f",
        "colab": {
          "base_uri": "https://localhost:8080/"
        }
      },
      "execution_count": 49,
      "outputs": [
        {
          "output_type": "execute_result",
          "data": {
            "text/plain": [
              "LeveneResult(statistic=0.0027925869510027727, pvalue=0.958802951766629)"
            ]
          },
          "metadata": {},
          "execution_count": 49
        }
      ]
    },
    {
      "cell_type": "code",
      "source": [
        "from scipy import stats\n",
        "stats.ttest_ind(class1,class2,equal_var=True,alternative='less')"
      ],
      "metadata": {
        "id": "_Pc5HpM626B1",
        "outputId": "55cd90ff-1ee1-4506-d043-4b48cd816890",
        "colab": {
          "base_uri": "https://localhost:8080/"
        }
      },
      "execution_count": 50,
      "outputs": [
        {
          "output_type": "execute_result",
          "data": {
            "text/plain": [
              "TtestResult(statistic=2.2108140580092237, pvalue=0.9754257110537391, df=11.0)"
            ]
          },
          "metadata": {},
          "execution_count": 50
        }
      ]
    },
    {
      "cell_type": "markdown",
      "source": [
        "+ 만약 정규성을 만족하지 않는다면?"
      ],
      "metadata": {
        "id": "ZeOMvaCL3F32"
      }
    },
    {
      "cell_type": "code",
      "source": [
        "import pandas as pd\n",
        "class1 = [85, 90, 92, 88, 86, 89, 83, 87]\n",
        "class2 = [80, 82, 88, 85, 130]"
      ],
      "metadata": {
        "id": "O5R0CV1P3Ls7"
      },
      "execution_count": 51,
      "outputs": []
    },
    {
      "cell_type": "code",
      "source": [
        "from scipy import stats\n",
        "stats.shapiro(class2)"
      ],
      "metadata": {
        "id": "YGjg7o6b3OrO",
        "outputId": "681de033-3710-4cc0-db8d-b9cdb5d1242a",
        "colab": {
          "base_uri": "https://localhost:8080/"
        }
      },
      "execution_count": 54,
      "outputs": [
        {
          "output_type": "execute_result",
          "data": {
            "text/plain": [
              "ShapiroResult(statistic=0.6880497349322277, pvalue=0.007151570728885509)"
            ]
          },
          "metadata": {},
          "execution_count": 54
        }
      ]
    },
    {
      "cell_type": "code",
      "source": [
        "stats.mannwhitneyu(class1,class2,alternative='less')"
      ],
      "metadata": {
        "id": "mWvMYLNs3W8g",
        "outputId": "f8e553b0-2860-4801-e1d8-02c4475001da",
        "colab": {
          "base_uri": "https://localhost:8080/"
        }
      },
      "execution_count": 55,
      "outputs": [
        {
          "output_type": "execute_result",
          "data": {
            "text/plain": [
              "MannwhitneyuResult(statistic=26.0, pvalue=0.8299904236851448)"
            ]
          },
          "metadata": {},
          "execution_count": 55
        }
      ]
    }
  ],
  "metadata": {
    "celltoolbar": "Edit Metadata",
    "kernelspec": {
      "display_name": "Python 3 (ipykernel)",
      "language": "python",
      "name": "python3"
    },
    "language_info": {
      "codemirror_mode": {
        "name": "ipython",
        "version": 3
      },
      "file_extension": ".py",
      "mimetype": "text/x-python",
      "name": "python",
      "nbconvert_exporter": "python",
      "pygments_lexer": "ipython3",
      "version": "3.8.18"
    },
    "colab": {
      "provenance": [],
      "name": "Part02_Mulit_Classification.ipynb"
    }
  },
  "nbformat": 4,
  "nbformat_minor": 0
}