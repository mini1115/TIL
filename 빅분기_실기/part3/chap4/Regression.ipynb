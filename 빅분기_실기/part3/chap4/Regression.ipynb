{
  "cells": [
    {
      "cell_type": "markdown",
      "source": [
        "### **회귀분석 **\n",
        "-------\n",
        "    수치형 변수 간의 Input 원인과 Output 간의 관곌르 추정하거나 예측하는데 사용한다.\n",
        "    변수 간의 강도와 방향을 측정하는 방법에는 상관 계수가 있다.\n",
        "\n",
        "#### 상관계수의 종류\n",
        "---\n",
        "    상관계수 : 두 변수 간의 선형적인 관계가 어느정도 강한지를 나타낸다.\n",
        "    - -1<= r <= 1\n",
        "    - r이 1에 가까울수록 양의 선형관계를 의미한다.\n",
        "    - r이 -1에 가까울수록 음의 선형관계를 의미한다.\n",
        "    - r이 0 에 가까울수록 약한 선형 관계를 의미한다.\n",
        "\n",
        "\n",
        "1. 상관계수\n",
        "```\n",
        "pandas.DataFrame.corr(method = 'pearson' , numeric_only = False)\n",
        "```\n",
        "- 상관관계 method\n",
        "  - pearson\n",
        "  - kendall\n",
        "  - spearman\n",
        "- numeric_only : 숫자 자료형만 포함(기본값 False)\n",
        "  "
      ],
      "metadata": {
        "id": "qwJl8sV8UGgg"
      }
    },
    {
      "cell_type": "code",
      "source": [
        "import pandas as pd\n",
        "\n",
        "# 주어진 데이터\n",
        "data = {\n",
        "    '키': [150, 160, 170, 175, 165],\n",
        "    '몸무게': [42, 50, 70, 64, 56]\n",
        "}\n",
        "df = pd.DataFrame(data)"
      ],
      "metadata": {
        "id": "7BzWRDZCVFS0"
      },
      "execution_count": 7,
      "outputs": []
    },
    {
      "cell_type": "code",
      "source": [
        "# 상관계수 계산\n",
        "correlation = df.corr()\n",
        "\n",
        "print(correlation)"
      ],
      "metadata": {
        "id": "_ee_L0ThXpdU",
        "outputId": "2c6c1e4f-31bc-4537-f3a1-2eb5681a22b8",
        "colab": {
          "base_uri": "https://localhost:8080/"
        }
      },
      "execution_count": 8,
      "outputs": [
        {
          "output_type": "stream",
          "name": "stdout",
          "text": [
            "            키       몸무게\n",
            "키    1.000000  0.919509\n",
            "몸무게  0.919509  1.000000\n"
          ]
        }
      ]
    },
    {
      "cell_type": "code",
      "source": [
        "print(correlation.iloc[0,1])\n"
      ],
      "metadata": {
        "id": "YMuGdozFXygQ",
        "outputId": "8cd81211-8ef5-4b13-a10a-c111eeae1efe",
        "colab": {
          "base_uri": "https://localhost:8080/"
        }
      },
      "execution_count": 9,
      "outputs": [
        {
          "output_type": "stream",
          "name": "stdout",
          "text": [
            "0.9195090879163764\n"
          ]
        }
      ]
    },
    {
      "cell_type": "code",
      "source": [
        "print(df['키'].corr(df['몸무게']))"
      ],
      "metadata": {
        "id": "UJWCXtUeYT1j",
        "outputId": "3951e098-991d-47eb-fbd8-a28ba56cec42",
        "colab": {
          "base_uri": "https://localhost:8080/"
        }
      },
      "execution_count": 10,
      "outputs": [
        {
          "output_type": "stream",
          "name": "stdout",
          "text": [
            "0.9195090879163765\n"
          ]
        }
      ]
    },
    {
      "cell_type": "code",
      "source": [
        "print(df.corr(method='spearman'))"
      ],
      "metadata": {
        "id": "EUzOlhLlYXoh",
        "outputId": "cc823140-8328-4d20-dc8b-39679df96673",
        "colab": {
          "base_uri": "https://localhost:8080/"
        }
      },
      "execution_count": 11,
      "outputs": [
        {
          "output_type": "stream",
          "name": "stdout",
          "text": [
            "       키  몸무게\n",
            "키    1.0  0.9\n",
            "몸무게  0.9  1.0\n"
          ]
        }
      ]
    },
    {
      "cell_type": "code",
      "source": [
        "from scipy import stats\n",
        "\n",
        "print(stats.pearsonr(df['몸무게'],df['키']))\n",
        "print(stats.kendalltau(df['몸무게'],df['키']))\n",
        "print(stats.spearmanr(df['몸무게'],df['키']))"
      ],
      "metadata": {
        "id": "uADip1UVYlJH",
        "outputId": "36acb352-48d9-4930-bfdb-41e9017aab13",
        "colab": {
          "base_uri": "https://localhost:8080/"
        }
      },
      "execution_count": 12,
      "outputs": [
        {
          "output_type": "stream",
          "name": "stdout",
          "text": [
            "PearsonRResult(statistic=0.9195090879163766, pvalue=0.027079456895589476)\n",
            "SignificanceResult(statistic=0.7999999999999999, pvalue=0.08333333333333333)\n",
            "SignificanceResult(statistic=0.8999999999999998, pvalue=0.03738607346849874)\n"
          ]
        }
      ]
    },
    {
      "cell_type": "markdown",
      "source": [
        "## 단순 선형 회귀 분석\n",
        "    2개 이상의 변수 간의 관계를 파악하려는 통계적 분석 방법이다.\n",
        "    그중 단순 선형 회귀 분석은 하나의 독립변수로부터 하나의 종속변수와의 관계를 분석하거나 예측하는 방법이다.\n",
        "    <예시> 키워드 광고를 많이 하면 판매량이 어떻게 변할까요?\n",
        "    - 독립변수 : 원인을 나타내는 데이터다. 예) 키워드 광고\n",
        "    - 종속변수 : 결과를 나타내는 데이터다. 예) 판매량\n",
        "\n",
        "1. 최소제곱 선형 회귀 모델을 구축\n",
        "```\n",
        "ols('종속변수 ~ 독립변수',data=df).fit()\n",
        "```\n",
        "2. 제곱합\n",
        "\n",
        "|   용어         |  | 의미 |\n",
        "|--------------|------|--------|\n",
        "| SST    | 총 제곱합   | 각 관측치가 평균으로부터 얼마나 떨어져 있는지를 나타냄     |\n",
        "| SSR | 회귀 제곱합   | 회귀선이 평균으로부터 얼마나 떨어져 있는지를 나타냄     |\n",
        "| SSE |오차 제곱합(잔차 제곱합) |관측치가 회귀선으로부터 얼마나 떨어져 있는지를 나타냄 |\n",
        "\n",
        "3. 결정계수(R-squared)\n",
        "결정 계수는 모델이 그 데이터를 얼마나 잘 설명하는지 나타내는 통계 값이다.\n",
        "R^2 = SSR / SST , 이 값이 1에 가까울수록 잘 설명한다."
      ],
      "metadata": {
        "id": "giz28TodZE5_"
      }
    },
    {
      "cell_type": "markdown",
      "source": [
        "Q. 다음은 20명의 키와 몸무게에 관한 정보다. 이 데이터를 바탕으로 회귀 모델을 구축하고 각 소문제의 값을 구하시오."
      ],
      "metadata": {
        "id": "aTWLFgTpdB4n"
      }
    },
    {
      "cell_type": "code",
      "source": [
        "import pandas as pd\n",
        "\n",
        "data = {\n",
        "    '키': [150, 160, 170, 175, 165, 155, 172, 168, 174, 158,\n",
        "          162, 173, 156, 159, 167, 163, 171, 169, 176, 161],\n",
        "    '몸무게': [42, 50, 70, 64, 56, 48, 68, 60, 65, 52,\n",
        "            54, 67, 49, 51, 58, 55, 69, 61, 66, 53]\n",
        "}\n",
        "df = pd.DataFrame(data)"
      ],
      "metadata": {
        "id": "8Yx9r-wUZC9L"
      },
      "execution_count": 13,
      "outputs": []
    },
    {
      "cell_type": "code",
      "source": [
        "from statsmodels.formula.api import ols\n",
        "model = ols('키 ~몸무게',data=df).fit()\n",
        "print(model.summary())\n",
        "print(\"결정계수:\",model.rsquared)\n",
        "print(\"기울기: \",model.params['몸무게'])\n",
        "print('절편:',model.params['Intercept'])\n",
        "print(\"p-values:\",model.pvalues['몸무게'])\n",
        "new_Data = pd.DataFrame({'몸무게':[67]})\n",
        "result = model.predict(new_Data)\n",
        "print('몸무게가 67일때 예측 키',result[0])\n",
        "# 회귀 모델의 잔차 제곱합\n",
        "df['잔차'] = df['키'] - model.predict(df)\n",
        "print(\"잔차 제곱합 : \",sum(df['잔차']**2))\n",
        "print(\"MSE:\",(df['잔차']**2).mean())"
      ],
      "metadata": {
        "id": "b1qda15wdL5m",
        "outputId": "ab05ec90-745c-45b1-945c-5dc9b63e1771",
        "colab": {
          "base_uri": "https://localhost:8080/"
        }
      },
      "execution_count": 14,
      "outputs": [
        {
          "output_type": "stream",
          "name": "stdout",
          "text": [
            "                            OLS Regression Results                            \n",
            "==============================================================================\n",
            "Dep. Variable:                      키   R-squared:                       0.892\n",
            "Model:                            OLS   Adj. R-squared:                  0.886\n",
            "Method:                 Least Squares   F-statistic:                     148.0\n",
            "Date:                Wed, 20 Nov 2024   Prob (F-statistic):           4.04e-10\n",
            "Time:                        05:39:29   Log-Likelihood:                -45.761\n",
            "No. Observations:                  20   AIC:                             95.52\n",
            "Df Residuals:                      18   BIC:                             97.51\n",
            "Df Model:                           1                                         \n",
            "Covariance Type:            nonrobust                                         \n",
            "==============================================================================\n",
            "                 coef    std err          t      P>|t|      [0.025      0.975]\n",
            "------------------------------------------------------------------------------\n",
            "Intercept    115.0676      4.158     27.671      0.000     106.331     123.804\n",
            "몸무게            0.8658      0.071     12.167      0.000       0.716       1.015\n",
            "==============================================================================\n",
            "Omnibus:                        0.985   Durbin-Watson:                   2.609\n",
            "Prob(Omnibus):                  0.611   Jarque-Bera (JB):                0.336\n",
            "Skew:                          -0.315   Prob(JB):                        0.845\n",
            "Kurtosis:                       3.082   Cond. No.                         432.\n",
            "==============================================================================\n",
            "\n",
            "Notes:\n",
            "[1] Standard Errors assume that the covariance matrix of the errors is correctly specified.\n",
            "결정계수: 0.8915914350087264\n",
            "기울기:  0.8658438852380201\n",
            "절편: 115.06763904471865\n",
            "p-values: 4.0379325599303615e-10\n",
            "몸무게가 67일때 예측 키 173.07917935566599\n",
            "잔차 제곱합 :  113.74226638884431\n",
            "MSE: 5.687113319442214\n"
          ]
        }
      ]
    },
    {
      "cell_type": "code",
      "source": [
        "from sklearn.metrics import mean_squared_error\n",
        "pred = model.predict(df['몸무게'])\n",
        "mse = mean_squared_error(df['키'],pred)\n",
        "print('MSE : ',mse)"
      ],
      "metadata": {
        "id": "AcCinkYMfbxf",
        "outputId": "376a7973-f5f1-4231-8d3a-2a1162382739",
        "colab": {
          "base_uri": "https://localhost:8080/"
        }
      },
      "execution_count": 15,
      "outputs": [
        {
          "output_type": "stream",
          "name": "stdout",
          "text": [
            "MSE :  5.687113319442214\n"
          ]
        }
      ]
    },
    {
      "cell_type": "markdown",
      "source": [
        "몸무게의 95% 신뢰 구간을 구하시오."
      ],
      "metadata": {
        "id": "9CQgWlOCFviw"
      }
    },
    {
      "cell_type": "code",
      "source": [
        "print(\"신뢰구간:\\n\",model.conf_int(alpha=0.05).loc['몸무게'])\n"
      ],
      "metadata": {
        "id": "0K7FZXdaF2w-",
        "outputId": "09a495a8-7429-420a-ffea-1fb605e9970d",
        "colab": {
          "base_uri": "https://localhost:8080/"
        }
      },
      "execution_count": 16,
      "outputs": [
        {
          "output_type": "stream",
          "name": "stdout",
          "text": [
            "신뢰구간:\n",
            " 0    0.716337\n",
            "1    1.015351\n",
            "Name: 몸무게, dtype: float64\n"
          ]
        }
      ]
    },
    {
      "cell_type": "code",
      "source": [
        "new_data = pd.DataFrame({\"몸무게\":[50]})\n",
        "pred = model.get_prediction(new_data)\n",
        "result = pred.summary_frame(alpha=0.05)\n",
        "print(\"예측값의 신뢰구간과 예측구간\\n\",result)\n"
      ],
      "metadata": {
        "id": "AOD00LWrGJLd",
        "outputId": "fb818ccc-2c5a-46c2-b629-1b767b7809ba",
        "colab": {
          "base_uri": "https://localhost:8080/"
        }
      },
      "execution_count": 18,
      "outputs": [
        {
          "output_type": "stream",
          "name": "stdout",
          "text": [
            "예측값의 신뢰구간과 예측구간\n",
            "          mean   mean_se  mean_ci_lower  mean_ci_upper  obs_ci_lower  \\\n",
            "0  158.359833  0.794986      156.68963     160.030037    152.820798   \n",
            "\n",
            "   obs_ci_upper  \n",
            "0    163.898869  \n"
          ]
        }
      ]
    },
    {
      "cell_type": "markdown",
      "source": [
        "## 다중 선형 회귀 분석\n",
        "    2개 이상의 독립변수와 하나의 종속변수 간 관계를 분석하는 방법이다.\n",
        "    "
      ],
      "metadata": {
        "id": "_VpBQMz3J3P-"
      }
    },
    {
      "cell_type": "markdown",
      "source": [
        "Q. 다음은 매출액, 광고비, 직원 수에 관한 데이터다. 광고비와 직원 수는 독립변수고, 매출액은 종속변수다.<BR/>\n",
        " 다중 선형 회귀 모델을 구축하고, 각 소문제의 값을 구하시오."
      ],
      "metadata": {
        "id": "SICQBDJdK0Dm"
      }
    },
    {
      "cell_type": "code",
      "source": [
        "import pandas as pd\n",
        "data = {\n",
        "    '매출액': [300, 320, 250, 360, 315, 328, 310, 335, 326, 280,\n",
        "            290, 300, 315, 328, 310, 335, 300, 400, 500, 600],\n",
        "    '광고비': [70, 75, 30, 80, 72, 77, 70, 82, 70, 80,\n",
        "            68, 90, 72, 77, 70, 82, 40, 20, 75, 80],\n",
        "    '직원수': [15, 16, 14, 20, 19, 17, 16, 19, 15, 20,\n",
        "            14, 5, 16, 17, 16, 14, 30, 40, 10, 50]\n",
        "    }\n",
        "df = pd.DataFrame(data)\n",
        "print(df.head(3))"
      ],
      "metadata": {
        "id": "0gARXrs2NA6B",
        "outputId": "d835144b-e78d-44a2-cac6-019703d4db94",
        "colab": {
          "base_uri": "https://localhost:8080/"
        }
      },
      "execution_count": 19,
      "outputs": [
        {
          "output_type": "stream",
          "name": "stdout",
          "text": [
            "   매출액  광고비  직원수\n",
            "0  300   70   15\n",
            "1  320   75   16\n",
            "2  250   30   14\n"
          ]
        }
      ]
    },
    {
      "cell_type": "markdown",
      "source": [
        "1. 최소제곱법으로 다중 선형 회귀 모델을 구축하고 통계적 요약을 출력하시오."
      ],
      "metadata": {
        "id": "_YBLx-0pNFWe"
      }
    },
    {
      "cell_type": "code",
      "source": [
        "from statsmodels.formula.api import ols\n",
        "model = ols('매출액 ~ 광고비 +직원수 ',data=df).fit()\n",
        "print(model.summary())"
      ],
      "metadata": {
        "id": "iPstQjdUNKX6",
        "outputId": "8292effb-79e0-43e9-f761-9b3654b0a8f2",
        "colab": {
          "base_uri": "https://localhost:8080/"
        }
      },
      "execution_count": 20,
      "outputs": [
        {
          "output_type": "stream",
          "name": "stdout",
          "text": [
            "                            OLS Regression Results                            \n",
            "==============================================================================\n",
            "Dep. Variable:                    매출액   R-squared:                       0.512\n",
            "Model:                            OLS   Adj. R-squared:                  0.454\n",
            "Method:                 Least Squares   F-statistic:                     8.907\n",
            "Date:                Wed, 20 Nov 2024   Prob (F-statistic):            0.00226\n",
            "Time:                        06:13:39   Log-Likelihood:                -108.22\n",
            "No. Observations:                  20   AIC:                             222.4\n",
            "Df Residuals:                      17   BIC:                             225.4\n",
            "Df Model:                           2                                         \n",
            "Covariance Type:            nonrobust                                         \n",
            "==============================================================================\n",
            "                 coef    std err          t      P>|t|      [0.025      0.975]\n",
            "------------------------------------------------------------------------------\n",
            "Intercept    101.0239     71.716      1.409      0.177     -50.284     252.331\n",
            "광고비            1.8194      0.807      2.255      0.038       0.117       3.522\n",
            "직원수            5.9288      1.430      4.147      0.001       2.912       8.945\n",
            "==============================================================================\n",
            "Omnibus:                       30.534   Durbin-Watson:                   1.354\n",
            "Prob(Omnibus):                  0.000   Jarque-Bera (JB):               64.655\n",
            "Skew:                           2.444   Prob(JB):                     9.13e-15\n",
            "Kurtosis:                      10.327   Cond. No.                         401.\n",
            "==============================================================================\n",
            "\n",
            "Notes:\n",
            "[1] Standard Errors assume that the covariance matrix of the errors is correctly specified.\n"
          ]
        }
      ]
    },
    {
      "cell_type": "code",
      "source": [
        "print(df['광고비'].corr(df['매출액']))"
      ],
      "metadata": {
        "id": "r5x3yYP9Ntl1",
        "outputId": "3af7c70a-9dbb-4c20-ad90-fc1e3398a219",
        "colab": {
          "base_uri": "https://localhost:8080/"
        }
      },
      "execution_count": 21,
      "outputs": [
        {
          "output_type": "stream",
          "name": "stdout",
          "text": [
            "0.13316981737040343\n"
          ]
        }
      ]
    },
    {
      "cell_type": "code",
      "source": [
        "print(\"결정계수:\",model.rsquared)"
      ],
      "metadata": {
        "id": "b4vebQ0KN5FG",
        "outputId": "5c1f13b6-a3d1-4478-9749-9e697a1d7881",
        "colab": {
          "base_uri": "https://localhost:8080/"
        }
      },
      "execution_count": 23,
      "outputs": [
        {
          "output_type": "stream",
          "name": "stdout",
          "text": [
            "결정계수: 0.5116964327009041\n"
          ]
        }
      ]
    },
    {
      "cell_type": "code",
      "source": [
        "print(round(model.params))"
      ],
      "metadata": {
        "id": "mmccSOnbOCiD",
        "outputId": "66fca8dd-b609-47b8-b1ee-70cdf79e3799",
        "colab": {
          "base_uri": "https://localhost:8080/"
        }
      },
      "execution_count": 24,
      "outputs": [
        {
          "output_type": "stream",
          "name": "stdout",
          "text": [
            "Intercept    101.0\n",
            "광고비            2.0\n",
            "직원수            6.0\n",
            "dtype: float64\n"
          ]
        }
      ]
    },
    {
      "cell_type": "markdown",
      "source": [
        "절편 101, 광고비 2.0 직원수 6.0 기울기를 가지고 있다."
      ],
      "metadata": {
        "id": "U2MGZ9-SOIUq"
      }
    },
    {
      "cell_type": "code",
      "source": [
        "print(model.pvalues['광고비'])"
      ],
      "metadata": {
        "id": "ynW9ZU5_OOoz",
        "outputId": "b2558b37-4789-410c-cc7e-b1868c6c836c",
        "colab": {
          "base_uri": "https://localhost:8080/"
        }
      },
      "execution_count": 25,
      "outputs": [
        {
          "output_type": "stream",
          "name": "stdout",
          "text": [
            "0.03764350647695994\n"
          ]
        }
      ]
    },
    {
      "cell_type": "code",
      "source": [
        "new_data = pd.DataFrame({\"광고비\":[50],\"직원수\":[20]})\n",
        "result = model.predict(new_data)\n",
        "print(\"새로운 데이터의 매출액:\",result)"
      ],
      "metadata": {
        "id": "PQBTGfNtOd3r",
        "outputId": "49e63ed3-3c33-414a-ea52-5f6032da0869",
        "colab": {
          "base_uri": "https://localhost:8080/"
        }
      },
      "execution_count": 26,
      "outputs": [
        {
          "output_type": "stream",
          "name": "stdout",
          "text": [
            "새로운 데이터의 매출액: 0    310.57033\n",
            "dtype: float64\n"
          ]
        }
      ]
    },
    {
      "cell_type": "code",
      "source": [
        "df['잔차'] = df['매출액'] - model.predict(df)\n",
        "print(\"잔차의 제곱합: \",sum(df['잔차']**2))"
      ],
      "metadata": {
        "id": "CA8O_rOdO6Su",
        "outputId": "43064397-2603-49c8-bac6-22b3ebfbcf3b",
        "colab": {
          "base_uri": "https://localhost:8080/"
        }
      },
      "execution_count": 27,
      "outputs": [
        {
          "output_type": "stream",
          "name": "stdout",
          "text": [
            "잔차의 제곱합:  58686.178271561075\n"
          ]
        }
      ]
    },
    {
      "cell_type": "code",
      "source": [
        "# 같은 결과 다른방식\n",
        "print(sum(model.resid**2))"
      ],
      "metadata": {
        "id": "J1Cn6V-ORUyj",
        "outputId": "a6fddf0d-67d3-4efb-d6fb-1614f0eb17b5",
        "colab": {
          "base_uri": "https://localhost:8080/"
        }
      },
      "execution_count": 33,
      "outputs": [
        {
          "output_type": "stream",
          "name": "stdout",
          "text": [
            "58686.178271561075\n"
          ]
        }
      ]
    },
    {
      "cell_type": "code",
      "source": [
        "MSE = (df['잔차']**2).mean()\n",
        "print(\"MSE:\",MSE)"
      ],
      "metadata": {
        "id": "TTB-Yhd9Ri0u",
        "outputId": "53ed0382-9a4e-46a2-90f5-71bf5a8440cd",
        "colab": {
          "base_uri": "https://localhost:8080/"
        }
      },
      "execution_count": 35,
      "outputs": [
        {
          "output_type": "stream",
          "name": "stdout",
          "text": [
            "MSE: 2934.3089135780533\n"
          ]
        }
      ]
    },
    {
      "cell_type": "code",
      "source": [
        "data =(model.resid**2).mean()"
      ],
      "metadata": {
        "id": "FZLbpkuSR6_7",
        "outputId": "b082dc5f-9165-4e99-be5f-8b8812cff0e5",
        "colab": {
          "base_uri": "https://localhost:8080/",
          "height": 711
        }
      },
      "execution_count": 40,
      "outputs": [
        {
          "output_type": "execute_result",
          "data": {
            "text/plain": [
              "0       299.812391\n",
              "1       152.299829\n",
              "2       129.748999\n",
              "3        26.554837\n",
              "4       880.247632\n",
              "5       193.448907\n",
              "6       175.399483\n",
              "7       776.359971\n",
              "8        75.427637\n",
              "9      7251.057009\n",
              "10      314.973117\n",
              "11       31.180221\n",
              "12      141.198580\n",
              "13      193.448907\n",
              "14      175.399483\n",
              "15        3.170326\n",
              "16     2669.129256\n",
              "17      647.059640\n",
              "18    41303.063567\n",
              "19     3247.198482\n",
              "dtype: float64"
            ],
            "text/html": [
              "<div>\n",
              "<style scoped>\n",
              "    .dataframe tbody tr th:only-of-type {\n",
              "        vertical-align: middle;\n",
              "    }\n",
              "\n",
              "    .dataframe tbody tr th {\n",
              "        vertical-align: top;\n",
              "    }\n",
              "\n",
              "    .dataframe thead th {\n",
              "        text-align: right;\n",
              "    }\n",
              "</style>\n",
              "<table border=\"1\" class=\"dataframe\">\n",
              "  <thead>\n",
              "    <tr style=\"text-align: right;\">\n",
              "      <th></th>\n",
              "      <th>0</th>\n",
              "    </tr>\n",
              "  </thead>\n",
              "  <tbody>\n",
              "    <tr>\n",
              "      <th>0</th>\n",
              "      <td>299.812391</td>\n",
              "    </tr>\n",
              "    <tr>\n",
              "      <th>1</th>\n",
              "      <td>152.299829</td>\n",
              "    </tr>\n",
              "    <tr>\n",
              "      <th>2</th>\n",
              "      <td>129.748999</td>\n",
              "    </tr>\n",
              "    <tr>\n",
              "      <th>3</th>\n",
              "      <td>26.554837</td>\n",
              "    </tr>\n",
              "    <tr>\n",
              "      <th>4</th>\n",
              "      <td>880.247632</td>\n",
              "    </tr>\n",
              "    <tr>\n",
              "      <th>5</th>\n",
              "      <td>193.448907</td>\n",
              "    </tr>\n",
              "    <tr>\n",
              "      <th>6</th>\n",
              "      <td>175.399483</td>\n",
              "    </tr>\n",
              "    <tr>\n",
              "      <th>7</th>\n",
              "      <td>776.359971</td>\n",
              "    </tr>\n",
              "    <tr>\n",
              "      <th>8</th>\n",
              "      <td>75.427637</td>\n",
              "    </tr>\n",
              "    <tr>\n",
              "      <th>9</th>\n",
              "      <td>7251.057009</td>\n",
              "    </tr>\n",
              "    <tr>\n",
              "      <th>10</th>\n",
              "      <td>314.973117</td>\n",
              "    </tr>\n",
              "    <tr>\n",
              "      <th>11</th>\n",
              "      <td>31.180221</td>\n",
              "    </tr>\n",
              "    <tr>\n",
              "      <th>12</th>\n",
              "      <td>141.198580</td>\n",
              "    </tr>\n",
              "    <tr>\n",
              "      <th>13</th>\n",
              "      <td>193.448907</td>\n",
              "    </tr>\n",
              "    <tr>\n",
              "      <th>14</th>\n",
              "      <td>175.399483</td>\n",
              "    </tr>\n",
              "    <tr>\n",
              "      <th>15</th>\n",
              "      <td>3.170326</td>\n",
              "    </tr>\n",
              "    <tr>\n",
              "      <th>16</th>\n",
              "      <td>2669.129256</td>\n",
              "    </tr>\n",
              "    <tr>\n",
              "      <th>17</th>\n",
              "      <td>647.059640</td>\n",
              "    </tr>\n",
              "    <tr>\n",
              "      <th>18</th>\n",
              "      <td>41303.063567</td>\n",
              "    </tr>\n",
              "    <tr>\n",
              "      <th>19</th>\n",
              "      <td>3247.198482</td>\n",
              "    </tr>\n",
              "  </tbody>\n",
              "</table>\n",
              "</div><br><label><b>dtype:</b> float64</label>"
            ]
          },
          "metadata": {},
          "execution_count": 40
        }
      ]
    },
    {
      "cell_type": "code",
      "source": [
        "print('95% 신뢰구간\\n',model.conf_int(alpha=0.05))"
      ],
      "metadata": {
        "id": "jTjRRsJxUpPY",
        "outputId": "f24fe339-f260-4de2-cb57-17e40938f13f",
        "colab": {
          "base_uri": "https://localhost:8080/"
        }
      },
      "execution_count": 43,
      "outputs": [
        {
          "output_type": "stream",
          "name": "stdout",
          "text": [
            "95% 신뢰구간\n",
            "                    0           1\n",
            "Intercept -50.283684  252.331429\n",
            "광고비         0.116785    3.522069\n",
            "직원수         2.912406    8.945105\n"
          ]
        }
      ]
    },
    {
      "cell_type": "code",
      "source": [
        "new_data = pd.DataFrame({\"광고비\":[45],\"직원수\":[22]})\n",
        "\n",
        "pred = model.get_prediction(new_data)\n",
        "result = pred.summary_frame(alpha=0.05)\n",
        "print(\"예측값의 신뢰구간, 예측구간\\n\",result)"
      ],
      "metadata": {
        "id": "gNp7DeKPVCxt",
        "outputId": "639a60ff-ef64-4364-b240-9c39f8888389",
        "colab": {
          "base_uri": "https://localhost:8080/"
        }
      },
      "execution_count": 46,
      "outputs": [
        {
          "output_type": "stream",
          "name": "stdout",
          "text": [
            "예측값의 신뢰구간, 예측구간\n",
            "          mean    mean_se  mean_ci_lower  mean_ci_upper  obs_ci_lower  \\\n",
            "0  313.330707  22.502058     265.855514       360.8059     180.58875   \n",
            "\n",
            "   obs_ci_upper  \n",
            "0    446.072663  \n"
          ]
        }
      ]
    },
    {
      "cell_type": "markdown",
      "source": [
        "## 범주형 변수\n",
        "--------\n",
        "    독립변수로 수치형 변수와 범주형 변수를 함께 사용할 때는 범주형 변수는 통상적으로 원-핫 인코딩과 같은 방법을 사용해 수치화 해야한다."
      ],
      "metadata": {
        "id": "LjYCkj8kVjBX"
      }
    },
    {
      "cell_type": "code",
      "source": [
        "from google.colab import files\n",
        "uploaded = files.upload()"
      ],
      "metadata": {
        "id": "ybKHkI3rWGfQ",
        "outputId": "6d864cc4-5cff-4e60-8f5b-c2d5fe884ec1",
        "colab": {
          "base_uri": "https://localhost:8080/",
          "height": 76
        }
      },
      "execution_count": 47,
      "outputs": [
        {
          "output_type": "display_data",
          "data": {
            "text/plain": [
              "<IPython.core.display.HTML object>"
            ],
            "text/html": [
              "\n",
              "     <input type=\"file\" id=\"files-30f937ed-381f-449b-9ad1-94177e063390\" name=\"files[]\" multiple disabled\n",
              "        style=\"border:none\" />\n",
              "     <output id=\"result-30f937ed-381f-449b-9ad1-94177e063390\">\n",
              "      Upload widget is only available when the cell has been executed in the\n",
              "      current browser session. Please rerun this cell to enable.\n",
              "      </output>\n",
              "      <script>// Copyright 2017 Google LLC\n",
              "//\n",
              "// Licensed under the Apache License, Version 2.0 (the \"License\");\n",
              "// you may not use this file except in compliance with the License.\n",
              "// You may obtain a copy of the License at\n",
              "//\n",
              "//      http://www.apache.org/licenses/LICENSE-2.0\n",
              "//\n",
              "// Unless required by applicable law or agreed to in writing, software\n",
              "// distributed under the License is distributed on an \"AS IS\" BASIS,\n",
              "// WITHOUT WARRANTIES OR CONDITIONS OF ANY KIND, either express or implied.\n",
              "// See the License for the specific language governing permissions and\n",
              "// limitations under the License.\n",
              "\n",
              "/**\n",
              " * @fileoverview Helpers for google.colab Python module.\n",
              " */\n",
              "(function(scope) {\n",
              "function span(text, styleAttributes = {}) {\n",
              "  const element = document.createElement('span');\n",
              "  element.textContent = text;\n",
              "  for (const key of Object.keys(styleAttributes)) {\n",
              "    element.style[key] = styleAttributes[key];\n",
              "  }\n",
              "  return element;\n",
              "}\n",
              "\n",
              "// Max number of bytes which will be uploaded at a time.\n",
              "const MAX_PAYLOAD_SIZE = 100 * 1024;\n",
              "\n",
              "function _uploadFiles(inputId, outputId) {\n",
              "  const steps = uploadFilesStep(inputId, outputId);\n",
              "  const outputElement = document.getElementById(outputId);\n",
              "  // Cache steps on the outputElement to make it available for the next call\n",
              "  // to uploadFilesContinue from Python.\n",
              "  outputElement.steps = steps;\n",
              "\n",
              "  return _uploadFilesContinue(outputId);\n",
              "}\n",
              "\n",
              "// This is roughly an async generator (not supported in the browser yet),\n",
              "// where there are multiple asynchronous steps and the Python side is going\n",
              "// to poll for completion of each step.\n",
              "// This uses a Promise to block the python side on completion of each step,\n",
              "// then passes the result of the previous step as the input to the next step.\n",
              "function _uploadFilesContinue(outputId) {\n",
              "  const outputElement = document.getElementById(outputId);\n",
              "  const steps = outputElement.steps;\n",
              "\n",
              "  const next = steps.next(outputElement.lastPromiseValue);\n",
              "  return Promise.resolve(next.value.promise).then((value) => {\n",
              "    // Cache the last promise value to make it available to the next\n",
              "    // step of the generator.\n",
              "    outputElement.lastPromiseValue = value;\n",
              "    return next.value.response;\n",
              "  });\n",
              "}\n",
              "\n",
              "/**\n",
              " * Generator function which is called between each async step of the upload\n",
              " * process.\n",
              " * @param {string} inputId Element ID of the input file picker element.\n",
              " * @param {string} outputId Element ID of the output display.\n",
              " * @return {!Iterable<!Object>} Iterable of next steps.\n",
              " */\n",
              "function* uploadFilesStep(inputId, outputId) {\n",
              "  const inputElement = document.getElementById(inputId);\n",
              "  inputElement.disabled = false;\n",
              "\n",
              "  const outputElement = document.getElementById(outputId);\n",
              "  outputElement.innerHTML = '';\n",
              "\n",
              "  const pickedPromise = new Promise((resolve) => {\n",
              "    inputElement.addEventListener('change', (e) => {\n",
              "      resolve(e.target.files);\n",
              "    });\n",
              "  });\n",
              "\n",
              "  const cancel = document.createElement('button');\n",
              "  inputElement.parentElement.appendChild(cancel);\n",
              "  cancel.textContent = 'Cancel upload';\n",
              "  const cancelPromise = new Promise((resolve) => {\n",
              "    cancel.onclick = () => {\n",
              "      resolve(null);\n",
              "    };\n",
              "  });\n",
              "\n",
              "  // Wait for the user to pick the files.\n",
              "  const files = yield {\n",
              "    promise: Promise.race([pickedPromise, cancelPromise]),\n",
              "    response: {\n",
              "      action: 'starting',\n",
              "    }\n",
              "  };\n",
              "\n",
              "  cancel.remove();\n",
              "\n",
              "  // Disable the input element since further picks are not allowed.\n",
              "  inputElement.disabled = true;\n",
              "\n",
              "  if (!files) {\n",
              "    return {\n",
              "      response: {\n",
              "        action: 'complete',\n",
              "      }\n",
              "    };\n",
              "  }\n",
              "\n",
              "  for (const file of files) {\n",
              "    const li = document.createElement('li');\n",
              "    li.append(span(file.name, {fontWeight: 'bold'}));\n",
              "    li.append(span(\n",
              "        `(${file.type || 'n/a'}) - ${file.size} bytes, ` +\n",
              "        `last modified: ${\n",
              "            file.lastModifiedDate ? file.lastModifiedDate.toLocaleDateString() :\n",
              "                                    'n/a'} - `));\n",
              "    const percent = span('0% done');\n",
              "    li.appendChild(percent);\n",
              "\n",
              "    outputElement.appendChild(li);\n",
              "\n",
              "    const fileDataPromise = new Promise((resolve) => {\n",
              "      const reader = new FileReader();\n",
              "      reader.onload = (e) => {\n",
              "        resolve(e.target.result);\n",
              "      };\n",
              "      reader.readAsArrayBuffer(file);\n",
              "    });\n",
              "    // Wait for the data to be ready.\n",
              "    let fileData = yield {\n",
              "      promise: fileDataPromise,\n",
              "      response: {\n",
              "        action: 'continue',\n",
              "      }\n",
              "    };\n",
              "\n",
              "    // Use a chunked sending to avoid message size limits. See b/62115660.\n",
              "    let position = 0;\n",
              "    do {\n",
              "      const length = Math.min(fileData.byteLength - position, MAX_PAYLOAD_SIZE);\n",
              "      const chunk = new Uint8Array(fileData, position, length);\n",
              "      position += length;\n",
              "\n",
              "      const base64 = btoa(String.fromCharCode.apply(null, chunk));\n",
              "      yield {\n",
              "        response: {\n",
              "          action: 'append',\n",
              "          file: file.name,\n",
              "          data: base64,\n",
              "        },\n",
              "      };\n",
              "\n",
              "      let percentDone = fileData.byteLength === 0 ?\n",
              "          100 :\n",
              "          Math.round((position / fileData.byteLength) * 100);\n",
              "      percent.textContent = `${percentDone}% done`;\n",
              "\n",
              "    } while (position < fileData.byteLength);\n",
              "  }\n",
              "\n",
              "  // All done.\n",
              "  yield {\n",
              "    response: {\n",
              "      action: 'complete',\n",
              "    }\n",
              "  };\n",
              "}\n",
              "\n",
              "scope.google = scope.google || {};\n",
              "scope.google.colab = scope.google.colab || {};\n",
              "scope.google.colab._files = {\n",
              "  _uploadFiles,\n",
              "  _uploadFilesContinue,\n",
              "};\n",
              "})(self);\n",
              "</script> "
            ]
          },
          "metadata": {}
        },
        {
          "output_type": "stream",
          "name": "stdout",
          "text": [
            "Saving study.csv to study.csv\n"
          ]
        }
      ]
    },
    {
      "cell_type": "code",
      "source": [
        "import pandas as pd\n",
        "import statsmodels.api as sm\n",
        "df = pd.read_csv('study.csv')\n",
        "df.head(3)"
      ],
      "metadata": {
        "id": "lu3cLO7JVgkj",
        "outputId": "fb17d793-6df8-4819-b116-4400560625b3",
        "colab": {
          "base_uri": "https://localhost:8080/",
          "height": 143
        }
      },
      "execution_count": 48,
      "outputs": [
        {
          "output_type": "execute_result",
          "data": {
            "text/plain": [
              "   study_hours material_type  score\n",
              "0           71            강의     95\n",
              "1           34            독학     63\n",
              "2           91            도서     95"
            ],
            "text/html": [
              "\n",
              "  <div id=\"df-3c14a95b-d8c2-4456-9429-5080a72523a9\" class=\"colab-df-container\">\n",
              "    <div>\n",
              "<style scoped>\n",
              "    .dataframe tbody tr th:only-of-type {\n",
              "        vertical-align: middle;\n",
              "    }\n",
              "\n",
              "    .dataframe tbody tr th {\n",
              "        vertical-align: top;\n",
              "    }\n",
              "\n",
              "    .dataframe thead th {\n",
              "        text-align: right;\n",
              "    }\n",
              "</style>\n",
              "<table border=\"1\" class=\"dataframe\">\n",
              "  <thead>\n",
              "    <tr style=\"text-align: right;\">\n",
              "      <th></th>\n",
              "      <th>study_hours</th>\n",
              "      <th>material_type</th>\n",
              "      <th>score</th>\n",
              "    </tr>\n",
              "  </thead>\n",
              "  <tbody>\n",
              "    <tr>\n",
              "      <th>0</th>\n",
              "      <td>71</td>\n",
              "      <td>강의</td>\n",
              "      <td>95</td>\n",
              "    </tr>\n",
              "    <tr>\n",
              "      <th>1</th>\n",
              "      <td>34</td>\n",
              "      <td>독학</td>\n",
              "      <td>63</td>\n",
              "    </tr>\n",
              "    <tr>\n",
              "      <th>2</th>\n",
              "      <td>91</td>\n",
              "      <td>도서</td>\n",
              "      <td>95</td>\n",
              "    </tr>\n",
              "  </tbody>\n",
              "</table>\n",
              "</div>\n",
              "    <div class=\"colab-df-buttons\">\n",
              "\n",
              "  <div class=\"colab-df-container\">\n",
              "    <button class=\"colab-df-convert\" onclick=\"convertToInteractive('df-3c14a95b-d8c2-4456-9429-5080a72523a9')\"\n",
              "            title=\"Convert this dataframe to an interactive table.\"\n",
              "            style=\"display:none;\">\n",
              "\n",
              "  <svg xmlns=\"http://www.w3.org/2000/svg\" height=\"24px\" viewBox=\"0 -960 960 960\">\n",
              "    <path d=\"M120-120v-720h720v720H120Zm60-500h600v-160H180v160Zm220 220h160v-160H400v160Zm0 220h160v-160H400v160ZM180-400h160v-160H180v160Zm440 0h160v-160H620v160ZM180-180h160v-160H180v160Zm440 0h160v-160H620v160Z\"/>\n",
              "  </svg>\n",
              "    </button>\n",
              "\n",
              "  <style>\n",
              "    .colab-df-container {\n",
              "      display:flex;\n",
              "      gap: 12px;\n",
              "    }\n",
              "\n",
              "    .colab-df-convert {\n",
              "      background-color: #E8F0FE;\n",
              "      border: none;\n",
              "      border-radius: 50%;\n",
              "      cursor: pointer;\n",
              "      display: none;\n",
              "      fill: #1967D2;\n",
              "      height: 32px;\n",
              "      padding: 0 0 0 0;\n",
              "      width: 32px;\n",
              "    }\n",
              "\n",
              "    .colab-df-convert:hover {\n",
              "      background-color: #E2EBFA;\n",
              "      box-shadow: 0px 1px 2px rgba(60, 64, 67, 0.3), 0px 1px 3px 1px rgba(60, 64, 67, 0.15);\n",
              "      fill: #174EA6;\n",
              "    }\n",
              "\n",
              "    .colab-df-buttons div {\n",
              "      margin-bottom: 4px;\n",
              "    }\n",
              "\n",
              "    [theme=dark] .colab-df-convert {\n",
              "      background-color: #3B4455;\n",
              "      fill: #D2E3FC;\n",
              "    }\n",
              "\n",
              "    [theme=dark] .colab-df-convert:hover {\n",
              "      background-color: #434B5C;\n",
              "      box-shadow: 0px 1px 3px 1px rgba(0, 0, 0, 0.15);\n",
              "      filter: drop-shadow(0px 1px 2px rgba(0, 0, 0, 0.3));\n",
              "      fill: #FFFFFF;\n",
              "    }\n",
              "  </style>\n",
              "\n",
              "    <script>\n",
              "      const buttonEl =\n",
              "        document.querySelector('#df-3c14a95b-d8c2-4456-9429-5080a72523a9 button.colab-df-convert');\n",
              "      buttonEl.style.display =\n",
              "        google.colab.kernel.accessAllowed ? 'block' : 'none';\n",
              "\n",
              "      async function convertToInteractive(key) {\n",
              "        const element = document.querySelector('#df-3c14a95b-d8c2-4456-9429-5080a72523a9');\n",
              "        const dataTable =\n",
              "          await google.colab.kernel.invokeFunction('convertToInteractive',\n",
              "                                                    [key], {});\n",
              "        if (!dataTable) return;\n",
              "\n",
              "        const docLinkHtml = 'Like what you see? Visit the ' +\n",
              "          '<a target=\"_blank\" href=https://colab.research.google.com/notebooks/data_table.ipynb>data table notebook</a>'\n",
              "          + ' to learn more about interactive tables.';\n",
              "        element.innerHTML = '';\n",
              "        dataTable['output_type'] = 'display_data';\n",
              "        await google.colab.output.renderOutput(dataTable, element);\n",
              "        const docLink = document.createElement('div');\n",
              "        docLink.innerHTML = docLinkHtml;\n",
              "        element.appendChild(docLink);\n",
              "      }\n",
              "    </script>\n",
              "  </div>\n",
              "\n",
              "\n",
              "<div id=\"df-ff7263de-012f-4fc4-a79f-9d0201d3fb24\">\n",
              "  <button class=\"colab-df-quickchart\" onclick=\"quickchart('df-ff7263de-012f-4fc4-a79f-9d0201d3fb24')\"\n",
              "            title=\"Suggest charts\"\n",
              "            style=\"display:none;\">\n",
              "\n",
              "<svg xmlns=\"http://www.w3.org/2000/svg\" height=\"24px\"viewBox=\"0 0 24 24\"\n",
              "     width=\"24px\">\n",
              "    <g>\n",
              "        <path d=\"M19 3H5c-1.1 0-2 .9-2 2v14c0 1.1.9 2 2 2h14c1.1 0 2-.9 2-2V5c0-1.1-.9-2-2-2zM9 17H7v-7h2v7zm4 0h-2V7h2v10zm4 0h-2v-4h2v4z\"/>\n",
              "    </g>\n",
              "</svg>\n",
              "  </button>\n",
              "\n",
              "<style>\n",
              "  .colab-df-quickchart {\n",
              "      --bg-color: #E8F0FE;\n",
              "      --fill-color: #1967D2;\n",
              "      --hover-bg-color: #E2EBFA;\n",
              "      --hover-fill-color: #174EA6;\n",
              "      --disabled-fill-color: #AAA;\n",
              "      --disabled-bg-color: #DDD;\n",
              "  }\n",
              "\n",
              "  [theme=dark] .colab-df-quickchart {\n",
              "      --bg-color: #3B4455;\n",
              "      --fill-color: #D2E3FC;\n",
              "      --hover-bg-color: #434B5C;\n",
              "      --hover-fill-color: #FFFFFF;\n",
              "      --disabled-bg-color: #3B4455;\n",
              "      --disabled-fill-color: #666;\n",
              "  }\n",
              "\n",
              "  .colab-df-quickchart {\n",
              "    background-color: var(--bg-color);\n",
              "    border: none;\n",
              "    border-radius: 50%;\n",
              "    cursor: pointer;\n",
              "    display: none;\n",
              "    fill: var(--fill-color);\n",
              "    height: 32px;\n",
              "    padding: 0;\n",
              "    width: 32px;\n",
              "  }\n",
              "\n",
              "  .colab-df-quickchart:hover {\n",
              "    background-color: var(--hover-bg-color);\n",
              "    box-shadow: 0 1px 2px rgba(60, 64, 67, 0.3), 0 1px 3px 1px rgba(60, 64, 67, 0.15);\n",
              "    fill: var(--button-hover-fill-color);\n",
              "  }\n",
              "\n",
              "  .colab-df-quickchart-complete:disabled,\n",
              "  .colab-df-quickchart-complete:disabled:hover {\n",
              "    background-color: var(--disabled-bg-color);\n",
              "    fill: var(--disabled-fill-color);\n",
              "    box-shadow: none;\n",
              "  }\n",
              "\n",
              "  .colab-df-spinner {\n",
              "    border: 2px solid var(--fill-color);\n",
              "    border-color: transparent;\n",
              "    border-bottom-color: var(--fill-color);\n",
              "    animation:\n",
              "      spin 1s steps(1) infinite;\n",
              "  }\n",
              "\n",
              "  @keyframes spin {\n",
              "    0% {\n",
              "      border-color: transparent;\n",
              "      border-bottom-color: var(--fill-color);\n",
              "      border-left-color: var(--fill-color);\n",
              "    }\n",
              "    20% {\n",
              "      border-color: transparent;\n",
              "      border-left-color: var(--fill-color);\n",
              "      border-top-color: var(--fill-color);\n",
              "    }\n",
              "    30% {\n",
              "      border-color: transparent;\n",
              "      border-left-color: var(--fill-color);\n",
              "      border-top-color: var(--fill-color);\n",
              "      border-right-color: var(--fill-color);\n",
              "    }\n",
              "    40% {\n",
              "      border-color: transparent;\n",
              "      border-right-color: var(--fill-color);\n",
              "      border-top-color: var(--fill-color);\n",
              "    }\n",
              "    60% {\n",
              "      border-color: transparent;\n",
              "      border-right-color: var(--fill-color);\n",
              "    }\n",
              "    80% {\n",
              "      border-color: transparent;\n",
              "      border-right-color: var(--fill-color);\n",
              "      border-bottom-color: var(--fill-color);\n",
              "    }\n",
              "    90% {\n",
              "      border-color: transparent;\n",
              "      border-bottom-color: var(--fill-color);\n",
              "    }\n",
              "  }\n",
              "</style>\n",
              "\n",
              "  <script>\n",
              "    async function quickchart(key) {\n",
              "      const quickchartButtonEl =\n",
              "        document.querySelector('#' + key + ' button');\n",
              "      quickchartButtonEl.disabled = true;  // To prevent multiple clicks.\n",
              "      quickchartButtonEl.classList.add('colab-df-spinner');\n",
              "      try {\n",
              "        const charts = await google.colab.kernel.invokeFunction(\n",
              "            'suggestCharts', [key], {});\n",
              "      } catch (error) {\n",
              "        console.error('Error during call to suggestCharts:', error);\n",
              "      }\n",
              "      quickchartButtonEl.classList.remove('colab-df-spinner');\n",
              "      quickchartButtonEl.classList.add('colab-df-quickchart-complete');\n",
              "    }\n",
              "    (() => {\n",
              "      let quickchartButtonEl =\n",
              "        document.querySelector('#df-ff7263de-012f-4fc4-a79f-9d0201d3fb24 button');\n",
              "      quickchartButtonEl.style.display =\n",
              "        google.colab.kernel.accessAllowed ? 'block' : 'none';\n",
              "    })();\n",
              "  </script>\n",
              "</div>\n",
              "\n",
              "    </div>\n",
              "  </div>\n"
            ],
            "application/vnd.google.colaboratory.intrinsic+json": {
              "type": "dataframe",
              "variable_name": "df",
              "summary": "{\n  \"name\": \"df\",\n  \"rows\": 100,\n  \"fields\": [\n    {\n      \"column\": \"study_hours\",\n      \"properties\": {\n        \"dtype\": \"number\",\n        \"std\": 24,\n        \"min\": 20,\n        \"max\": 100,\n        \"num_unique_values\": 56,\n        \"samples\": [\n          71,\n          94,\n          90\n        ],\n        \"semantic_type\": \"\",\n        \"description\": \"\"\n      }\n    },\n    {\n      \"column\": \"material_type\",\n      \"properties\": {\n        \"dtype\": \"category\",\n        \"num_unique_values\": 3,\n        \"samples\": [\n          \"\\uac15\\uc758\",\n          \"\\ub3c5\\ud559\",\n          \"\\ub3c4\\uc11c\"\n        ],\n        \"semantic_type\": \"\",\n        \"description\": \"\"\n      }\n    },\n    {\n      \"column\": \"score\",\n      \"properties\": {\n        \"dtype\": \"number\",\n        \"std\": 14,\n        \"min\": 47,\n        \"max\": 100,\n        \"num_unique_values\": 44,\n        \"samples\": [\n          70,\n          76,\n          60\n        ],\n        \"semantic_type\": \"\",\n        \"description\": \"\"\n      }\n    }\n  ]\n}"
            }
          },
          "metadata": {},
          "execution_count": 48
        }
      ]
    },
    {
      "cell_type": "code",
      "source": [
        "from statsmodels.formula.api import ols\n",
        "model = ols('score ~ material_type + study_hours',data=df).fit()\n",
        "print(model.summary())"
      ],
      "metadata": {
        "id": "ZPE5P1kQWMf9",
        "outputId": "59b01bd7-f285-410e-f8bf-f8e87ee13028",
        "colab": {
          "base_uri": "https://localhost:8080/"
        }
      },
      "execution_count": 50,
      "outputs": [
        {
          "output_type": "stream",
          "name": "stdout",
          "text": [
            "                            OLS Regression Results                            \n",
            "==============================================================================\n",
            "Dep. Variable:                  score   R-squared:                       0.969\n",
            "Model:                            OLS   Adj. R-squared:                  0.968\n",
            "Method:                 Least Squares   F-statistic:                     991.9\n",
            "Date:                Wed, 20 Nov 2024   Prob (F-statistic):           4.42e-72\n",
            "Time:                        06:53:33   Log-Likelihood:                -238.89\n",
            "No. Observations:                 100   AIC:                             485.8\n",
            "Df Residuals:                      96   BIC:                             496.2\n",
            "Df Model:                           3                                         \n",
            "Covariance Type:            nonrobust                                         \n",
            "=======================================================================================\n",
            "                          coef    std err          t      P>|t|      [0.025      0.975]\n",
            "---------------------------------------------------------------------------------------\n",
            "Intercept              59.2111      0.799     74.147      0.000      57.626      60.796\n",
            "material_type[T.도서]    -8.6696      0.678    -12.778      0.000     -10.016      -7.323\n",
            "material_type[T.독학]   -17.6129      0.634    -27.790      0.000     -18.871     -16.355\n",
            "study_hours             0.4839      0.011     43.810      0.000       0.462       0.506\n",
            "==============================================================================\n",
            "Omnibus:                        1.754   Durbin-Watson:                   2.173\n",
            "Prob(Omnibus):                  0.416   Jarque-Bera (JB):                1.216\n",
            "Skew:                           0.231   Prob(JB):                        0.544\n",
            "Kurtosis:                       3.280   Cond. No.                         228.\n",
            "==============================================================================\n",
            "\n",
            "Notes:\n",
            "[1] Standard Errors assume that the covariance matrix of the errors is correctly specified.\n"
          ]
        }
      ]
    },
    {
      "cell_type": "code",
      "source": [],
      "metadata": {
        "id": "XAZKZbiQecH4"
      },
      "execution_count": null,
      "outputs": []
    }
  ],
  "metadata": {
    "celltoolbar": "Edit Metadata",
    "kernelspec": {
      "display_name": "Python 3 (ipykernel)",
      "language": "python",
      "name": "python3"
    },
    "language_info": {
      "codemirror_mode": {
        "name": "ipython",
        "version": 3
      },
      "file_extension": ".py",
      "mimetype": "text/x-python",
      "name": "python",
      "nbconvert_exporter": "python",
      "pygments_lexer": "ipython3",
      "version": "3.8.18"
    },
    "colab": {
      "provenance": [],
      "name": "Part02_Mulit_Classification.ipynb"
    }
  },
  "nbformat": 4,
  "nbformat_minor": 0
}