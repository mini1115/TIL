{
  "cells": [
    {
      "cell_type": "markdown",
      "source": [
        "### **회귀분석 **\n",
        "-------\n",
        "    수치형 변수 간의 Input 원인과 Output 간의 관곌르 추정하거나 예측하는데 사용한다.\n",
        "    변수 간의 강도와 방향을 측정하는 방법에는 상관 계수가 있다.\n",
        "\n",
        "#### 상관계수의 종류\n",
        "---\n",
        "    상관계수 : 두 변수 간의 선형적인 관계가 어느정도 강한지를 나타낸다.\n",
        "    - -1<= r <= 1\n",
        "    - r이 1에 가까울수록 양의 선형관계를 의미한다.\n",
        "    - r이 -1에 가까울수록 음의 선형관계를 의미한다.\n",
        "    - r이 0 에 가까울수록 약한 선형 관계를 의미한다.\n",
        "\n",
        "\n",
        "1. 상관계수\n",
        "```\n",
        "pandas.DataFrame.corr(method = 'pearson' , numeric_only = False)\n",
        "```\n",
        "- 상관관계 method\n",
        "  - pearson\n",
        "  - kendall\n",
        "  - spearman\n",
        "- numeric_only : 숫자 자료형만 포함(기본값 False)\n",
        "  "
      ],
      "metadata": {
        "id": "qwJl8sV8UGgg"
      }
    },
    {
      "cell_type": "code",
      "source": [
        "import pandas as pd\n",
        "\n",
        "# 주어진 데이터\n",
        "data = {\n",
        "    '키': [150, 160, 170, 175, 165],\n",
        "    '몸무게': [42, 50, 70, 64, 56]\n",
        "}\n",
        "df = pd.DataFrame(data)"
      ],
      "metadata": {
        "id": "7BzWRDZCVFS0",
        "outputId": "2a81b9c4-8607-441a-ddaa-b671dd8166ac",
        "colab": {
          "base_uri": "https://localhost:8080/"
        }
      },
      "execution_count": 97,
      "outputs": [
        {
          "output_type": "stream",
          "name": "stdout",
          "text": [
            "            키       몸무게\n",
            "키    1.000000  0.919509\n",
            "몸무게  0.919509  1.000000\n"
          ]
        }
      ]
    },
    {
      "cell_type": "code",
      "source": [
        "# 상관계수 계산\n",
        "correlation = df.corr()\n",
        "\n",
        "print(correlation)"
      ],
      "metadata": {
        "id": "_ee_L0ThXpdU",
        "outputId": "f55f012e-887a-4229-a6c9-a3ca713451b0",
        "colab": {
          "base_uri": "https://localhost:8080/"
        }
      },
      "execution_count": 98,
      "outputs": [
        {
          "output_type": "stream",
          "name": "stdout",
          "text": [
            "            키       몸무게\n",
            "키    1.000000  0.919509\n",
            "몸무게  0.919509  1.000000\n"
          ]
        }
      ]
    },
    {
      "cell_type": "code",
      "source": [
        "print(correlation.iloc[0,1])\n"
      ],
      "metadata": {
        "id": "YMuGdozFXygQ",
        "outputId": "afe495d3-1e56-4d85-88a1-16c954dbc2b4",
        "colab": {
          "base_uri": "https://localhost:8080/"
        }
      },
      "execution_count": 99,
      "outputs": [
        {
          "output_type": "stream",
          "name": "stdout",
          "text": [
            "0.9195090879163764\n"
          ]
        }
      ]
    },
    {
      "cell_type": "code",
      "source": [
        "print(df['키'].corr(df['몸무게']))"
      ],
      "metadata": {
        "id": "UJWCXtUeYT1j",
        "outputId": "60c5a68c-cbaa-4ed3-d286-3eb1fb992e05",
        "colab": {
          "base_uri": "https://localhost:8080/"
        }
      },
      "execution_count": 100,
      "outputs": [
        {
          "output_type": "stream",
          "name": "stdout",
          "text": [
            "0.9195090879163765\n"
          ]
        }
      ]
    },
    {
      "cell_type": "code",
      "source": [
        "print(df.corr(method='spearman'))"
      ],
      "metadata": {
        "id": "EUzOlhLlYXoh",
        "outputId": "d569b5f1-c6af-4dd8-b5c4-b70a67300b93",
        "colab": {
          "base_uri": "https://localhost:8080/"
        }
      },
      "execution_count": 105,
      "outputs": [
        {
          "output_type": "stream",
          "name": "stdout",
          "text": [
            "       키  몸무게\n",
            "키    1.0  0.9\n",
            "몸무게  0.9  1.0\n"
          ]
        }
      ]
    },
    {
      "cell_type": "code",
      "source": [
        "print(stats.pearsonr(df['몸무게'],df['키']))\n",
        "print(stats.kendalltau(df['몸무게'],df['키']))\n",
        "print(stats.spearmanr(df['몸무게'],df['키']))"
      ],
      "metadata": {
        "id": "uADip1UVYlJH",
        "outputId": "2c3a9f98-db78-4b53-9c54-afca87956907",
        "colab": {
          "base_uri": "https://localhost:8080/"
        }
      },
      "execution_count": 109,
      "outputs": [
        {
          "output_type": "stream",
          "name": "stdout",
          "text": [
            "PearsonRResult(statistic=0.9195090879163766, pvalue=0.027079456895589476)\n",
            "SignificanceResult(statistic=0.7999999999999999, pvalue=0.08333333333333333)\n",
            "SignificanceResult(statistic=0.8999999999999998, pvalue=0.03738607346849874)\n"
          ]
        }
      ]
    },
    {
      "cell_type": "markdown",
      "source": [
        "## 단순 선형 회귀 분석\n",
        "    2개 이상의 변수 간의 관계를 파악하려는 통계적 분석 방법이다.\n",
        "    그중 단순 선형 회귀 분석은 하나의 독립변수로부터 하나의 종속변수와의 관계를 분석하거나 예측하는 방법이다.\n",
        "    <예시> 키워드 광고를 많이 하면 판매량이 어떻게 변할까요?\n",
        "    - 독립변수 : 원인을 나타내는 데이터다. 예) 키워드 광고\n",
        "    - 종속변수 : 결과를 나타내는 데이터다. 예) 판매량\n",
        "\n",
        "1. 최소제곱 선형 회귀 모델을 구축\n",
        "```\n",
        "ols('종속변수 ~ 독립변수',data=df).fit()\n",
        "```\n",
        "2. 제곱합\n",
        "\n",
        "|   용어         |  | 의미 |\n",
        "|--------------|------|--------|\n",
        "| SST    | 총 제곱합   | 각 관측치가 평균으로부터 얼마나 떨어져 있는지를 나타냄     |\n",
        "| SSR | 회귀 제곱합   | 회귀선이 평균으로부터 얼마나 떨어져 있는지를 나타냄     |\n",
        "| SSE |오차 제곱합(잔차 제곱합) |관측치가 회귀선으로부터 얼마나 떨어져 있는지를 나타냄 |\n",
        "\n",
        "3. 결정계수(R-squared)\n",
        "결정 계수는 모델이 그 데이터를 얼마나 잘 설명하는지 나타내는 통계 값이다.\n",
        "R^2 = SSR / SST , 이 값이 1에 가까울수록 잘 설명한다."
      ],
      "metadata": {
        "id": "giz28TodZE5_"
      }
    },
    {
      "cell_type": "markdown",
      "source": [
        "Q. 다음은 20명의 키와 몸무게에 관한 정보다. 이 데이터를 바탕으로 회귀 모델을 구축하고 각 소문제의 값을 구하시오."
      ],
      "metadata": {
        "id": "aTWLFgTpdB4n"
      }
    },
    {
      "cell_type": "code",
      "source": [
        "import pandas as pd\n",
        "\n",
        "data = {\n",
        "    '키': [150, 160, 170, 175, 165, 155, 172, 168, 174, 158,\n",
        "          162, 173, 156, 159, 167, 163, 171, 169, 176, 161],\n",
        "    '몸무게': [42, 50, 70, 64, 56, 48, 68, 60, 65, 52,\n",
        "            54, 67, 49, 51, 58, 55, 69, 61, 66, 53]\n",
        "}\n",
        "df = pd.DataFrame(data)"
      ],
      "metadata": {
        "id": "8Yx9r-wUZC9L"
      },
      "execution_count": 110,
      "outputs": []
    },
    {
      "cell_type": "code",
      "source": [
        "from statsmodels.formula.api import ols\n",
        "model = ols('키 ~몸무게',data=df).fit()\n",
        "print(model.summary())\n",
        "print(\"결정계수:\",model.rsquared)\n",
        "print(\"기울기: \",model.params['몸무게'])\n",
        "print('절편:',model.params['Intercept'])\n",
        "print(\"p-values:\",model.pvalues['몸무게'])\n",
        "new_Data = pd.DataFrame({'몸무게':[67]})\n",
        "result = model.predict(new_Data)\n",
        "print('몸무게가 67일때 예측 키',result[0])\n",
        "# 회귀 모델의 잔차 제곱합\n",
        "df['잔차'] = df['키'] - model.predict(df)\n",
        "print(\"잔차 제곱합 : \",sum(df['잔차']**2))\n",
        "print(\"MSE:\",(df['잔차']**2).mean())"
      ],
      "metadata": {
        "id": "b1qda15wdL5m",
        "outputId": "b5745ee6-aad6-4442-b55b-cf39e6d6221c",
        "colab": {
          "base_uri": "https://localhost:8080/"
        }
      },
      "execution_count": 119,
      "outputs": [
        {
          "output_type": "stream",
          "name": "stdout",
          "text": [
            "                            OLS Regression Results                            \n",
            "==============================================================================\n",
            "Dep. Variable:                      키   R-squared:                       0.892\n",
            "Model:                            OLS   Adj. R-squared:                  0.886\n",
            "Method:                 Least Squares   F-statistic:                     148.0\n",
            "Date:                Tue, 19 Nov 2024   Prob (F-statistic):           4.04e-10\n",
            "Time:                        08:14:25   Log-Likelihood:                -45.761\n",
            "No. Observations:                  20   AIC:                             95.52\n",
            "Df Residuals:                      18   BIC:                             97.51\n",
            "Df Model:                           1                                         \n",
            "Covariance Type:            nonrobust                                         \n",
            "==============================================================================\n",
            "                 coef    std err          t      P>|t|      [0.025      0.975]\n",
            "------------------------------------------------------------------------------\n",
            "Intercept    115.0676      4.158     27.671      0.000     106.331     123.804\n",
            "몸무게            0.8658      0.071     12.167      0.000       0.716       1.015\n",
            "==============================================================================\n",
            "Omnibus:                        0.985   Durbin-Watson:                   2.609\n",
            "Prob(Omnibus):                  0.611   Jarque-Bera (JB):                0.336\n",
            "Skew:                          -0.315   Prob(JB):                        0.845\n",
            "Kurtosis:                       3.082   Cond. No.                         432.\n",
            "==============================================================================\n",
            "\n",
            "Notes:\n",
            "[1] Standard Errors assume that the covariance matrix of the errors is correctly specified.\n",
            "결정계수: 0.8915914350087264\n",
            "기울기:  0.8658438852380201\n",
            "절편: 115.06763904471865\n",
            "p-values: 4.0379325599303615e-10\n",
            "몸무게가 67일때 예측 키 173.07917935566599\n",
            "잔차 제곱합 :  113.74226638884431\n",
            "MSE: 5.687113319442214\n"
          ]
        }
      ]
    },
    {
      "cell_type": "code",
      "source": [
        "from sklearn.metrics import mean_squared_error\n",
        "pred = model.predict(df['몸무게'])\n",
        "mse = mean_squared_error(df['키'],pred)\n",
        "print('MSE : ',mse)"
      ],
      "metadata": {
        "id": "AcCinkYMfbxf",
        "outputId": "0210c0b9-9163-4059-ed4f-7319180d22fe",
        "colab": {
          "base_uri": "https://localhost:8080/"
        }
      },
      "execution_count": 120,
      "outputs": [
        {
          "output_type": "stream",
          "name": "stdout",
          "text": [
            "MSE :  5.687113319442214\n"
          ]
        }
      ]
    }
  ],
  "metadata": {
    "celltoolbar": "Edit Metadata",
    "kernelspec": {
      "display_name": "Python 3 (ipykernel)",
      "language": "python",
      "name": "python3"
    },
    "language_info": {
      "codemirror_mode": {
        "name": "ipython",
        "version": 3
      },
      "file_extension": ".py",
      "mimetype": "text/x-python",
      "name": "python",
      "nbconvert_exporter": "python",
      "pygments_lexer": "ipython3",
      "version": "3.8.18"
    },
    "colab": {
      "provenance": [],
      "name": "Part02_Mulit_Classification.ipynb"
    }
  },
  "nbformat": 4,
  "nbformat_minor": 0
}