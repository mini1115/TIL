{
  "cells": [
    {
      "cell_type": "markdown",
      "source": [
        "# 01. 가설 검정\n",
        "--------------------------\n",
        "    어떤 주장을 제기하고, 그 주장이 통계적으로 유의한지를 판단하기 위해 사용되는 것\n",
        "    분석 대상을 전체를 확인하는것이 가장 좋지만 시간과 엄청난 비용이 들어가기 때문에, 모집단의 일부 표본(sample) 데이터를 통해 가설검정을 진행한다.\n",
        "\n",
        "- 귀무가설(H0) : 기존에 알려진 사실\n",
        "- 대립가설(H1) : 밝히려고(입증하려고) 하는 사실\n",
        "\n",
        "### 가설 검정 프로세스\n",
        "---------\n",
        "      기각역을 이용하는 방법과 유의확률을 이용하는 방법\n",
        "1. 통계적 가설 검정\n",
        "        검정하려는 가설을 설정한다. 귀무가설은 기존에 알려진 또는 일반적인 사실(주장)이고 대립가설은 입증하고자 하는 가설(주장)이다.\n",
        "2. 유의수준 결정\n",
        "        유의수준은 귀무가설을 기각하기 위해 필요한 기준값이다. 일반적으로 0.05 또는 0.01과 같은 값이 사용된다. 유의수준은 검정 결과를 해석하는데 중요한 역할을 한다.\n",
        "3. 검정 통계량 및 유의확률 계산\n",
        "        표본 데이터의 검정 통계량을 계산한다. 검정 통계량은 가설을 평가하기 위해 사용되는 값으로 검정 통계량을 사용해 유의확률(P-value)을 계산한다.\n",
        "4. 결과 도출\n",
        "        유의확률 << 유의수준 : 귀무가설 기각\n",
        "        유의확률 >> 유의수준 : 귀무가설 채택"
      ],
      "metadata": {
        "id": "MlJ3N_HhYUZt"
      }
    },
    {
      "cell_type": "markdown",
      "source": [
        "# 02. 단일 표본 검정\n",
        "-----------------------------\n",
        "    단일 표본 검정(One Sample t-test)은 어떤 집단의 평균이 특정 값과 유의미하게 다른지를 검정하는 통계 방법이다.\n",
        "    예를 들어 영화관에서 판매하는 팝콘의 무게는 120g으로 알려져 있다. 판매할 때마다 무게가 다른 것 같아 평균 무게가 120g 인지를 확인하고자 한다.\n",
        "  \n",
        "  - 표본\n",
        "        팝콘\n",
        "  - t-test\n",
        "        표본의 크기, 표본의 평균, 표본의 표준편차 등을 활용해 기존에 알려진 120g과 다른지 t-검정을 수행한다. 검정 결과는 p_value(p-값)이 주어지는데 이 값이 얼마나 작은지에 따라 평균이 120g과 같은지 다른지를 판단할 수 있다.\n",
        "        즉 평균이 120g이 아니라고 할 만한 충분한 근거가 있다는 의미다.\n",
        "        이런 방식으로 단일표본 t-test는 주어진 표본 데이터가 어떤 특정 값과 다르다는 것을 통계적으로 판단하는 데 사용한다.\n",
        "\n",
        "      - 단일 표본 검정에서는 scipy.stats의 ttest_1samp()를 활용한다.\n",
        "            ttest_1samp(a, popmean, alternative)\n",
        "            - a : 모집단에서 뽑은 표본 데이터\n",
        "            - popmean : 비교하려는 모집단의 평균 또는 기대 값\n",
        "            - alternative(대립가설 정의)\n",
        "              실제 (μ) > 기존에 알려진 무게(μ₀)를 비교한다."
      ],
      "metadata": {
        "id": "5mThLOAWbZ0D"
      }
    },
    {
      "cell_type": "markdown",
      "source": [
        "Q. 영화관에서 판매하는 팝콘 라지 사이즈의 무게는 일반적으로 120g으로 알려져 있다. 이제 이 데이터를 갖고 t-test를 수행한다. 가설검정 프로세스 순서로 풀어본다. (별도의 안내가 없다면 0.05를 기준으로 한다.)"
      ],
      "metadata": {
        "id": "2OA1W6f9YTh7"
      }
    },
    {
      "cell_type": "code",
      "source": [
        "import pandas as pd\n",
        "df = pd.DataFrame({\n",
        "    'weights':[122, 121, 120, 119, 125, 115, 121, 118, 117, 127,\n",
        "           123, 129, 119, 124, 114, 126, 122, 124, 121, 116,\n",
        "           120, 123, 127, 118, 122, 117, 124, 125, 123, 121],\n",
        "})\n",
        "\n",
        "from scipy import stats\n",
        "t_statistic,p_value = stats.ttest_1samp(df['weights'],120)\n",
        "print(\"t-statistic :\",t_statistic)\n",
        "print(\"p-value:\",p_value)"
      ],
      "metadata": {
        "id": "Y8U9BpmAd9hU",
        "outputId": "de4c071f-bb54-4a00-9da5-66e710329c5b",
        "colab": {
          "base_uri": "https://localhost:8080/"
        }
      },
      "execution_count": null,
      "outputs": [
        {
          "output_type": "stream",
          "name": "stdout",
          "text": [
            "t-statistic : 2.1155384372682344\n",
            "p-value: 0.043092957066609296\n"
          ]
        }
      ]
    },
    {
      "cell_type": "markdown",
      "source": [
        "# 03. 양측 검정과 단측 검정\n",
        "-----------------------------\n",
        "1. 양측 검정(Two-tailed test)\n",
        "        귀무가설, 즉 기존에 알려진 사실보다 크거나 작음에 대해 모두 검정한다. 팝콘 라지 사이즈 예시에서 대립가설을\n",
        "        \" 팝콘 라지 사이즈의 평균 무게는 120g이 아니다.\"\n",
        "        라고 설정한다면 양측검정이다. 평균 무게가 120g보다 클 수도 작을 수도 있다.\n",
        "2. 단측 검정(One-tailed test)\n",
        "        귀무가설, 즉 기존에 알려진 사실보다 크거나 작음에 대해 검정한다.\n",
        "        예시에서 \"팝콘 라지 사이즈의 평균 무게는 120g보다 크다\"\n",
        "        라고 설정한다면 이는 단측 검정이다. 여기서는 평균 무게인 120g보다 클 경우만 고려하고 있다.\n",
        "        기본적으로 scipy 라이브러리의 ttest_1samp() 함수는 기본적으로 양측 검정을 수행한다. 단측 검정이 필요하다면 alternative 파라미터를 활용한다.\n",
        "        alternative : two-sided(기본값)/ greater(평균보다 크다)/ less(평균보다 작다)"
      ],
      "metadata": {
        "id": "WrVP_BhiezsD"
      }
    },
    {
      "cell_type": "code",
      "source": [
        "stats.ttest_1samp(df['weights'],120,alternative=\"two-sided\")"
      ],
      "metadata": {
        "id": "VD9IkxtVeg1P",
        "outputId": "0203dfd1-714f-4125-962a-cc5e60bb4296",
        "colab": {
          "base_uri": "https://localhost:8080/"
        }
      },
      "execution_count": null,
      "outputs": [
        {
          "output_type": "execute_result",
          "data": {
            "text/plain": [
              "TtestResult(statistic=2.1155384372682344, pvalue=0.043092957066609296, df=29)"
            ]
          },
          "metadata": {},
          "execution_count": 59
        }
      ]
    },
    {
      "cell_type": "code",
      "source": [
        "print(\"크다: \",stats.ttest_1samp(df['weights'],120,alternative='greater'))\n",
        "print(\"작다: \",stats.ttest_1samp(df['weights'],120,alternative='less'))\n"
      ],
      "metadata": {
        "id": "JSZN_QsGf-C-",
        "outputId": "8f91d94c-a194-4dc7-861b-b2afd8027ddd",
        "colab": {
          "base_uri": "https://localhost:8080/"
        }
      },
      "execution_count": null,
      "outputs": [
        {
          "output_type": "stream",
          "name": "stdout",
          "text": [
            "크다:  TtestResult(statistic=2.1155384372682344, pvalue=0.021546478533304648, df=29)\n",
            "작다:  TtestResult(statistic=2.1155384372682344, pvalue=0.9784535214666953, df=29)\n"
          ]
        }
      ]
    },
    {
      "cell_type": "markdown",
      "source": [
        "### 데이터가 정규성 가정을 만족하지 않는 경우\n",
        "-------------------\n",
        "    비모수 검정 방식을 고려한다.\n",
        "    - 샤피로-윌크 검정(Shapiro-Wilk test)\n",
        "    - 만약 샤피로- 윌크 검정 결과가 데이터 정규성을 갖지 않는경우 -> 윌콕슨(Wilcoxon) 부호검정을 통해 가설검정"
      ],
      "metadata": {
        "id": "KsWIl62GGjZO"
      }
    },
    {
      "cell_type": "code",
      "source": [
        "# 평균 무게가 120g이다. 평균보다 작다고 할수있는가?  유의수준(0.05)\n",
        "import pandas as pd\n",
        "df = pd.DataFrame({\n",
        "    'weights':[125,126,118,124,117,127,123,122,119,142],\n",
        "})\n",
        "\n",
        "# 샤피로-윌크 검정\n",
        "from scipy import stats\n",
        "print(\"Shapiro value: \",stats.shapiro(df['weights']))\n",
        "\n",
        "# 윌콕슨 부호 순위 검정 (평균이 아닌 중앙값에 대한 검정) , 비교하는 중앙값을 빼줘야한다.\n",
        "print(\"Wilcoxon value :\",stats.wilcoxon(df['weights'] - 120 , alternative='less'))"
      ],
      "metadata": {
        "id": "bEmHdoejGRDz",
        "outputId": "b31160a2-cf92-47f4-8c74-0a58b20ad831",
        "colab": {
          "base_uri": "https://localhost:8080/"
        }
      },
      "execution_count": 9,
      "outputs": [
        {
          "output_type": "stream",
          "name": "stdout",
          "text": [
            "Shapiro value:  ShapiroResult(statistic=0.8164570347000635, pvalue=0.022960129822451016)\n",
            "Wilcoxon value : WilcoxonResult(statistic=47.0, pvalue=0.9814453125)\n"
          ]
        }
      ]
    },
    {
      "cell_type": "markdown",
      "source": [
        "### 대응 표본 검정\n",
        "---------------\n",
        "    같은 모집단에 대하여 시간차를 두고 두 번(사전,사후) 두 시점을 비교\n",
        "    예시) 체중 감량프로그램, 약물 효과(전후), 교육 프로그램(전후)\n",
        "```python\n",
        "  from scipy import stats\n",
        "  ttest_rel(a,b,alternative)    \n",
        "```\n",
        "- a : 첫 번째 모집단에서 뽑은 표본 데이터\n",
        "- b : 두 번째 모집단에서 뽑은 표본 데이터 (a와 b의 데이터 수는 같다.)\n",
        "- alternative(대립가설 정의) μₖ = (a-b) 평균\n",
        "  - μₖ > 0 : greater, a의 평균이 b의 평균보다 크다.\n",
        "  - μₖ < 0 : less , a의 평균이 b의 평균보다 작다.\n",
        "  - μₖ = 0 : two-sides(기본값)"
      ],
      "metadata": {
        "id": "gNI_4NGkJDB8"
      }
    },
    {
      "cell_type": "markdown",
      "source": [
        "Q. 어떤 기업이 새로운 교육 프로그램을 도입해 직원의 성과를 개선하려고 한다. 이때 동일한 직우너 그룹에 대해 교육 전과 후의 성과를 비교했다. 새로운 교육 프로그램이 효과있는지 가설검정을 하시오. (유의 수준 0.05) 단 성과 데이터 차이는 정규 분포를 따른다고 가정한다."
      ],
      "metadata": {
        "id": "8RWGv-8qKjPs"
      }
    },
    {
      "cell_type": "code",
      "source": [
        "import pandas as pd\n",
        "df = pd.DataFrame({\n",
        "    'before' :[85,90,92,88,86,89,83,87],\n",
        "    'after' :[85.5,89.9,92.6,89.5,85.8,88.8,84.6,87.8]\n",
        "})\n",
        "# μₖ = before - after\n",
        "# 귀무가설 : 새로운 교육 프로그램은 효과가 없다.(before==after | before >after , μₖ >=0 )\n",
        "# 대립가설 : 새로운 교육 프로그램은 효과가 있다.(before이 작다,μₖ<0)\n",
        "from scipy import stats\n",
        "print(stats.ttest_rel(df['before'],df['after'],alternative='less'))\n",
        "# pvalue=0.03127028733756238 << 유의수준 0.05 , 귀무가설 기각 -> 대립가설 채택."
      ],
      "metadata": {
        "id": "gBCjThi1KO_L",
        "outputId": "9d8783ec-68cb-4679-9059-948e07ac0934",
        "colab": {
          "base_uri": "https://localhost:8080/"
        }
      },
      "execution_count": 11,
      "outputs": [
        {
          "output_type": "stream",
          "name": "stdout",
          "text": [
            "TtestResult(statistic=-2.2127749675452324, pvalue=0.03127028733756238, df=7)\n"
          ]
        }
      ]
    },
    {
      "cell_type": "code",
      "source": [
        "# 양측검증 시행\n",
        "print(stats.ttest_rel(df['after'],df['before']))"
      ],
      "metadata": {
        "id": "porHcxlhL8V6",
        "outputId": "70c492f0-10d9-4e40-bc74-cebc86fbbe1a",
        "colab": {
          "base_uri": "https://localhost:8080/"
        }
      },
      "execution_count": 12,
      "outputs": [
        {
          "output_type": "stream",
          "name": "stdout",
          "text": [
            "TtestResult(statistic=2.2127749675452324, pvalue=0.06254057467512476, df=7)\n"
          ]
        }
      ]
    },
    {
      "cell_type": "code",
      "source": [
        "# 데이터 정규성 검정에 샤피로-윌크는 순서가 중요하지 않다.\n",
        "from scipy import stats\n",
        "df['diff'] = df['after'] - df['before']\n",
        "stats.shapiro(df['diff'])"
      ],
      "metadata": {
        "id": "Ik9BhIJiNC1G",
        "outputId": "55bbd382-a041-4895-a591-c9c8687a5164",
        "colab": {
          "base_uri": "https://localhost:8080/"
        }
      },
      "execution_count": 13,
      "outputs": [
        {
          "output_type": "execute_result",
          "data": {
            "text/plain": [
              "ShapiroResult(statistic=0.885486928626845, pvalue=0.21232743678800203)"
            ]
          },
          "metadata": {},
          "execution_count": 13
        }
      ]
    },
    {
      "cell_type": "code",
      "source": [
        "# 윌콕슨 이나 t-검정은 순서가 중요하다\n",
        "stats.wilcoxon(df['after'],df['before'],alternative='greater')"
      ],
      "metadata": {
        "id": "yIGTjNzqNSd4",
        "outputId": "9b80aa0f-c523-458c-cae4-428d83c68afb",
        "colab": {
          "base_uri": "https://localhost:8080/"
        }
      },
      "execution_count": 14,
      "outputs": [
        {
          "output_type": "execute_result",
          "data": {
            "text/plain": [
              "WilcoxonResult(statistic=30.0, pvalue=0.0546875)"
            ]
          },
          "metadata": {},
          "execution_count": 14
        }
      ]
    },
    {
      "cell_type": "code",
      "source": [
        "stats.wilcoxon(df['diff'],alternative='greater')"
      ],
      "metadata": {
        "id": "e6xiL3oPNolJ",
        "outputId": "65468e77-b158-4018-a76e-5651018da572",
        "colab": {
          "base_uri": "https://localhost:8080/"
        }
      },
      "execution_count": 15,
      "outputs": [
        {
          "output_type": "execute_result",
          "data": {
            "text/plain": [
              "WilcoxonResult(statistic=30.0, pvalue=0.0546875)"
            ]
          },
          "metadata": {},
          "execution_count": 15
        }
      ]
    },
    {
      "cell_type": "markdown",
      "source": [
        "#### 독립 표본 검정\n",
        "--------------\n",
        "    두 그룹(표본)간의 평균이 서로 다름을 판단하는 통계 방법\n",
        "\n",
        "```python\n",
        "from scipy import stats\n",
        "stats.ttest_ind(a,b,alternative,equal_val)\n",
        "```\n",
        "- a : 첫 번째 모집단에서 뽑은 표본 데이터\n",
        "- b : 두 번째 모집단에서 뽑은 표본 데이터(a와 b의 데이터 수는 다를 수 있다.)\n",
        "- alternative (대립가설 정의)\n",
        "  - μ1 > μ2 : greater, a의 평균이 b의 평균보다 작다.\n",
        "  - μ1 < μ2 : less, a의 평균이 b의 평균보다 작다.\n",
        "  - μ1 ≠ μ2 : two-sides(기본값) 두 그룹 간 평균차이가 있다.\n",
        "\n",
        "- equal_val\n",
        "  - True : 두 모집단의 분산이 같다고 가정한다.\n",
        "  - False : 두 모집단의 분산이 다르다고 가정한다."
      ],
      "metadata": {
        "id": "WN2WrKgTO-Jx"
      }
    },
    {
      "cell_type": "markdown",
      "source": [
        "----------------------\n",
        "Q. 어느 학교의 반별 수학 시험 점수다. 1반과 2반의 평균 점수가 차이가 있는지 유의수준 0.05 하에서 가설검정하시오.(μ1 : 1반 평균, μ2 : 2반 평균)"
      ],
      "metadata": {
        "id": "j2KBgLHzQSU6"
      }
    },
    {
      "cell_type": "code",
      "source": [
        "import pandas as pd\n",
        "class1 = [85,90,92,88,86,89,83,87]\n",
        "class2 = [80,82,88,85,84]\n",
        "\n",
        "from scipy.stats import ttest_ind\n",
        "ttest_ind(class1,class2)"
      ],
      "metadata": {
        "id": "6l2AW24uQrOo",
        "outputId": "4fb080a2-79bf-4373-fa59-fb51bf4d3a83",
        "colab": {
          "base_uri": "https://localhost:8080/"
        }
      },
      "execution_count": 16,
      "outputs": [
        {
          "output_type": "execute_result",
          "data": {
            "text/plain": [
              "TtestResult(statistic=2.2108140580092237, pvalue=0.04914857789252186, df=11.0)"
            ]
          },
          "metadata": {},
          "execution_count": 16
        }
      ]
    },
    {
      "cell_type": "code",
      "source": [
        "print(stats.ttest_ind(class1,class2,equal_var=False))"
      ],
      "metadata": {
        "id": "yLXkVVboRAnw",
        "outputId": "f204ce60-69b3-4632-8ed5-d19dd271470a",
        "colab": {
          "base_uri": "https://localhost:8080/"
        }
      },
      "execution_count": 17,
      "outputs": [
        {
          "output_type": "stream",
          "name": "stdout",
          "text": [
            "TtestResult(statistic=2.1818699281825236, pvalue=0.059589330071355334, df=8.272682358753572)\n"
          ]
        }
      ]
    },
    {
      "cell_type": "code",
      "source": [
        "# 단측검정\n",
        "# 귀무가설 : 반별 수학평균은 같다.μ1 = μ2\n",
        "# 대립가설 : 2반의 수학평균이 더 높다. μ1 < μ2\n",
        "print(stats.ttest_ind(class1,class2,equal_var=True,alternative='less'))"
      ],
      "metadata": {
        "id": "s2dTo-cMSDfg",
        "outputId": "55e24151-048b-41bb-de32-6e5ee2a103b4",
        "colab": {
          "base_uri": "https://localhost:8080/"
        }
      },
      "execution_count": 18,
      "outputs": [
        {
          "output_type": "stream",
          "name": "stdout",
          "text": [
            "TtestResult(statistic=-2.2108140580092237, pvalue=0.9754257110537391, df=11.0)\n"
          ]
        }
      ]
    },
    {
      "cell_type": "code",
      "source": [
        "# 단측검정\n",
        "# 귀무가설 : 반별 수학평균은 같다.μ1 = μ2\n",
        "# 대립가설 : 1반의 수학평균이 더 높다. μ1 > μ2\n",
        "print(stats.ttest_ind(class1,class2,equal_var=True,alternative='greater'))"
      ],
      "metadata": {
        "id": "3tn7qaK6SbBJ",
        "outputId": "7de168a8-b54d-402b-dcc0-c35961a6a6be",
        "colab": {
          "base_uri": "https://localhost:8080/"
        }
      },
      "execution_count": 20,
      "outputs": [
        {
          "output_type": "stream",
          "name": "stdout",
          "text": [
            "TtestResult(statistic=2.2108140580092237, pvalue=0.02457428894626093, df=11.0)\n"
          ]
        }
      ]
    },
    {
      "cell_type": "markdown",
      "source": [
        "Q. 다음의 어느 학교의 반별 수학 시험 점수다. 1반과 2반의 평균 점수가 차이가 있는지 유의 수준 0.05 하에서 가설검정하시오. (μ1 : 1반 평균, μ2 : 2반 평균)\n",
        "- 귀무가설 : 반별 수학 평균 점수는 같다.\n",
        "- 대립가설 : 2반의 수학 평균 점수가 더 높다."
      ],
      "metadata": {
        "id": "OzDDWskfUeJD"
      }
    },
    {
      "cell_type": "code",
      "source": [
        "import pandas as pd\n",
        "class1 = [85,90,92,88,86,89,83,87]\n",
        "class2 = [80,82,88,85,84]\n",
        "# class1은 pvalue=0.999986994137081, class2는 pvalue=0.9854182266624983 / 정규성 만족한다.\n",
        "from scipy import stats\n",
        "print(stats.shapiro(class1))\n",
        "print(stats.shapiro(class2))"
      ],
      "metadata": {
        "id": "CapZxTd9Us50",
        "outputId": "7f54b050-784a-4bf9-bb0d-56118c23f810",
        "colab": {
          "base_uri": "https://localhost:8080/"
        }
      },
      "execution_count": 21,
      "outputs": [
        {
          "output_type": "stream",
          "name": "stdout",
          "text": [
            "ShapiroResult(statistic=0.9981893537736595, pvalue=0.999986994137081)\n",
            "ShapiroResult(statistic=0.9917398436295009, pvalue=0.9854182266624983)\n"
          ]
        }
      ]
    },
    {
      "cell_type": "code",
      "source": [
        "print(stats.levene(class1,class2))\n",
        "# pvalue=0.958802951766629 등분산성 만족한다."
      ],
      "metadata": {
        "id": "_tciUL9eU23D",
        "outputId": "9e4229c4-cd6a-468b-c9a2-0e14216fc7be",
        "colab": {
          "base_uri": "https://localhost:8080/"
        }
      },
      "execution_count": 22,
      "outputs": [
        {
          "output_type": "stream",
          "name": "stdout",
          "text": [
            "LeveneResult(statistic=0.0027925869510027727, pvalue=0.958802951766629)\n"
          ]
        }
      ]
    },
    {
      "cell_type": "code",
      "source": [
        "print(stats.ttest_ind(class1,class2,alternative='less',equal_var=True))\n",
        "# 독립 표본 t-검정"
      ],
      "metadata": {
        "id": "4bR_5i6oVGig",
        "outputId": "7879e140-7284-41a6-d82a-36227f0319e3",
        "colab": {
          "base_uri": "https://localhost:8080/"
        }
      },
      "execution_count": 23,
      "outputs": [
        {
          "output_type": "stream",
          "name": "stdout",
          "text": [
            "TtestResult(statistic=2.2108140580092237, pvalue=0.9754257110537391, df=11.0)\n"
          ]
        }
      ]
    },
    {
      "cell_type": "markdown",
      "source": [
        "#### 비모수 검정 예시\n",
        "    정규성 가정이 만족하지 못한 경우 비모수 검정인 Mann-Whitney U 검정 수행\n",
        "\n",
        "- 2개의 모집단 -> 정규성을 만족하는가? -> Yes 분산이 동일한가?(등분산성) -> Yes 독립표본 검정\n",
        "- 2개의 모집단 -> 정규성을 만족하는가? -> Yes 분산이 동일한가?(등분산성) ->\n",
        "No Welch의 t검정\n",
        "- 2개의 모집단 -> 정규성을 만족하는가? No-> Mann-Whitney U 검정\n"
      ],
      "metadata": {
        "id": "B_MNV6EXVt3f"
      }
    },
    {
      "cell_type": "code",
      "source": [
        "import pandas as pd\n",
        "class1 = [85,90,92,88,86,89,83,87]\n",
        "class2 = [80,82,88,85,130]\n",
        "\n",
        "from scipy import stats\n",
        "print(stats.shapiro(class1))\n",
        "print(stats.shapiro(class2))\n",
        "# pvalue=0.007151570728885509 정규성 만족하지 못한다.\n",
        "# 맨-휘트니 검정\n",
        "stats.mannwhitneyu(class1,class2,alternative='less')"
      ],
      "metadata": {
        "id": "YXLXzWglWfX_",
        "outputId": "0d132610-b2fd-491e-95a8-915ef0a9cbb4",
        "colab": {
          "base_uri": "https://localhost:8080/"
        }
      },
      "execution_count": 25,
      "outputs": [
        {
          "output_type": "stream",
          "name": "stdout",
          "text": [
            "ShapiroResult(statistic=0.9981893537736595, pvalue=0.999986994137081)\n",
            "ShapiroResult(statistic=0.6880497349322277, pvalue=0.007151570728885509)\n"
          ]
        },
        {
          "output_type": "execute_result",
          "data": {
            "text/plain": [
              "MannwhitneyuResult(statistic=26.0, pvalue=0.8299904236851448)"
            ]
          },
          "metadata": {},
          "execution_count": 25
        }
      ]
    }
  ],
  "metadata": {
    "celltoolbar": "Edit Metadata",
    "kernelspec": {
      "display_name": "Python 3 (ipykernel)",
      "language": "python",
      "name": "python3"
    },
    "language_info": {
      "codemirror_mode": {
        "name": "ipython",
        "version": 3
      },
      "file_extension": ".py",
      "mimetype": "text/x-python",
      "name": "python",
      "nbconvert_exporter": "python",
      "pygments_lexer": "ipython3",
      "version": "3.8.18"
    },
    "colab": {
      "provenance": [],
      "name": "Part02_Mulit_Classification.ipynb"
    }
  },
  "nbformat": 4,
  "nbformat_minor": 0
}