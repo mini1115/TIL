{
  "cells": [
    {
      "cell_type": "code",
      "source": [
        "# 이진분류 데이터\n",
        "import pandas as pd\n",
        "y_true = pd.DataFrame([1, 1, 1, 0, 0, 1, 1, 1, 1, 0]) #실제값\n",
        "y_pred = pd.DataFrame([1, 0, 1, 1, 0, 0, 0, 1, 1, 0]) #예측값\n",
        "\n",
        "y_true_str = pd.DataFrame(['A', 'A', 'A', 'B', 'B', 'A', 'A', 'A', 'A', 'B']) #실제값\n",
        "y_pred_str = pd.DataFrame(['A', 'B', 'A', 'A', 'B', 'B', 'B', 'A', 'A', 'B']) #예측값"
      ],
      "metadata": {
        "id": "rGmWfOeVIy7l"
      },
      "execution_count": 253,
      "outputs": []
    },
    {
      "cell_type": "code",
      "source": [
        "from sklearn.metrics import accuracy_score\n",
        "accuracy = accuracy_score(y_true,y_pred)\n",
        "print(\"정확도: \",accuracy)\n",
        "\n",
        "accuracy = accuracy_score(y_true_str,y_pred_str)\n",
        "print('accuracy: ',accuracy)"
      ],
      "metadata": {
        "id": "prxg2zdzKJJA",
        "outputId": "0c3d7946-bf76-4994-c20f-3484a922d776",
        "colab": {
          "base_uri": "https://localhost:8080/"
        }
      },
      "execution_count": 256,
      "outputs": [
        {
          "output_type": "stream",
          "name": "stdout",
          "text": [
            "정확도:  0.6\n",
            "accuracy:  0.6\n"
          ]
        }
      ]
    },
    {
      "cell_type": "code",
      "source": [
        "# 정밀도\n",
        "from sklearn.metrics import precision_score\n",
        "precision = precision_score(y_true,y_pred)\n",
        "print(\"정밀도\",precision)\n",
        "# 양성 클래스 A 설정\n",
        "precision = precision_score(y_true_str,y_pred_str,pos_label='A')\n",
        "print('정밀도: ',precision)"
      ],
      "metadata": {
        "id": "1bhhUOExL0Yl",
        "outputId": "67dea40c-76d8-4a85-bfb3-4397b3cf1cf4",
        "colab": {
          "base_uri": "https://localhost:8080/"
        }
      },
      "execution_count": 257,
      "outputs": [
        {
          "output_type": "stream",
          "name": "stdout",
          "text": [
            "정밀도 0.8\n",
            "정밀도:  0.8\n"
          ]
        }
      ]
    },
    {
      "cell_type": "code",
      "source": [
        "# 재현율 (Recall)\n",
        "from sklearn.metrics import recall_score\n",
        "recall = recall_score(y_true,y_pred)\n",
        "print(\"재현율: \",recall)\n",
        "\n",
        "recall = recall_score(y_true_str,y_pred_str,pos_label='A')\n",
        "print('재현율: ',recall)"
      ],
      "metadata": {
        "id": "nnOp0O3gMgDh",
        "outputId": "06105309-53ab-4a3c-da3b-415e92664356",
        "colab": {
          "base_uri": "https://localhost:8080/"
        }
      },
      "execution_count": 258,
      "outputs": [
        {
          "output_type": "stream",
          "name": "stdout",
          "text": [
            "재현율:  0.5714285714285714\n",
            "재현율:  0.5714285714285714\n"
          ]
        }
      ]
    },
    {
      "cell_type": "code",
      "source": [
        "# F1 스코어 , 정밀도와 재현율 -> 조화 평균\n",
        "from sklearn.metrics import f1_score\n",
        "f1 = f1_score(y_true,y_pred)\n",
        "print(\"F1-SCORE: \",f1)\n",
        "\n",
        "f1 = f1_score(y_true_str,y_pred_str,pos_label='A')\n",
        "print(\"F1-SCORE: \",f1)"
      ],
      "metadata": {
        "id": "NIl1FyE2M3Fc",
        "outputId": "7a7f30b9-0042-4300-db46-4ebb1b582ac2",
        "colab": {
          "base_uri": "https://localhost:8080/"
        }
      },
      "execution_count": 260,
      "outputs": [
        {
          "output_type": "stream",
          "name": "stdout",
          "text": [
            "F1-SCORE:  0.6666666666666666\n",
            "F1-SCORE:  0.6666666666666666\n"
          ]
        }
      ]
    },
    {
      "cell_type": "code",
      "source": [
        "# ROC - AUC , 모델의 분류 성능 평가, 양성 클래스에 속할 확률 예측 predict_proba()\n",
        "from sklearn.metrics import roc_auc_score\n",
        "\n",
        "# 실제값 (0: 음성, 1: 양성)\n",
        "y_true = pd.DataFrame([0, 1, 0, 1, 1, 0, 0, 0, 1, 1])\n",
        "# 예측값 중 양성(1) 확률\n",
        "y_pred_proba = pd.DataFrame([0.4, 0.9, 0.1, 0.3, 0.8, 0.6,0.4,0.2,0.7,0.6])\n",
        "\n",
        "roc_auc = roc_auc_score(y_true,y_pred_proba)\n",
        "print(\"roc-auc: \",roc_auc)\n",
        "\n",
        "# 실제값\n",
        "y_true_str = pd.DataFrame(['A', 'B', 'A', 'B', 'B', 'A', 'A', 'A', 'B', 'B'])\n",
        "\n",
        "# 예측값 중 B 확률\n",
        "y_pred_proba_str = pd.DataFrame([0.4, 0.9, 0.1, 0.3, 0.8, 0.6, 0.4, 0.2, 0.7, 0.6])\n",
        "roc_auc = roc_auc_score(y_true_str, y_pred_proba_str)\n",
        "print(\"roc-auc: \",roc_auc)"
      ],
      "metadata": {
        "id": "qpHO4lOKNMHp",
        "outputId": "ad4fe5fe-523c-4717-8bb8-7b1099d52bb6",
        "colab": {
          "base_uri": "https://localhost:8080/"
        }
      },
      "execution_count": 263,
      "outputs": [
        {
          "output_type": "stream",
          "name": "stdout",
          "text": [
            "roc-auc:  0.86\n",
            "roc-auc:  0.86\n"
          ]
        }
      ]
    },
    {
      "cell_type": "markdown",
      "source": [
        "### 다중 분류 평가지표\n",
        " 다중 분류로 평가하기 위해 정밀도, 재현율, F1 스코어는 평균을 계산하는 방식(파라미터)가 필요하다.\n",
        "- Macro 평균 : 각 클래스에 대한 정밀도/재현율/F1 점수의 평균 계산\n",
        "- Micro 평균 : 모든 클래스에 대한 전체적인 정밀도/재현율/F1 점수를 계산\n",
        "- Weighted 평균 : 각 클래스에 대한 정밀도/재현율/F1 점수의 가중 평균 계산"
      ],
      "metadata": {
        "id": "sqK_DnfpI_fP"
      }
    },
    {
      "cell_type": "code",
      "source": [
        "# 다중분류 데이터\n",
        "y_true = pd.DataFrame([1, 2, 3, 3, 2, 1, 3, 3, 2, 1]) # 실제값\n",
        "y_pred = pd.DataFrame([1, 2, 1, 3, 2, 1, 1, 2, 2, 1]) # 예측값\n",
        "\n",
        "y_true_str = pd.DataFrame(['A', 'B', 'C', 'C', 'B', 'A', 'C', 'C', 'B', 'A']) # 실제값\n",
        "y_pred_str = pd.DataFrame(['A', 'B', 'A', 'C', 'B', 'A', 'A', 'B', 'B', 'A']) # 예측값"
      ],
      "metadata": {
        "id": "tFHs4tGEOLWf"
      },
      "execution_count": 265,
      "outputs": []
    },
    {
      "cell_type": "code",
      "source": [
        "# 정확도\n",
        "from sklearn.metrics import accuracy_score\n",
        "accuracy = accuracy_score(y_true,y_pred)\n",
        "print(\"정확도: \",accuracy)\n",
        "\n",
        "accuracy = accuracy_score(y_true_str,y_pred_str)\n",
        "print(\"accuracy_score: \",accuracy)"
      ],
      "metadata": {
        "id": "p7cij3CVOMgj",
        "outputId": "721b89a7-5fba-45c8-e2d8-e8bef641ecd1",
        "colab": {
          "base_uri": "https://localhost:8080/"
        }
      },
      "execution_count": 266,
      "outputs": [
        {
          "output_type": "stream",
          "name": "stdout",
          "text": [
            "정확도:  0.7\n",
            "accuracy_score:  0.7\n"
          ]
        }
      ]
    },
    {
      "cell_type": "code",
      "source": [
        "# 정밀도\n",
        "from sklearn.metrics import precision_score\n",
        "\n",
        "precision = precision_score(y_true,y_pred,average='macro')\n",
        "print(precision)\n",
        "\n",
        "precision = precision_score(y_true_str,y_pred_str,average='macro')\n",
        "print(precision)"
      ],
      "metadata": {
        "id": "Y7oha-m_Old-",
        "outputId": "6b89a10b-5528-4f1e-a276-1e2f2fe37998",
        "colab": {
          "base_uri": "https://localhost:8080/"
        }
      },
      "execution_count": 268,
      "outputs": [
        {
          "output_type": "stream",
          "name": "stdout",
          "text": [
            "0.7833333333333333\n",
            "0.7833333333333333\n"
          ]
        }
      ]
    },
    {
      "cell_type": "code",
      "source": [
        "# 재현율\n",
        "from sklearn.metrics import recall_score\n",
        "recall = recall_score(y_true,y_pred,average='macro')\n",
        "print('recall_score: ',recall)\n",
        "\n",
        "recall = recall_score(y_true_str,y_pred_str,average='macro')\n",
        "print('recall_score: ',recall)"
      ],
      "metadata": {
        "id": "JEEX2QW4O8Yx",
        "outputId": "a9ee59b6-3690-4423-d4b6-9560dfdcec83",
        "colab": {
          "base_uri": "https://localhost:8080/"
        }
      },
      "execution_count": 269,
      "outputs": [
        {
          "output_type": "stream",
          "name": "stdout",
          "text": [
            "recall_score:  0.75\n",
            "recall_score:  0.75\n"
          ]
        }
      ]
    },
    {
      "cell_type": "code",
      "source": [
        "# F1 스코어\n",
        "from sklearn.metrics import f1_score\n",
        "f1 = f1_score(y_true,y_pred,average='macro')\n",
        "print(\"F1: \",f1)\n",
        "\n",
        "f1 = f1_score(y_true_str,y_pred_str,average='macro')\n",
        "print(\"F1: \",f1)"
      ],
      "metadata": {
        "id": "4IkHtLPGPRri",
        "outputId": "c035714d-e480-42dd-f02c-cdcf270d2618",
        "colab": {
          "base_uri": "https://localhost:8080/"
        }
      },
      "execution_count": 271,
      "outputs": [
        {
          "output_type": "stream",
          "name": "stdout",
          "text": [
            "F1:  0.669047619047619\n",
            "F1:  0.669047619047619\n"
          ]
        }
      ]
    },
    {
      "cell_type": "markdown",
      "source": [
        "# 회귀 평가지표\n",
        "\n",
        "     "
      ],
      "metadata": {
        "id": "n2q5g16SPm2i"
      }
    },
    {
      "cell_type": "code",
      "source": [
        "import pandas as pd\n",
        "y_true = pd.DataFrame([1, 2, 5, 2, 4, 4, 7, 9]) # 실제값\n",
        "y_pred = pd.DataFrame([1.14, 2.53, 4.87, 3.08, 4.21, 5.53, 7.51, 10.32]) # 예측값"
      ],
      "metadata": {
        "id": "PD-VvelKPjyT"
      },
      "execution_count": 272,
      "outputs": []
    },
    {
      "cell_type": "code",
      "source": [
        "from sklearn.metrics import mean_squared_error\n",
        "# 실제 값과 예측값의 차이를 제곱해 평균\n",
        "mse = mean_squared_error(y_true,y_pred)\n",
        "print(\"MSE\",mse)"
      ],
      "metadata": {
        "id": "lfn6Ui_tZKsQ",
        "outputId": "0eccb2dd-57f1-4030-e86d-1a40d51dfefe",
        "colab": {
          "base_uri": "https://localhost:8080/"
        }
      },
      "execution_count": 273,
      "outputs": [
        {
          "output_type": "stream",
          "name": "stdout",
          "text": [
            "MSE 0.7339125000000001\n"
          ]
        }
      ]
    },
    {
      "cell_type": "code",
      "source": [
        "from sklearn.metrics import mean_absolute_error\n",
        "# 실제값과 에측값의 차이를 절대값으로 계산\n",
        "mae = mean_absolute_error(y_true,y_pred)\n",
        "print(\"MAE\",mae)"
      ],
      "metadata": {
        "id": "vfTwveGuZV6F",
        "outputId": "74144939-ac80-4151-fb0e-7241686f0c5a",
        "colab": {
          "base_uri": "https://localhost:8080/"
        }
      },
      "execution_count": 274,
      "outputs": [
        {
          "output_type": "stream",
          "name": "stdout",
          "text": [
            "MAE 0.68125\n"
          ]
        }
      ]
    },
    {
      "cell_type": "code",
      "source": [
        "from sklearn.metrics import r2_score\n",
        "# 회귀식이 얼마나 잘 예측(설명)하는지를 나타내는 지표다.\n",
        "r2 = r2_score(y_true,y_pred)\n",
        "print(\"결정계수\",r2)"
      ],
      "metadata": {
        "id": "zV-Wd6ruZrvz",
        "outputId": "ad896a9d-8822-4e84-8c7f-7cbabb35ee24",
        "colab": {
          "base_uri": "https://localhost:8080/"
        }
      },
      "execution_count": 276,
      "outputs": [
        {
          "output_type": "stream",
          "name": "stdout",
          "text": [
            "결정계수 0.8859941747572815\n"
          ]
        }
      ]
    },
    {
      "cell_type": "code",
      "source": [
        "from sklearn.metrics import mean_squared_error\n",
        "# Root Mean Squared Error : 실제값에 예측값의 차이를 제곱해 평균을 낸 MSE에 제곱근 적용한 값.\n",
        "mse =mean_squared_error(y_true,y_pred)\n",
        "rsme = mse ** 0.5\n",
        "print(\"rsme:\",rsme)"
      ],
      "metadata": {
        "id": "T0zLsU7OZ9sX"
      },
      "execution_count": null,
      "outputs": []
    },
    {
      "cell_type": "code",
      "source": [
        "from sklearn.metrics import mean_squared_log_error\n",
        "# 실제값과 예측값의 로그를 취한 후 차이를 제곱해 평균한 값\n",
        "msle = mean_squared_log_error(y_true,y_pred)\n",
        "print(\"msle : \",msle)"
      ],
      "metadata": {
        "id": "cGVIot8OaWau",
        "outputId": "02200f6a-770c-4217-e7e7-578b62cb38bf",
        "colab": {
          "base_uri": "https://localhost:8080/"
        }
      },
      "execution_count": 278,
      "outputs": [
        {
          "output_type": "stream",
          "name": "stdout",
          "text": [
            "msle :  0.027278486182156975\n"
          ]
        }
      ]
    },
    {
      "cell_type": "code",
      "source": [
        "from sklearn.metrics import mean_squared_log_error\n",
        "# 실제값과 예측값의 로그를 취한 후 차이를 제곱해 평균한 값의 제곱근한 값\n",
        "rmsle = mean_squared_log_error(y_true,y_pred) ** 0.5\n",
        "print(\"RMSLE: \",rmsle)"
      ],
      "metadata": {
        "id": "OwCw6CeRc_iV",
        "outputId": "221ca0fb-7b55-4911-bc6a-07a5520c13c5",
        "colab": {
          "base_uri": "https://localhost:8080/"
        }
      },
      "execution_count": 279,
      "outputs": [
        {
          "output_type": "stream",
          "name": "stdout",
          "text": [
            "RMSLE:  0.1651619998127807\n"
          ]
        }
      ]
    },
    {
      "cell_type": "code",
      "source": [
        "# MAPE(Mean Absolute Percentage Error) :\n",
        "# 예측값과 실제값 사이의 오차를 백분율로 나타낸 지표\n",
        "mape= (abs((y_true - y_pred) / y_true)).mean() *100\n",
        "print(mape)"
      ],
      "metadata": {
        "id": "4fFiRDgwdl61",
        "outputId": "9d4a7d80-9e1f-4b67-a312-54c774490f4e",
        "colab": {
          "base_uri": "https://localhost:8080/"
        }
      },
      "execution_count": 283,
      "outputs": [
        {
          "output_type": "stream",
          "name": "stdout",
          "text": [
            "0    20.319048\n",
            "dtype: float64\n"
          ]
        }
      ]
    }
  ],
  "metadata": {
    "celltoolbar": "Edit Metadata",
    "kernelspec": {
      "display_name": "Python 3 (ipykernel)",
      "language": "python",
      "name": "python3"
    },
    "language_info": {
      "codemirror_mode": {
        "name": "ipython",
        "version": 3
      },
      "file_extension": ".py",
      "mimetype": "text/x-python",
      "name": "python",
      "nbconvert_exporter": "python",
      "pygments_lexer": "ipython3",
      "version": "3.8.18"
    },
    "colab": {
      "provenance": [],
      "name": "Part02_Binary_class_Classification.ipynb"
    }
  },
  "nbformat": 4,
  "nbformat_minor": 0
}