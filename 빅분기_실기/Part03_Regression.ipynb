{
  "cells": [
    {
      "cell_type": "markdown",
      "source": [
        "# 회귀 분석\n",
        "-----------\n",
        "    수치형 변수 간의 관계 또는 Input(원인)과 Output(결과) 간의 관계를 추정하거나 예측하는 데 사용한다.\n",
        "    변수 간의 강도와 방향을 측정하는 방법에는 상관계수가 있다.\n",
        "\n",
        "#### 01. 상관 계수\n",
        "----------\n",
        "    두 변수 간의 선형적인 관계가 어느 정도 강한지를 나타낸다.\n",
        "    - -1 <= r <= 1\n",
        "    - r이 1에 가까울수록 강한 양의 선형관계를 의미한다.\n",
        "    - r이 0에 가까울수록 약한 선형관계를 의미한다.\n",
        "    - r이 -1에 가까울수록 강한 음의 선형관계를 의미한다.\n",
        "\n",
        "```python\n",
        "pandas.DataFrame.corr(method='pearson'.numeric_only=False)\n",
        "```\n",
        "- method : 상관 관계 방법\n",
        "  - pearson : 피어슨(기본값)\n",
        "  - kendall : 켄달의 타우(Kendall's tau)\n",
        "  - spearman : 스피어만\n",
        "- numeric_only : 숫자형 자료만 포함 여부(기본값 False)\n",
        "\n",
        "-------------\n",
        "Q. 다음은 학생들의 키와 몸무게 데이터다. 이를 바탕으로 상관계수를 구하라.\n",
        "\n",
        "| 학생      | 키(cm) | 몸무게(kg)          |\n",
        "|-----------|------|---------------|\n",
        "| A    |  150  | 42      |\n",
        "| B    |  160  | 50      |\n",
        "| C    |  170  | 70        |\n",
        "| D    |  175  | 64      |\n",
        "| E    |  165  | 56        |"
      ],
      "metadata": {
        "id": "hRmK2AkNpKt6"
      }
    },
    {
      "cell_type": "code",
      "source": [
        "import pandas as pd\n",
        "\n",
        "# 주어진 데이터\n",
        "data = {\n",
        "    '키': [150, 160, 170, 175, 165],\n",
        "    '몸무게': [42, 50, 70, 64, 56]\n",
        "}\n",
        "df = pd.DataFrame(data)\n",
        "print(df)\n",
        "\n",
        "# 판다스는 기본적으로 피어슨 상관관계\n",
        "correlation = df.corr()\n",
        "print('키와 몸무게 상관관계 :',correlation.iloc[0,1])\n",
        "print(df['키'].corr(df['몸무게']))\n",
        "print(df['몸무게'].corr(df['키']))\n",
        "# '스피어만 상관관계',\n",
        "print(df.corr(method='spearman'))\n",
        "# 켄달 타우 상관관계\n",
        "print(df.corr(method='kendall'))\n",
        "\n",
        "# 두 변수의 상관 계수와 t-검\n",
        "from scipy import stats\n",
        "print(stats.pearsonr(df['몸무게'],df['키']))\n",
        "print(stats.spearmanr(df['몸무게'],df['키']))\n",
        "print(stats.kendalltau(df['몸무게'],df['키']))"
      ],
      "metadata": {
        "id": "3jOW664npKMq",
        "outputId": "82599503-1bf5-4a33-d87f-f2689908654c",
        "colab": {
          "base_uri": "https://localhost:8080/"
        }
      },
      "execution_count": 54,
      "outputs": [
        {
          "output_type": "stream",
          "name": "stdout",
          "text": [
            "     키  몸무게\n",
            "0  150   42\n",
            "1  160   50\n",
            "2  170   70\n",
            "3  175   64\n",
            "4  165   56\n",
            "키와 몸무게 상관관계 : 0.9195090879163764\n",
            "0.9195090879163765\n",
            "0.9195090879163765\n",
            "       키  몸무게\n",
            "키    1.0  0.9\n",
            "몸무게  0.9  1.0\n",
            "       키  몸무게\n",
            "키    1.0  0.8\n",
            "몸무게  0.8  1.0\n",
            "PearsonRResult(statistic=0.9195090879163766, pvalue=0.027079456895589476)\n",
            "SignificanceResult(statistic=0.8999999999999998, pvalue=0.03738607346849874)\n",
            "SignificanceResult(statistic=0.7999999999999999, pvalue=0.08333333333333333)\n"
          ]
        }
      ]
    },
    {
      "cell_type": "markdown",
      "source": [
        "### 단순 회귀 분석\n",
        "-------------\n",
        "    하나의 독립변수로부터 하나의 종속변수와의 관계를 분석하거나 예측하는 방법\n",
        "    - 독립변수(x) : 원인을 나타내는 변수\n",
        "    - 종속변수(y) : 결과를 나타내는 변수\n",
        "\n",
        "#### 01. 단순 회귀 분석과 다중 회귀 분석\n",
        "----------\n",
        "    회귀 분석의 유형은 독립변수의 개수에 따라 달라진다.\n",
        "- 단일 회귀 분석 : 독립변수(원인)가 하나인 경우\n",
        "      Y=α+βX+ϵ\n",
        "  - X:독립변수\n",
        "  - Y:종속변수\n",
        "  - α:절편\n",
        "  - β:기울기(x를 1 증가시켰을 때 y의 증가량)\n",
        "  - ϵ: 오차항(모델이 설명하지 못하는 부분)\n",
        "\n",
        "- 최소제곱법\n",
        "      관측된 값과 회귀 모델의 예측값 차이(잔차)의 제곱합을 최소화하는것\n",
        "\n",
        "- ols 제곱 ( statsmodels의 ols() 함수 )\n",
        "      종속변수와 하나 이상의 독립변수 간의 선형 관계를 모델링하는데 사용된다.\n",
        "  ```python\n",
        "  ols('종속변수 ~ 독립변수',data=df).fit()\n",
        "  ```\n",
        "- ### 제곱합 ###\n",
        "      선형 회귀에서 모델이 데이터를 잘 설명하는가(적합도)를 평가하는데 사용된다.\n",
        "      - SST : 각 관측치가 평균으로부터 얼마나 떨어져 있는지를 나타냄\n",
        "      총 제곱합 : SST = SSE + SSR\n",
        "      - SSR : 회귀선이 평균으로부터 얼마나 떨어져 있는지 나타냄\n",
        "      - SSE : 관측치가 회귀선으로부터 얼마나 떨어져 있는지를 나타냄\n",
        "\n",
        "- 결정 계수(R-squared)\n",
        "      결정 계수는 모델이 그 데이터를 얼마나 잘 설명하느냐를 나타내는 통계값\n",
        "      R^2 = SSR / SST\n",
        "      (1에 가까울수록 데이터를 잘 설명한다)\n",
        "------------------------------------\n",
        "Q. 다음은 20명의 키과 몸무게에 관한 정보다. 이 데이터를 바탕으로 회귀모델을 구축하고 각 소문제의 값을 구하시오."
      ],
      "metadata": {
        "id": "2oQOOPYEuDSo"
      }
    },
    {
      "cell_type": "code",
      "source": [
        "import pandas as pd\n",
        "\n",
        "data = {\n",
        "    '키': [150, 160, 170, 175, 165, 155, 172, 168, 174, 158,\n",
        "          162, 173, 156, 159, 167, 163, 171, 169, 176, 161],\n",
        "    '몸무게': [42, 50, 70, 64, 56, 48, 68, 60, 65, 52,\n",
        "            54, 67, 49, 51, 58, 55, 69, 61, 66, 53]\n",
        "}\n",
        "df = pd.DataFrame(data)\n",
        "print(df.sample(5))"
      ],
      "metadata": {
        "id": "U7uBC3M4w8p4",
        "outputId": "0dd6384a-dd4d-46ef-8726-0f5cfad0b7d2",
        "colab": {
          "base_uri": "https://localhost:8080/"
        }
      },
      "execution_count": 58,
      "outputs": [
        {
          "output_type": "stream",
          "name": "stdout",
          "text": [
            "      키  몸무게\n",
            "10  162   54\n",
            "15  163   55\n",
            "1   160   50\n",
            "3   175   64\n",
            "5   155   48\n"
          ]
        }
      ]
    },
    {
      "cell_type": "code",
      "source": [
        "from statsmodels.formula.api import ols\n",
        "model = ols('키 ~ 몸무게',data=df).fit()\n",
        "print(model.summary())"
      ],
      "metadata": {
        "id": "l8tx_-S3xdYI",
        "outputId": "ce0f1535-03cd-4b9b-f4af-cf536031714a",
        "colab": {
          "base_uri": "https://localhost:8080/"
        }
      },
      "execution_count": 60,
      "outputs": [
        {
          "output_type": "stream",
          "name": "stdout",
          "text": [
            "                            OLS Regression Results                            \n",
            "==============================================================================\n",
            "Dep. Variable:                      키   R-squared:                       0.892\n",
            "Model:                            OLS   Adj. R-squared:                  0.886\n",
            "Method:                 Least Squares   F-statistic:                     148.0\n",
            "Date:                Fri, 08 Nov 2024   Prob (F-statistic):           4.04e-10\n",
            "Time:                        07:56:11   Log-Likelihood:                -45.761\n",
            "No. Observations:                  20   AIC:                             95.52\n",
            "Df Residuals:                      18   BIC:                             97.51\n",
            "Df Model:                           1                                         \n",
            "Covariance Type:            nonrobust                                         \n",
            "==============================================================================\n",
            "                 coef    std err          t      P>|t|      [0.025      0.975]\n",
            "------------------------------------------------------------------------------\n",
            "Intercept    115.0676      4.158     27.671      0.000     106.331     123.804\n",
            "몸무게            0.8658      0.071     12.167      0.000       0.716       1.015\n",
            "==============================================================================\n",
            "Omnibus:                        0.985   Durbin-Watson:                   2.609\n",
            "Prob(Omnibus):                  0.611   Jarque-Bera (JB):                0.336\n",
            "Skew:                          -0.315   Prob(JB):                        0.845\n",
            "Kurtosis:                       3.082   Cond. No.                         432.\n",
            "==============================================================================\n",
            "\n",
            "Notes:\n",
            "[1] Standard Errors assume that the covariance matrix of the errors is correctly specified.\n"
          ]
        }
      ]
    },
    {
      "cell_type": "code",
      "source": [
        "print(\"결정 계수:\", model.rsquared)"
      ],
      "metadata": {
        "id": "Luiymy81yy36",
        "outputId": "c7fc13bb-a2b1-4ab0-d18f-3dc28bcd1bb5",
        "colab": {
          "base_uri": "https://localhost:8080/"
        }
      },
      "execution_count": 61,
      "outputs": [
        {
          "output_type": "stream",
          "name": "stdout",
          "text": [
            "결정 계수: 0.8915914350087264\n"
          ]
        }
      ]
    },
    {
      "cell_type": "code",
      "source": [
        "print(\"기울기: \",model.params['몸무게'])\n",
        "print(\"절편: \",model.params['Intercept'])"
      ],
      "metadata": {
        "id": "_nK5MHt-y4cm",
        "outputId": "f56d123a-76b0-4721-8daa-192a1bcb8a72",
        "colab": {
          "base_uri": "https://localhost:8080/"
        }
      },
      "execution_count": 63,
      "outputs": [
        {
          "output_type": "stream",
          "name": "stdout",
          "text": [
            "기울기:  0.8658438852380201\n",
            "절편:  115.06763904471865\n"
          ]
        }
      ]
    },
    {
      "cell_type": "code",
      "source": [
        "print(\"지수 표기법, p-value:\",model.pvalues['몸무게'])\n",
        "print(\"일반 표기법, p-value:\",\"{:.10f}\".format(model.pvalues['몸무게']))"
      ],
      "metadata": {
        "id": "Bsf1m6uxzU3H",
        "outputId": "68dd62ba-0bc9-4d6b-aeb7-39731498eedf",
        "colab": {
          "base_uri": "https://localhost:8080/"
        }
      },
      "execution_count": 66,
      "outputs": [
        {
          "output_type": "stream",
          "name": "stdout",
          "text": [
            "지수 표기법, p-value: 4.0379325599303615e-10\n",
            "일반 표기법, p-value: 0.0000000004\n"
          ]
        }
      ]
    },
    {
      "cell_type": "code",
      "source": [
        "new_data = pd.DataFrame({'몸무게':[67]})\n",
        "result = model.predict(new_data)\n",
        "print(\"몸무게가 67일때의 예측 키 :\",result[0])"
      ],
      "metadata": {
        "id": "DRGUsHkfz8Au",
        "outputId": "60a64c14-0213-4cc1-b384-36cccdb32280",
        "colab": {
          "base_uri": "https://localhost:8080/"
        }
      },
      "execution_count": 69,
      "outputs": [
        {
          "output_type": "stream",
          "name": "stdout",
          "text": [
            "몸무게가 67일때의 예측 키 : 173.07917935566599\n"
          ]
        }
      ]
    },
    {
      "cell_type": "code",
      "source": [
        "df['잔차'] = df['키'] - model.predict(df)\n",
        "print(\"잔차 제곱합: \",sum(df['잔차']**2))\n",
        "\n",
        "df['잔차'] = df['키'] - model.predict(df)\n",
        "MSE = (df['잔차']**2).mean()\n",
        "print('MSE: ',MSE)"
      ],
      "metadata": {
        "id": "SmGEG1t20Yam",
        "outputId": "06d80a00-1398-4479-b6f2-a28257637217",
        "colab": {
          "base_uri": "https://localhost:8080/"
        }
      },
      "execution_count": 71,
      "outputs": [
        {
          "output_type": "stream",
          "name": "stdout",
          "text": [
            "잔차 제곱합:  113.74226638884431\n",
            "MSE:  5.687113319442214\n"
          ]
        }
      ]
    },
    {
      "cell_type": "code",
      "source": [
        "# MSE(Mean Squared Error) : 평균 제곱 오차로 잔차의 평균\n",
        "from sklearn.metrics import mean_squared_error\n",
        "pred = model.predict(df['몸무게'])\n",
        "mse = mean_squared_error(df['키'],pred)\n",
        "print('MSE: ',mse)"
      ],
      "metadata": {
        "id": "ZVVCCkRW0yYL",
        "outputId": "0c3a68dc-a9a1-4d1c-ae20-bbd60116bb04",
        "colab": {
          "base_uri": "https://localhost:8080/"
        }
      },
      "execution_count": 73,
      "outputs": [
        {
          "output_type": "stream",
          "name": "stdout",
          "text": [
            "MSE:  5.687113319442214\n"
          ]
        }
      ]
    },
    {
      "cell_type": "code",
      "source": [
        "# 몸무게 95% 신뢰 구간을 구하시오\n",
        "print('신뢰구간 \\n',model.conf_int(alpha=0.05).loc['몸무게'])"
      ],
      "metadata": {
        "id": "wZKBERze1Juu",
        "outputId": "7bf139fb-4109-46cf-e3a5-7f874e8cb5ed",
        "colab": {
          "base_uri": "https://localhost:8080/"
        }
      },
      "execution_count": 74,
      "outputs": [
        {
          "output_type": "stream",
          "name": "stdout",
          "text": [
            "신뢰구간 \n",
            " 0    0.716337\n",
            "1    1.015351\n",
            "Name: 몸무게, dtype: float64\n"
          ]
        }
      ]
    },
    {
      "cell_type": "code",
      "source": [
        "# 몸무게가 50일 때 예측 키의 신뢰 구간과 예측 구간의 구하시오.\n",
        "new_data = pd.DataFrame({\"몸무게\":[50]})\n",
        "# 예측값과 예측 구간\n",
        "pred = model.get_prediction(new_data)\n",
        "# 신뢰구간 95%\n",
        "result = pred.summary_frame(alpha=0.05)\n",
        "print(\"예측값의 신뢰구간 예측구간:\\n\",result)"
      ],
      "metadata": {
        "id": "Yf2gGS0Z1WUx",
        "outputId": "afffdcf6-94f0-4b92-c205-c2c29cf1dcc8",
        "colab": {
          "base_uri": "https://localhost:8080/"
        }
      },
      "execution_count": 76,
      "outputs": [
        {
          "output_type": "stream",
          "name": "stdout",
          "text": [
            "예측값의 신뢰구간 예측구간:\n",
            "          mean   mean_se  mean_ci_lower  mean_ci_upper  obs_ci_lower  \\\n",
            "0  158.359833  0.794986      156.68963     160.030037    152.820798   \n",
            "\n",
            "   obs_ci_upper  \n",
            "0    163.898869  \n"
          ]
        }
      ]
    }
  ],
  "metadata": {
    "celltoolbar": "Edit Metadata",
    "kernelspec": {
      "display_name": "Python 3 (ipykernel)",
      "language": "python",
      "name": "python3"
    },
    "language_info": {
      "codemirror_mode": {
        "name": "ipython",
        "version": 3
      },
      "file_extension": ".py",
      "mimetype": "text/x-python",
      "name": "python",
      "nbconvert_exporter": "python",
      "pygments_lexer": "ipython3",
      "version": "3.8.18"
    },
    "colab": {
      "provenance": [],
      "name": "Part02_Mulit_Classification.ipynb"
    }
  },
  "nbformat": 4,
  "nbformat_minor": 0
}