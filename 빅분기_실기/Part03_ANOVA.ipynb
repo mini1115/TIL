{
  "cells": [
    {
      "cell_type": "markdown",
      "source": [
        "## 분산 분석\n",
        "--------------\n",
        "### 01.일원 분산 분석\n",
        "    3개 이상의 집단 간의 평균 차이가 통계적으로 유의한지 검정하는 방법이다.\n",
        "    집단을 나누는 요인이 하나고 집단의 수가 3개 이상일 때 사용한다.\n",
        "------------------------------\n",
        "#### 1. 기본 가정\n",
        "  - 독립성 : 각 집단의 관측치들은 모든 다른 집단의 관측치들과 독립적이다.(기본 가정)\n",
        "  - 정규성 : 각 집단에서의 관측치는 정규 분포를 따른다.(Shapiro-Wilk Test)\n",
        "  - 등분산성 : 모든 집단에서의 관측치는 동일한 분산을 가진다.(Levene Test)\n",
        "-----------------\n",
        "#### 2. 귀무가설과 대립가설\n",
        "  - 귀무가설(H0) 모든 집단의 평균은 동일하다.\n",
        "  - 대립가설(H1) 집단간의 평균은 차이가 있다.\n",
        "\n",
        "#### 3. 일원 분산 분석\n",
        "```python\n",
        "scipy.stats.f_oneway(sample1,sample2,sample3,...)\n",
        "```\n",
        "-------------------------\n",
        "Q. 주어진 데이터는 4종류의 비료를 사용한 식물의 성장에 대한 실험 결과다.\n",
        "이 실험에서는 비슷한 조건의 식물 40개를 무작위로 10개씩 나누고 화학 비료 A,B,C,D를 일정기간 사용한 후 성장량을 측정했다. 성장의 차이가 있는지 유의수준 0.05 하에서 검정하시오.\n",
        "\n",
        "- 귀무가설 : 4가지의 비료 효과는 동일하다.\n",
        "- 대립가설 : 비료의 효과에는 차이가 있다.(적어도 두 가지 비료의 효과에는 차이가 있다."
      ],
      "metadata": {
        "id": "aNKA1aSIY7_h"
      }
    },
    {
      "cell_type": "code",
      "source": [
        "import pandas as pd\n",
        "df = pd.DataFrame({\n",
        "    'A': [10.5, 11.3, 10.8, 9.6, 11.1, 10.2, 10.9, 11.4, 10.5, 10.3],\n",
        "    'B': [11.9, 12.4, 12.1, 13.2, 12.5, 11.8, 12.2, 12.9, 12.4, 12.3],\n",
        "    'C': [11.2, 11.7, 11.6, 10.9, 11.3, 11.1, 10.8, 11.5, 11.4, 11.0],\n",
        "    'D': [9.8, 9.4, 9.1, 9.5, 9.6, 9.9, 9.2, 9.7, 9.3, 9.4]\n",
        "})\n",
        "print(df.head(2))"
      ],
      "metadata": {
        "id": "6KTw2e9pagg2",
        "outputId": "924b9fea-3e6b-436d-8ddb-5c39c38efd45",
        "colab": {
          "base_uri": "https://localhost:8080/"
        }
      },
      "execution_count": 26,
      "outputs": [
        {
          "output_type": "stream",
          "name": "stdout",
          "text": [
            "      A     B     C    D\n",
            "0  10.5  11.9  11.2  9.8\n",
            "1  11.3  12.4  11.7  9.4\n"
          ]
        }
      ]
    },
    {
      "cell_type": "code",
      "source": [
        "from scipy import stats\n",
        "print(stats.shapiro(df['A']))\n",
        "print(stats.shapiro(df['B']))\n",
        "print(stats.shapiro(df['C']))\n",
        "print(stats.shapiro(df['D']))\n",
        "\n",
        "print(\"\\n=====등분산성 검정=======\")\n",
        "print(stats.levene(df['A'],df['B'],df['C'],df['D']))\n",
        "\n",
        "print(\"\\n=====일원 분산분석=======\")\n",
        "print(stats.f_oneway(df['A'],df['B'],df['C'],df['D']))"
      ],
      "metadata": {
        "id": "2J_lvaZnaynS",
        "outputId": "db9cad2c-18aa-47c3-99e6-de5d6b36ecb6",
        "colab": {
          "base_uri": "https://localhost:8080/"
        }
      },
      "execution_count": 31,
      "outputs": [
        {
          "output_type": "stream",
          "name": "stdout",
          "text": [
            "ShapiroResult(statistic=0.9649054066073813, pvalue=0.8400161543468654)\n",
            "ShapiroResult(statistic=0.9468040874196029, pvalue=0.6308700692815115)\n",
            "ShapiroResult(statistic=0.9701646110856055, pvalue=0.892367306190296)\n",
            "ShapiroResult(statistic=0.9752339025839644, pvalue=0.9346854448707653)\n",
            "\n",
            "=====등분산성 검정=======\n",
            "LeveneResult(statistic=1.9355354288758708, pvalue=0.14127835331346628)\n",
            "\n",
            "=====일원 분산분석=======\n",
            "F_onewayResult(statistic=89.12613851177174, pvalue=1.001838152252373e-16)\n"
          ]
        }
      ]
    },
    {
      "cell_type": "code",
      "source": [
        "from google.colab import files\n",
        "uploaded = files.upload()"
      ],
      "metadata": {
        "id": "U5QP-ZtBcIMS",
        "outputId": "e40706fb-3d99-44c4-9b1d-78f8630fe10d",
        "colab": {
          "base_uri": "https://localhost:8080/",
          "height": 76
        }
      },
      "execution_count": 44,
      "outputs": [
        {
          "output_type": "display_data",
          "data": {
            "text/plain": [
              "<IPython.core.display.HTML object>"
            ],
            "text/html": [
              "\n",
              "     <input type=\"file\" id=\"files-a6bf3bae-603f-4d04-8b0f-3946cc7d9b87\" name=\"files[]\" multiple disabled\n",
              "        style=\"border:none\" />\n",
              "     <output id=\"result-a6bf3bae-603f-4d04-8b0f-3946cc7d9b87\">\n",
              "      Upload widget is only available when the cell has been executed in the\n",
              "      current browser session. Please rerun this cell to enable.\n",
              "      </output>\n",
              "      <script>// Copyright 2017 Google LLC\n",
              "//\n",
              "// Licensed under the Apache License, Version 2.0 (the \"License\");\n",
              "// you may not use this file except in compliance with the License.\n",
              "// You may obtain a copy of the License at\n",
              "//\n",
              "//      http://www.apache.org/licenses/LICENSE-2.0\n",
              "//\n",
              "// Unless required by applicable law or agreed to in writing, software\n",
              "// distributed under the License is distributed on an \"AS IS\" BASIS,\n",
              "// WITHOUT WARRANTIES OR CONDITIONS OF ANY KIND, either express or implied.\n",
              "// See the License for the specific language governing permissions and\n",
              "// limitations under the License.\n",
              "\n",
              "/**\n",
              " * @fileoverview Helpers for google.colab Python module.\n",
              " */\n",
              "(function(scope) {\n",
              "function span(text, styleAttributes = {}) {\n",
              "  const element = document.createElement('span');\n",
              "  element.textContent = text;\n",
              "  for (const key of Object.keys(styleAttributes)) {\n",
              "    element.style[key] = styleAttributes[key];\n",
              "  }\n",
              "  return element;\n",
              "}\n",
              "\n",
              "// Max number of bytes which will be uploaded at a time.\n",
              "const MAX_PAYLOAD_SIZE = 100 * 1024;\n",
              "\n",
              "function _uploadFiles(inputId, outputId) {\n",
              "  const steps = uploadFilesStep(inputId, outputId);\n",
              "  const outputElement = document.getElementById(outputId);\n",
              "  // Cache steps on the outputElement to make it available for the next call\n",
              "  // to uploadFilesContinue from Python.\n",
              "  outputElement.steps = steps;\n",
              "\n",
              "  return _uploadFilesContinue(outputId);\n",
              "}\n",
              "\n",
              "// This is roughly an async generator (not supported in the browser yet),\n",
              "// where there are multiple asynchronous steps and the Python side is going\n",
              "// to poll for completion of each step.\n",
              "// This uses a Promise to block the python side on completion of each step,\n",
              "// then passes the result of the previous step as the input to the next step.\n",
              "function _uploadFilesContinue(outputId) {\n",
              "  const outputElement = document.getElementById(outputId);\n",
              "  const steps = outputElement.steps;\n",
              "\n",
              "  const next = steps.next(outputElement.lastPromiseValue);\n",
              "  return Promise.resolve(next.value.promise).then((value) => {\n",
              "    // Cache the last promise value to make it available to the next\n",
              "    // step of the generator.\n",
              "    outputElement.lastPromiseValue = value;\n",
              "    return next.value.response;\n",
              "  });\n",
              "}\n",
              "\n",
              "/**\n",
              " * Generator function which is called between each async step of the upload\n",
              " * process.\n",
              " * @param {string} inputId Element ID of the input file picker element.\n",
              " * @param {string} outputId Element ID of the output display.\n",
              " * @return {!Iterable<!Object>} Iterable of next steps.\n",
              " */\n",
              "function* uploadFilesStep(inputId, outputId) {\n",
              "  const inputElement = document.getElementById(inputId);\n",
              "  inputElement.disabled = false;\n",
              "\n",
              "  const outputElement = document.getElementById(outputId);\n",
              "  outputElement.innerHTML = '';\n",
              "\n",
              "  const pickedPromise = new Promise((resolve) => {\n",
              "    inputElement.addEventListener('change', (e) => {\n",
              "      resolve(e.target.files);\n",
              "    });\n",
              "  });\n",
              "\n",
              "  const cancel = document.createElement('button');\n",
              "  inputElement.parentElement.appendChild(cancel);\n",
              "  cancel.textContent = 'Cancel upload';\n",
              "  const cancelPromise = new Promise((resolve) => {\n",
              "    cancel.onclick = () => {\n",
              "      resolve(null);\n",
              "    };\n",
              "  });\n",
              "\n",
              "  // Wait for the user to pick the files.\n",
              "  const files = yield {\n",
              "    promise: Promise.race([pickedPromise, cancelPromise]),\n",
              "    response: {\n",
              "      action: 'starting',\n",
              "    }\n",
              "  };\n",
              "\n",
              "  cancel.remove();\n",
              "\n",
              "  // Disable the input element since further picks are not allowed.\n",
              "  inputElement.disabled = true;\n",
              "\n",
              "  if (!files) {\n",
              "    return {\n",
              "      response: {\n",
              "        action: 'complete',\n",
              "      }\n",
              "    };\n",
              "  }\n",
              "\n",
              "  for (const file of files) {\n",
              "    const li = document.createElement('li');\n",
              "    li.append(span(file.name, {fontWeight: 'bold'}));\n",
              "    li.append(span(\n",
              "        `(${file.type || 'n/a'}) - ${file.size} bytes, ` +\n",
              "        `last modified: ${\n",
              "            file.lastModifiedDate ? file.lastModifiedDate.toLocaleDateString() :\n",
              "                                    'n/a'} - `));\n",
              "    const percent = span('0% done');\n",
              "    li.appendChild(percent);\n",
              "\n",
              "    outputElement.appendChild(li);\n",
              "\n",
              "    const fileDataPromise = new Promise((resolve) => {\n",
              "      const reader = new FileReader();\n",
              "      reader.onload = (e) => {\n",
              "        resolve(e.target.result);\n",
              "      };\n",
              "      reader.readAsArrayBuffer(file);\n",
              "    });\n",
              "    // Wait for the data to be ready.\n",
              "    let fileData = yield {\n",
              "      promise: fileDataPromise,\n",
              "      response: {\n",
              "        action: 'continue',\n",
              "      }\n",
              "    };\n",
              "\n",
              "    // Use a chunked sending to avoid message size limits. See b/62115660.\n",
              "    let position = 0;\n",
              "    do {\n",
              "      const length = Math.min(fileData.byteLength - position, MAX_PAYLOAD_SIZE);\n",
              "      const chunk = new Uint8Array(fileData, position, length);\n",
              "      position += length;\n",
              "\n",
              "      const base64 = btoa(String.fromCharCode.apply(null, chunk));\n",
              "      yield {\n",
              "        response: {\n",
              "          action: 'append',\n",
              "          file: file.name,\n",
              "          data: base64,\n",
              "        },\n",
              "      };\n",
              "\n",
              "      let percentDone = fileData.byteLength === 0 ?\n",
              "          100 :\n",
              "          Math.round((position / fileData.byteLength) * 100);\n",
              "      percent.textContent = `${percentDone}% done`;\n",
              "\n",
              "    } while (position < fileData.byteLength);\n",
              "  }\n",
              "\n",
              "  // All done.\n",
              "  yield {\n",
              "    response: {\n",
              "      action: 'complete',\n",
              "    }\n",
              "  };\n",
              "}\n",
              "\n",
              "scope.google = scope.google || {};\n",
              "scope.google.colab = scope.google.colab || {};\n",
              "scope.google.colab._files = {\n",
              "  _uploadFiles,\n",
              "  _uploadFilesContinue,\n",
              "};\n",
              "})(self);\n",
              "</script> "
            ]
          },
          "metadata": {}
        },
        {
          "output_type": "stream",
          "name": "stdout",
          "text": [
            "Saving tree.csv to tree.csv\n"
          ]
        }
      ]
    },
    {
      "cell_type": "code",
      "source": [
        "import pandas as pd\n",
        "df = pd.read_csv(\"fertilizer.csv\")"
      ],
      "metadata": {
        "id": "1QrHpdqWcMkr"
      },
      "execution_count": 42,
      "outputs": []
    },
    {
      "cell_type": "code",
      "source": [
        "from statsmodels.formula.api import ols\n",
        "from statsmodels.stats.anova import anova_lm\n",
        "model = ols('성장 ~ C(비료)', df).fit()\n",
        "print(anova_lm(model))"
      ],
      "metadata": {
        "id": "_U_nhz6TcRi1",
        "outputId": "f9f7b28d-7727-45f9-e4cf-594797e5147f",
        "colab": {
          "base_uri": "https://localhost:8080/"
        }
      },
      "execution_count": 43,
      "outputs": [
        {
          "output_type": "stream",
          "name": "stdout",
          "text": [
            "            df    sum_sq    mean_sq          F        PR(>F)\n",
            "C(비료)      3.0  43.21875  14.406250  89.126139  1.001838e-16\n",
            "Residual  36.0   5.81900   0.161639        NaN           NaN\n"
          ]
        }
      ]
    },
    {
      "cell_type": "markdown",
      "source": [
        "### 02.이원 분산 분석\n",
        "    요인수가 2개인 경우이다. 예시) 학습 방법과 장소에 따른 성적 분석하는 경우\n",
        "    왜 일원 분산 분석을 두 번하지 않고 이원 분산 분석을 하는가?\n",
        "    1종 오류가 커지기 때문이다. 독립 표본 t-검정을 반복하지 않고 일원 분산 분석을 하는 것과 같다.\n",
        "------------------------------\n",
        "#### 1. 기본 가정\n",
        "  - 독립성 : 각 집단의 관측치들은 모든 다른 집단의 관측치들과 독립적이다.(기본 가정)\n",
        "  - 정규성 : 각 집단에서의 관측치는 정규 분포를 따른다.(Shapiro-Wilk Test)\n",
        "  - 등분산성 : 모든 집단에서의 관측치는 동일한 분산을 가진다.(Levene Test)\n",
        "-----------------\n",
        "#### 2. 귀무가설과 대립가설\n",
        "    주 효과뿐만 아니라 상호작용 효과에도 관심을 둔다.\n",
        "    학습 방법과 학습 장소를 요인으로 이원 분산 분석을 실시한 경우\n",
        "    주 효과 2개, 상호작용 효과 1개로 다음과 같이 세가지 가설을 세울 수 있다.\n",
        "  - 주효과 : A 요인(예: 학습방법)\n",
        "    - 귀무가설(H0) 학습 방법에 따라 성적 차이가 없다.\n",
        "    - 대립가설(H1) 학습 방법에 따라 성적 차이가 있다.\n",
        "  - 주효과 : B 요인(예: 학습 장소)\n",
        "    - 귀무가설(H0) 학습 장소에 따라 성적 차이가 없다.\n",
        "    - 대립가설(H1) 학습 장소에 따라 성적 차이가 있다.\n",
        "  - 상호작용 효과\n",
        "    - 귀무가설(H0) A 요인과 B 요인 간에 상호작용이 없다.\n",
        "    - 대립가설(H1) A 요인과 B 요인 간에 상호작용이 있다.\n",
        "\n",
        "```python\n",
        "model = ols(종속변수 ~ C(요인1) + C(요인2) + C(요인1):C(요인2)).fit()\n",
        "annova_lm(model,typ=숫자)\n",
        "```\n",
        "- 종속변수 : 연속형 변수\n",
        "- 요인1 : 첫 번째 독립변수(범주형 변수)\n",
        "- 요인2 : 두 번째 독립변수(범주형 변수)\n",
        "- typ=1 : 변수의 순서에 따른 분석(기본값)\n",
        "- typ=2 : 각 변수 독립적인 효과 분석\n",
        "- typ=3 : 모든 변수와 상호작용을 동시에 고려해 분석\n",
        "\n",
        "--------------------------------\n",
        "Q. 데이터는 네 가지 종류의 나무(A,B,C,D)에 대해 세 가지 종류의 비료(1,2,3)를 사용해 성장률을 조사한 결과다. 비료 간 및 나무 종류 간의 성장률 차이가 있는지 유의수준 0.05 하에서 검정하시오.(단, 독립성,정규성,등분산성에 만족한 데이터)\n",
        "\n",
        "- 나무(주 효과)\n",
        "  - 귀무가설 : 모든 나무 종류의 성장률은 동일하다.\n",
        "  - 대립가설 : 나무 종류의 성장률에는 차이가 있다.\n",
        "- 비료(주 효과)\n",
        "  - 귀무가설 : 모든 비료의 성장률 효과는 동일하다.\n",
        "  - 대립가설 : 비료의 성장률 효과에는 차이가 있다.\n",
        "- 상호작용 효과\n",
        "  - 귀무가설 : 나무 종류와 비료 간의 상호작용은 성장률에 영향을 주지 않는다.\n",
        "  - 대립가설 : 나무 종류와 비료 간에는 성장률에 영향을 주는 상호작용이 있다.\n"
      ],
      "metadata": {
        "id": "8zPPkbexeTYO"
      }
    },
    {
      "cell_type": "code",
      "source": [
        "import pandas as pd\n",
        "df = pd.read_csv(\"tree.csv\")\n",
        "print(df.sample(10))"
      ],
      "metadata": {
        "id": "6gTxy71ckzyx",
        "outputId": "9b9af7c6-d2a4-4337-ca8f-87d5618bc583",
        "colab": {
          "base_uri": "https://localhost:8080/"
        }
      },
      "execution_count": 56,
      "outputs": [
        {
          "output_type": "stream",
          "name": "stdout",
          "text": [
            "   나무  비료        성장률\n",
            "10  A   2  48.365823\n",
            "7   A   1  57.674347\n",
            "18  A   2  43.919759\n",
            "51  B   3  57.149177\n",
            "25  A   3  57.109226\n",
            "36  B   1  57.088636\n",
            "2   A   1  56.476885\n",
            "79  C   2  43.124311\n",
            "42  B   2  56.843517\n",
            "77  C   2  60.009926\n"
          ]
        }
      ]
    },
    {
      "cell_type": "code",
      "source": [
        "import statsmodels.api as sm\n",
        "from statsmodels.formula.api import ols\n",
        "\n",
        "model = ols('성장률 ~ 나무 + 비료 + 나무:비료',data=df).fit()\n",
        "anova_table = sm.stats.anova_lm(model)\n",
        "print(anova_table)"
      ],
      "metadata": {
        "id": "2gbntstphCjo",
        "outputId": "1349ce76-fe19-48f6-850e-120458784d39",
        "colab": {
          "base_uri": "https://localhost:8080/"
        }
      },
      "execution_count": 57,
      "outputs": [
        {
          "output_type": "stream",
          "name": "stdout",
          "text": [
            "             df       sum_sq      mean_sq          F        PR(>F)\n",
            "나무          3.0  4783.353938  1594.451313  18.391274  9.016693e-10\n",
            "비료          1.0   873.322002   873.322002  10.073374  1.942421e-03\n",
            "나무:비료       3.0   394.801585   131.600528   1.517952  2.137666e-01\n",
            "Residual  112.0  9709.960792    86.696078        NaN           NaN\n"
          ]
        }
      ]
    },
    {
      "cell_type": "code",
      "source": [
        "model = ols('성장률 ~ C(나무) + C(비료) + C(나무):C(비료)',data=df).fit() //  ~ C(나무) * C(비료) : 가능하다.\n",
        "anova_table = sm.stats.anova_lm(model)\n",
        "print(anova_table)"
      ],
      "metadata": {
        "id": "BnTiNl0VkfU1",
        "outputId": "5f57e917-fe52-4c78-c2e5-a4c19c59c6f3",
        "colab": {
          "base_uri": "https://localhost:8080/"
        }
      },
      "execution_count": 58,
      "outputs": [
        {
          "output_type": "stream",
          "name": "stdout",
          "text": [
            "                df       sum_sq      mean_sq          F        PR(>F)\n",
            "C(나무)          3.0  4783.353938  1594.451313  18.855528  6.600012e-10\n",
            "C(비료)          2.0  1127.924259   563.962129   6.669256  1.857612e-03\n",
            "C(나무):C(비료)    6.0   717.520672   119.586779   1.414199  2.157357e-01\n",
            "Residual     108.0  9132.639448    84.561476        NaN           NaN\n"
          ]
        }
      ]
    }
  ],
  "metadata": {
    "celltoolbar": "Edit Metadata",
    "kernelspec": {
      "display_name": "Python 3 (ipykernel)",
      "language": "python",
      "name": "python3"
    },
    "language_info": {
      "codemirror_mode": {
        "name": "ipython",
        "version": 3
      },
      "file_extension": ".py",
      "mimetype": "text/x-python",
      "name": "python",
      "nbconvert_exporter": "python",
      "pygments_lexer": "ipython3",
      "version": "3.8.18"
    },
    "colab": {
      "provenance": [],
      "name": "Part02_Mulit_Classification.ipynb"
    }
  },
  "nbformat": 4,
  "nbformat_minor": 0
}